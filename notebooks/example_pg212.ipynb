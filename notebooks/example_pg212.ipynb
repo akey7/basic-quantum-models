{
 "cells": [
  {
   "cell_type": "code",
   "execution_count": 1,
   "id": "7e402c7e-8388-4a96-b045-9f30fb569b93",
   "metadata": {},
   "outputs": [],
   "source": [
    "from sympy import Symbol, symbols, oo, diff, Function, integrate\n",
    "from sympy.matrices import Matrix\n",
    "from sympy.solvers import solve\n",
    "from math import pi"
   ]
  },
  {
   "cell_type": "code",
   "execution_count": 2,
   "id": "81e97268-ffe0-4030-8f81-603a44d29942",
   "metadata": {},
   "outputs": [],
   "source": [
    "x, l, h_bar, m, W, h = symbols('x l h_bar m W h')"
   ]
  },
  {
   "cell_type": "markdown",
   "id": "06c5b934-9168-4056-8aed-3789361b7f67",
   "metadata": {},
   "source": [
    "$$ f_1 = x (l - x) $$\n",
    "$$ f_2 = x^2 (l-x)^2 $$\n",
    "$$ f_3 = x(l -x)\\biggl(\\frac{1}{2}l - x\\biggr) $$\n",
    "$$ f_4 = x^2 (l-x)^2\\biggl(\\frac{1}{2}l - x\\biggr) $$\n",
    "$$ \\hat{H} = -\\frac{\\hbar^2}{2 m} \\frac{d^2}{dx^2} $$"
   ]
  },
  {
   "cell_type": "markdown",
   "id": "e1835030-2461-4216-acb2-edee292b8dfb",
   "metadata": {},
   "source": [
    "## Evaluate H integrals"
   ]
  },
  {
   "cell_type": "code",
   "execution_count": 3,
   "id": "830f267a-1d49-4443-940a-df8380337a19",
   "metadata": {},
   "outputs": [
    {
     "data": {
      "text/latex": [
       "$\\displaystyle \\frac{h_{bar}^{2} l^{3}}{6 m}$"
      ],
      "text/plain": [
       "h_bar**2*l**3/(6*m)"
      ]
     },
     "execution_count": 3,
     "metadata": {},
     "output_type": "execute_result"
    }
   ],
   "source": [
    "H11 = (-h_bar**2 / (2*m)) * integrate(x*(l-x) * diff(x*(l-x), x, 2), (x, 0, l))\n",
    "H11"
   ]
  },
  {
   "cell_type": "code",
   "execution_count": 4,
   "id": "a3f0fad9-ccc1-492a-8bed-6f05e3a28ecf",
   "metadata": {},
   "outputs": [
    {
     "data": {
      "text/latex": [
       "$\\displaystyle \\frac{h_{bar}^{2} l^{5}}{30 m}$"
      ],
      "text/plain": [
       "h_bar**2*l**5/(30*m)"
      ]
     },
     "execution_count": 4,
     "metadata": {},
     "output_type": "execute_result"
    }
   ],
   "source": [
    "H12 = (-h_bar**2 / (2*m)) * integrate(x*(l-x) * diff(x**2 * (l-x)**2, x, 2), (x, 0, l))\n",
    "H12"
   ]
  },
  {
   "cell_type": "code",
   "execution_count": 5,
   "id": "7367ea6e-d4bd-4405-b387-ed0e25433c69",
   "metadata": {},
   "outputs": [
    {
     "data": {
      "text/latex": [
       "$\\displaystyle \\frac{h_{bar}^{2} l^{5}}{30 m}$"
      ],
      "text/plain": [
       "h_bar**2*l**5/(30*m)"
      ]
     },
     "execution_count": 5,
     "metadata": {},
     "output_type": "execute_result"
    }
   ],
   "source": [
    "H21 = (-h_bar**2 / (2*m)) * integrate(x**2 * (l-x)**2 * diff(x*(l-x), x, 2), (x, 0, l))\n",
    "H21"
   ]
  },
  {
   "cell_type": "code",
   "execution_count": 6,
   "id": "71619f35-0cc2-4d97-9cef-30b428cf256d",
   "metadata": {},
   "outputs": [
    {
     "data": {
      "text/latex": [
       "$\\displaystyle \\frac{h_{bar}^{2} l^{7}}{105 m}$"
      ],
      "text/plain": [
       "h_bar**2*l**7/(105*m)"
      ]
     },
     "execution_count": 6,
     "metadata": {},
     "output_type": "execute_result"
    }
   ],
   "source": [
    "H22 = (-h_bar**2 / (2*m)) * integrate(x**2 * (l-x)**2 * diff(x**2 * (l-x)**2, x, 2), (x, 0, l))\n",
    "H22"
   ]
  },
  {
   "cell_type": "code",
   "execution_count": 7,
   "id": "39c1b541-00c8-4151-a82b-0034bb965fe1",
   "metadata": {},
   "outputs": [
    {
     "data": {
      "text/latex": [
       "$\\displaystyle \\frac{0.0249999999999999 h_{bar}^{2} l^{5}}{m}$"
      ],
      "text/plain": [
       "0.0249999999999999*h_bar**2*l**5/m"
      ]
     },
     "execution_count": 7,
     "metadata": {},
     "output_type": "execute_result"
    }
   ],
   "source": [
    "H33 = (-h_bar**2 / (2*m)) * integrate(x*(l-x)*(0.5*l-x) * diff(x*(l-x)*(0.5*l-x), x, 2), (x, 0, l))\n",
    "H33"
   ]
  },
  {
   "cell_type": "code",
   "execution_count": 8,
   "id": "2a025feb-c245-4727-8dbe-07ae30f6d02e",
   "metadata": {},
   "outputs": [
    {
     "data": {
      "text/latex": [
       "$\\displaystyle \\frac{0.003571428571429 h_{bar}^{2} l^{7}}{m}$"
      ],
      "text/plain": [
       "0.003571428571429*h_bar**2*l**7/m"
      ]
     },
     "execution_count": 8,
     "metadata": {},
     "output_type": "execute_result"
    }
   ],
   "source": [
    "H34 = (-h_bar**2 / (2*m)) * integrate(x*(l-x)*(0.5*l-x) * diff(x**2 * (l-x)**2 * (0.5*l-x), x, 2), (x, 0, l))\n",
    "H34"
   ]
  },
  {
   "cell_type": "code",
   "execution_count": 9,
   "id": "fcc8d63a-53c6-45ed-9cca-1c080a2f32a1",
   "metadata": {},
   "outputs": [
    {
     "data": {
      "text/latex": [
       "$\\displaystyle \\frac{0.003571428571429 h_{bar}^{2} l^{7}}{m}$"
      ],
      "text/plain": [
       "0.003571428571429*h_bar**2*l**7/m"
      ]
     },
     "execution_count": 9,
     "metadata": {},
     "output_type": "execute_result"
    }
   ],
   "source": [
    "H43 = (-h_bar**2 / (2*m)) * integrate(x**2 * (l-x)**2 * (0.5*l-x) * diff(x*(l-x) * (0.5*l-x), x, 2), (x, 0, l))\n",
    "H43"
   ]
  },
  {
   "cell_type": "code",
   "execution_count": 10,
   "id": "a0ab0878-6b04-4a36-a4c2-1184451a5e02",
   "metadata": {},
   "outputs": [
    {
     "data": {
      "text/latex": [
       "$\\displaystyle \\frac{0.003571428571429 h_{bar}^{2} l^{7}}{m}$"
      ],
      "text/plain": [
       "0.003571428571429*h_bar**2*l**7/m"
      ]
     },
     "execution_count": 10,
     "metadata": {},
     "output_type": "execute_result"
    }
   ],
   "source": [
    "H43 = (-h_bar**2 / (2*m)) * integrate(x**2 * (l-x)**2 * (0.5*l-x) * diff(x * (l-x) * (0.5*l-x), x, 2), (x, 0, l))\n",
    "H43"
   ]
  },
  {
   "cell_type": "code",
   "execution_count": 11,
   "id": "c400384f-46ec-4996-93b2-996a5a6c5520",
   "metadata": {},
   "outputs": [
    {
     "data": {
      "text/latex": [
       "$\\displaystyle \\frac{0.000793650793649903 h_{bar}^{2} l^{9}}{m}$"
      ],
      "text/plain": [
       "0.000793650793649903*h_bar**2*l**9/m"
      ]
     },
     "execution_count": 11,
     "metadata": {},
     "output_type": "execute_result"
    }
   ],
   "source": [
    "H44 = (-h_bar**2 / (2*m)) * integrate(x**2 * (l-x)**2 * (0.5*l-x) * diff(x**2 * (l-x)**2 * (0.5*l-x), x, 2), (x, 0, l))\n",
    "H44"
   ]
  },
  {
   "cell_type": "markdown",
   "id": "9699c72e-e21e-4283-9d33-b7351e18163e",
   "metadata": {},
   "source": [
    "## Evaluate S integrals"
   ]
  },
  {
   "cell_type": "code",
   "execution_count": 12,
   "id": "7e2e277e-3044-45da-85c1-5c30fc4eb992",
   "metadata": {},
   "outputs": [
    {
     "data": {
      "text/latex": [
       "$\\displaystyle \\frac{l^{5}}{30}$"
      ],
      "text/plain": [
       "l**5/30"
      ]
     },
     "execution_count": 12,
     "metadata": {},
     "output_type": "execute_result"
    }
   ],
   "source": [
    "S11 = integrate((x *(l-x))**2, (x, 0, l))\n",
    "S11"
   ]
  },
  {
   "cell_type": "code",
   "execution_count": 13,
   "id": "e7b22032-caf7-44b3-8c76-12cdfac871e7",
   "metadata": {},
   "outputs": [
    {
     "data": {
      "text/latex": [
       "$\\displaystyle \\frac{l^{7}}{140}$"
      ],
      "text/plain": [
       "l**7/140"
      ]
     },
     "execution_count": 13,
     "metadata": {},
     "output_type": "execute_result"
    }
   ],
   "source": [
    "S12 = integrate((x * (l-x)) * (x**2 * (l-x)**2), (x, 0, l))\n",
    "S21 = S12\n",
    "S12"
   ]
  },
  {
   "cell_type": "code",
   "execution_count": 14,
   "id": "da50fa5c-924b-450b-8a2a-63a04667532b",
   "metadata": {},
   "outputs": [
    {
     "data": {
      "text/latex": [
       "$\\displaystyle \\frac{l^{9}}{630}$"
      ],
      "text/plain": [
       "l**9/630"
      ]
     },
     "execution_count": 14,
     "metadata": {},
     "output_type": "execute_result"
    }
   ],
   "source": [
    "S22 = integrate((x**2 * (l-x)**2)**2, (x, 0, l))\n",
    "S22"
   ]
  },
  {
   "cell_type": "code",
   "execution_count": 15,
   "id": "93f3b102-48c8-4c83-b167-dde37cc06397",
   "metadata": {},
   "outputs": [
    {
     "data": {
      "text/latex": [
       "$\\displaystyle 0.0011904761904763 l^{7}$"
      ],
      "text/plain": [
       "0.0011904761904763*l**7"
      ]
     },
     "execution_count": 15,
     "metadata": {},
     "output_type": "execute_result"
    }
   ],
   "source": [
    "S33 = integrate((x*(l-x)*(0.5*l-x))**2, (x, 0, l))\n",
    "S33"
   ]
  },
  {
   "cell_type": "code",
   "execution_count": 16,
   "id": "89e71e26-2039-4e70-a18a-43425f39233a",
   "metadata": {},
   "outputs": [
    {
     "data": {
      "text/latex": [
       "$\\displaystyle 0.000198412698412753 l^{9}$"
      ],
      "text/plain": [
       "0.000198412698412753*l**9"
      ]
     },
     "execution_count": 16,
     "metadata": {},
     "output_type": "execute_result"
    }
   ],
   "source": [
    "S34 = integrate((x*(l-x)*(0.5*l-x)) * (x**2*(l-x)**2*(0.5*l-x)), (x, 0, l))\n",
    "S43 = S34\n",
    "S34"
   ]
  },
  {
   "cell_type": "code",
   "execution_count": 17,
   "id": "7138626b-09d8-4119-9be9-336f5327296e",
   "metadata": {},
   "outputs": [
    {
     "data": {
      "text/latex": [
       "$\\displaystyle 3.60750360750006 \\cdot 10^{-5} l^{11}$"
      ],
      "text/plain": [
       "3.60750360750006e-5*l**11"
      ]
     },
     "execution_count": 17,
     "metadata": {},
     "output_type": "execute_result"
    }
   ],
   "source": [
    "S44 = integrate((x**2*(l-x)**2*(0.5*l-x))**2, (x, 0, l))\n",
    "S44"
   ]
  },
  {
   "cell_type": "markdown",
   "id": "212fbfb4-a348-43f9-8892-cd9cf5f650b5",
   "metadata": {},
   "source": [
    "## Matrices and Determinants"
   ]
  },
  {
   "cell_type": "code",
   "execution_count": 18,
   "id": "eecd51b9-121f-41e2-a3fa-36fa68dd7b20",
   "metadata": {},
   "outputs": [
    {
     "data": {
      "text/latex": [
       "$\\displaystyle \\left[\\begin{matrix}- \\frac{W l^{5}}{30} + \\frac{h_{bar}^{2} l^{3}}{6 m} & - \\frac{W l^{7}}{140} + \\frac{h_{bar}^{2} l^{5}}{30 m}\\\\- \\frac{W l^{7}}{140} + \\frac{h_{bar}^{2} l^{5}}{30 m} & - \\frac{W l^{9}}{630} + \\frac{h_{bar}^{2} l^{7}}{105 m}\\end{matrix}\\right]$"
      ],
      "text/plain": [
       "Matrix([\n",
       "[  -W*l**5/30 + h_bar**2*l**3/(6*m),  -W*l**7/140 + h_bar**2*l**5/(30*m)],\n",
       "[-W*l**7/140 + h_bar**2*l**5/(30*m), -W*l**9/630 + h_bar**2*l**7/(105*m)]])"
      ]
     },
     "execution_count": 18,
     "metadata": {},
     "output_type": "execute_result"
    }
   ],
   "source": [
    "M1 = Matrix([[H11-S11*W, H12-S12*W], [H21 - S21*W, H22-S22*W]])\n",
    "M1"
   ]
  },
  {
   "cell_type": "code",
   "execution_count": 19,
   "id": "bd8a50da-6021-4c09-baee-5fbba3cd678e",
   "metadata": {},
   "outputs": [
    {
     "data": {
      "text/latex": [
       "$\\displaystyle \\left[\\begin{matrix}- 0.0011904761904763 W l^{7} + \\frac{0.0249999999999999 h_{bar}^{2} l^{5}}{m} & - 0.000198412698412753 W l^{9} + \\frac{0.003571428571429 h_{bar}^{2} l^{7}}{m}\\\\- 0.000198412698412753 W l^{9} + \\frac{0.003571428571429 h_{bar}^{2} l^{7}}{m} & - 3.60750360750006 \\cdot 10^{-5} W l^{11} + \\frac{0.000793650793649903 h_{bar}^{2} l^{9}}{m}\\end{matrix}\\right]$"
      ],
      "text/plain": [
       "Matrix([\n",
       "[ -0.0011904761904763*W*l**7 + 0.0249999999999999*h_bar**2*l**5/m,    -0.000198412698412753*W*l**9 + 0.003571428571429*h_bar**2*l**7/m],\n",
       "[-0.000198412698412753*W*l**9 + 0.003571428571429*h_bar**2*l**7/m, -3.60750360750006e-5*W*l**11 + 0.000793650793649903*h_bar**2*l**9/m]])"
      ]
     },
     "execution_count": 19,
     "metadata": {},
     "output_type": "execute_result"
    }
   ],
   "source": [
    "M2 = Matrix([[H33-S33*W, H34-S34*W], [H43-S43*W, H44-S44*W]])\n",
    "M2"
   ]
  },
  {
   "cell_type": "code",
   "execution_count": 20,
   "id": "bcac39fd-4d1b-442c-879e-b188bec5d995",
   "metadata": {},
   "outputs": [
    {
     "data": {
      "text/latex": [
       "$\\displaystyle \\frac{W^{2} l^{14} m^{2} - 56 W h_{bar}^{2} l^{12} m + 252 h_{bar}^{4} l^{10}}{529200 m^{2}}$"
      ],
      "text/plain": [
       "(W**2*l**14*m**2 - 56*W*h_bar**2*l**12*m + 252*h_bar**4*l**10)/(529200*m**2)"
      ]
     },
     "execution_count": 20,
     "metadata": {},
     "output_type": "execute_result"
    }
   ],
   "source": [
    "M1.det()"
   ]
  },
  {
   "cell_type": "code",
   "execution_count": 21,
   "id": "be9748ea-95cd-4524-880e-cf40dd140673",
   "metadata": {},
   "outputs": [
    {
     "data": {
      "text/latex": [
       "$\\displaystyle \\frac{1.0 \\left(3.57887262643157 \\cdot 10^{-9} W^{2} l^{18} m^{2} - 4.29464715176573 \\cdot 10^{-7} W h_{bar}^{2} l^{16} m + 7.08616780042809 \\cdot 10^{-6} h_{bar}^{4} l^{14}\\right)}{m^{2}}$"
      ],
      "text/plain": [
       "1.0*(3.57887262643157e-9*W**2*l**18*m**2 - 4.29464715176573e-7*W*h_bar**2*l**16*m + 7.08616780042809e-6*h_bar**4*l**14)/m**2"
      ]
     },
     "execution_count": 21,
     "metadata": {},
     "output_type": "execute_result"
    }
   ],
   "source": [
    "M2.det()"
   ]
  },
  {
   "cell_type": "code",
   "execution_count": 22,
   "id": "7ba991ff-73c5-40eb-97e1-f203619b479f",
   "metadata": {},
   "outputs": [],
   "source": [
    "W1, W2 = solve(M1.det(), W)\n",
    "W3, W4 = solve(M2.det(), W)"
   ]
  },
  {
   "cell_type": "code",
   "execution_count": 23,
   "id": "c3f3b0f3-abe1-4aea-a8e1-785f10cbb7ca",
   "metadata": {},
   "outputs": [
    {
     "data": {
      "text/latex": [
       "$\\displaystyle \\frac{2 h_{bar}^{2} \\left(14 - \\sqrt{133}\\right)}{l^{2} m}$"
      ],
      "text/plain": [
       "2*h_bar**2*(14 - sqrt(133))/(l**2*m)"
      ]
     },
     "execution_count": 23,
     "metadata": {},
     "output_type": "execute_result"
    }
   ],
   "source": [
    "W1"
   ]
  },
  {
   "cell_type": "code",
   "execution_count": 24,
   "id": "6e3fc10b-4e9f-4885-b3a6-21b5eb375424",
   "metadata": {},
   "outputs": [
    {
     "data": {
      "text/latex": [
       "$\\displaystyle \\frac{2 h_{bar}^{2} \\left(\\sqrt{133} + 14\\right)}{l^{2} m}$"
      ],
      "text/plain": [
       "2*h_bar**2*(sqrt(133) + 14)/(l**2*m)"
      ]
     },
     "execution_count": 24,
     "metadata": {},
     "output_type": "execute_result"
    }
   ],
   "source": [
    "W2"
   ]
  },
  {
   "cell_type": "code",
   "execution_count": 25,
   "id": "bbd09104-6835-427a-bfdf-3d4b29e209e7",
   "metadata": {},
   "outputs": [
    {
     "data": {
      "text/latex": [
       "$\\displaystyle \\frac{19.7507764050006 h_{bar}^{2}}{l^{2} m}$"
      ],
      "text/plain": [
       "19.7507764050006*h_bar**2/(l**2*m)"
      ]
     },
     "execution_count": 25,
     "metadata": {},
     "output_type": "execute_result"
    }
   ],
   "source": [
    "W3"
   ]
  },
  {
   "cell_type": "code",
   "execution_count": 26,
   "id": "1732dcf6-019c-41e7-b408-b9463d90d77e",
   "metadata": {},
   "outputs": [
    {
     "data": {
      "text/latex": [
       "$\\displaystyle \\frac{100.249223596336 h_{bar}^{2}}{l^{2} m}$"
      ],
      "text/plain": [
       "100.249223596336*h_bar**2/(l**2*m)"
      ]
     },
     "execution_count": 26,
     "metadata": {},
     "output_type": "execute_result"
    }
   ],
   "source": [
    "W4"
   ]
  },
  {
   "cell_type": "markdown",
   "id": "ee8ec9b0-d066-44ca-b6dc-54a724708097",
   "metadata": {},
   "source": [
    "## Exact solutions"
   ]
  },
  {
   "cell_type": "code",
   "execution_count": 27,
   "id": "543cb861-6de4-4d02-aeff-6b743ce62943",
   "metadata": {},
   "outputs": [],
   "source": [
    "def pib_E(n, m_pib=1, l_pib=1):\n",
    "    return n**2 * (6.626e-34)**2 / 8. / m_pib / l_pib**2\n",
    "\n",
    "def eval_W(symbol):\n",
    "    return symbol.subs({h_bar: 1.055e-34, m: 1., l: 1.}).evalf()"
   ]
  },
  {
   "cell_type": "code",
   "execution_count": 28,
   "id": "28339b97-04ee-44af-b61d-f25abfc59ad4",
   "metadata": {},
   "outputs": [],
   "source": [
    "W1_evalf = eval_W(W1)\n",
    "W2_evalf = eval_W(W2)\n",
    "W3_evalf = eval_W(W3)\n",
    "W4_evalf = eval_W(W4)"
   ]
  },
  {
   "cell_type": "code",
   "execution_count": 30,
   "id": "89885f52-058f-489d-a734-b61543c719a1",
   "metadata": {},
   "outputs": [
    {
     "name": "stdout",
     "output_type": "stream",
     "text": [
      "5.49263903613307e-68\n",
      "2.19831079081758e-67\n",
      "5.68367609638669e-67\n",
      "1.11579892093312e-66\n"
     ]
    }
   ],
   "source": [
    "print(W1_evalf)\n",
    "print(W3_evalf)\n",
    "print(W2_evalf)\n",
    "print(W4_evalf)"
   ]
  },
  {
   "cell_type": "code",
   "execution_count": 33,
   "id": "1aefc8bf-ef4d-4e94-90a0-549c60152b46",
   "metadata": {},
   "outputs": [
    {
     "data": {
      "text/latex": [
       "$\\displaystyle -0.0847413438686662$"
      ],
      "text/plain": [
       "-0.0847413438686662"
      ]
     },
     "execution_count": 33,
     "metadata": {},
     "output_type": "execute_result"
    }
   ],
   "source": [
    "(pib_E(1) / W1_evalf - 1.) * 100"
   ]
  },
  {
   "cell_type": "code",
   "execution_count": 34,
   "id": "51bb16c8-0916-4ea8-838c-91a2b1b0dca5",
   "metadata": {},
   "outputs": [
    {
     "data": {
      "text/latex": [
       "$\\displaystyle -0.141790270538589$"
      ],
      "text/plain": [
       "-0.141790270538589"
      ]
     },
     "execution_count": 34,
     "metadata": {},
     "output_type": "execute_result"
    }
   ],
   "source": [
    "(pib_E(2) / W3_evalf - 1.) * 100"
   ]
  },
  {
   "cell_type": "code",
   "execution_count": 35,
   "id": "6f5577c0-4170-4d23-ae7e-9bc04a5806a9",
   "metadata": {},
   "outputs": [
    {
     "data": {
      "text/latex": [
       "$\\displaystyle -13.098741620058$"
      ],
      "text/plain": [
       "-13.0987416200580"
      ]
     },
     "execution_count": 35,
     "metadata": {},
     "output_type": "execute_result"
    }
   ],
   "source": [
    "(pib_E(3) / W2_evalf - 1.) * 100"
   ]
  },
  {
   "cell_type": "code",
   "execution_count": 36,
   "id": "889437ae-5db4-425e-b79a-75ff0a2d72e2",
   "metadata": {},
   "outputs": [
    {
     "data": {
      "text/latex": [
       "$\\displaystyle -21.305039507864$"
      ],
      "text/plain": [
       "-21.3050395078640"
      ]
     },
     "execution_count": 36,
     "metadata": {},
     "output_type": "execute_result"
    }
   ],
   "source": [
    "(pib_E(4) / W4_evalf - 1.) * 100"
   ]
  },
  {
   "cell_type": "code",
   "execution_count": null,
   "id": "fd3e9f4a-eea6-4160-8b50-ee7d25ed90d9",
   "metadata": {},
   "outputs": [],
   "source": []
  }
 ],
 "metadata": {
  "kernelspec": {
   "display_name": "Python 3",
   "language": "python",
   "name": "python3"
  },
  "language_info": {
   "codemirror_mode": {
    "name": "ipython",
    "version": 3
   },
   "file_extension": ".py",
   "mimetype": "text/x-python",
   "name": "python",
   "nbconvert_exporter": "python",
   "pygments_lexer": "ipython3",
   "version": "3.9.5"
  }
 },
 "nbformat": 4,
 "nbformat_minor": 5
}
