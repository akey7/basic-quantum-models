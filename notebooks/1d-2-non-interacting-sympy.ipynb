{
 "cells": [
  {
   "cell_type": "markdown",
   "id": "4bf34135-f71f-4ade-9a09-7ffad4c239d1",
   "metadata": {},
   "source": [
    "## Purpose\n",
    "\n",
    "This notebook is a symbolic interpretation of the antisymmetric wavefunction, as opposed to purely numeric as is done in 1d-2-non-interacting."
   ]
  },
  {
   "cell_type": "code",
   "execution_count": 53,
   "id": "4a9bb458-9bc0-4751-8db8-191ff85ee7ad",
   "metadata": {},
   "outputs": [],
   "source": [
    "from sympy import symbols, sin, sqrt, pi, simplify\n",
    "import matplotlib.pyplot as plt\n",
    "import numpy as np"
   ]
  },
  {
   "cell_type": "markdown",
   "id": "3aeedaa1-6d0b-47ab-88ef-94970c83f11d",
   "metadata": {},
   "source": [
    "```\n",
    "return 2 / self.length * sin(na * pi * xa / self.length) * sin(nb * pi * xb / self.length)\n",
    "```"
   ]
  },
  {
   "cell_type": "code",
   "execution_count": 42,
   "id": "b95b3d46-7adc-42cf-aba7-9a0070ed43df",
   "metadata": {},
   "outputs": [],
   "source": [
    "l, na, xa, nb, xb = symbols('l na xa nb xb')"
   ]
  },
  {
   "cell_type": "code",
   "execution_count": 43,
   "id": "c1782cd2-9cca-45aa-bbc6-c51e1e33ada4",
   "metadata": {},
   "outputs": [
    {
     "data": {
      "text/latex": [
       "$\\displaystyle \\frac{2 \\sin{\\left(\\frac{\\pi na xa}{l} \\right)} \\sin{\\left(\\frac{\\pi nb xb}{l} \\right)}}{l}$"
      ],
      "text/plain": [
       "2*sin(pi*na*xa/l)*sin(pi*nb*xb/l)/l"
      ]
     },
     "execution_count": 43,
     "metadata": {},
     "output_type": "execute_result"
    }
   ],
   "source": [
    "psi = 2 / l * sin(na*pi*xa/l) * sin(nb*pi*xb/l)\n",
    "psi"
   ]
  },
  {
   "cell_type": "code",
   "execution_count": 44,
   "id": "5eba5ccd-0fe2-4315-8ca2-765e1ef8cff2",
   "metadata": {},
   "outputs": [
    {
     "data": {
      "text/latex": [
       "$\\displaystyle \\frac{2 \\sin{\\left(\\frac{\\pi xa}{l} \\right)} \\sin{\\left(\\frac{2 \\pi xb}{l} \\right)}}{l} - \\frac{2 \\sin{\\left(\\frac{2 \\pi xa}{l} \\right)} \\sin{\\left(\\frac{\\pi xb}{l} \\right)}}{l}$"
      ],
      "text/plain": [
       "2*sin(pi*xa/l)*sin(2*pi*xb/l)/l - 2*sin(2*pi*xa/l)*sin(pi*xb/l)/l"
      ]
     },
     "execution_count": 44,
     "metadata": {},
     "output_type": "execute_result"
    }
   ],
   "source": [
    "psi.subs({'na': 1, 'nb': 2}) - psi.subs({'na': 2, 'nb': 1})"
   ]
  },
  {
   "cell_type": "code",
   "execution_count": 45,
   "id": "5435cb1e-1280-45e6-94be-aa197a34225e",
   "metadata": {},
   "outputs": [
    {
     "data": {
      "text/latex": [
       "$\\displaystyle \\frac{2 \\sin{\\left(\\frac{\\pi xa}{l} \\right)} \\sin{\\left(\\frac{2 \\pi xb}{l} \\right)}}{l} + \\frac{2 \\sin{\\left(\\frac{2 \\pi xa}{l} \\right)} \\sin{\\left(\\frac{\\pi xb}{l} \\right)}}{l}$"
      ],
      "text/plain": [
       "2*sin(pi*xa/l)*sin(2*pi*xb/l)/l + 2*sin(2*pi*xa/l)*sin(pi*xb/l)/l"
      ]
     },
     "execution_count": 45,
     "metadata": {},
     "output_type": "execute_result"
    }
   ],
   "source": [
    "psi.subs({'na': 1, 'nb': 2}) + psi.subs({'na': 2, 'nb': 1})"
   ]
  },
  {
   "cell_type": "code",
   "execution_count": 46,
   "id": "b7fa77f6-ce81-424f-8b5b-5699da8e3651",
   "metadata": {},
   "outputs": [
    {
     "data": {
      "text/latex": [
       "$\\displaystyle \\frac{16 \\left(- \\cos{\\left(\\frac{\\pi xa}{l} \\right)} + \\cos{\\left(\\frac{\\pi xb}{l} \\right)}\\right)^{2} \\sin^{2}{\\left(\\frac{\\pi xa}{l} \\right)} \\sin^{2}{\\left(\\frac{\\pi xb}{l} \\right)}}{l^{2}}$"
      ],
      "text/plain": [
       "16*(-cos(pi*xa/l) + cos(pi*xb/l))**2*sin(pi*xa/l)**2*sin(pi*xb/l)**2/l**2"
      ]
     },
     "execution_count": 46,
     "metadata": {},
     "output_type": "execute_result"
    }
   ],
   "source": [
    "simplify((psi.subs({'na': 1, 'nb': 2}) - psi.subs({'na': 2, 'nb': 1})) ** 2)"
   ]
  },
  {
   "cell_type": "code",
   "execution_count": 47,
   "id": "ed873b5f-4121-404b-abdd-c44d1ccacde5",
   "metadata": {},
   "outputs": [
    {
     "data": {
      "text/latex": [
       "$\\displaystyle \\frac{16 \\left(\\cos{\\left(\\frac{\\pi xa}{l} \\right)} + \\cos{\\left(\\frac{\\pi xb}{l} \\right)}\\right)^{2} \\sin^{2}{\\left(\\frac{\\pi xa}{l} \\right)} \\sin^{2}{\\left(\\frac{\\pi xb}{l} \\right)}}{l^{2}}$"
      ],
      "text/plain": [
       "16*(cos(pi*xa/l) + cos(pi*xb/l))**2*sin(pi*xa/l)**2*sin(pi*xb/l)**2/l**2"
      ]
     },
     "execution_count": 47,
     "metadata": {},
     "output_type": "execute_result"
    }
   ],
   "source": [
    "simplify((psi.subs({'na': 1, 'nb': 2}) + psi.subs({'na': 2, 'nb': 1})) ** 2)"
   ]
  },
  {
   "cell_type": "code",
   "execution_count": 48,
   "id": "7456cbea-0fbe-46f4-8524-fa621f1b8d16",
   "metadata": {},
   "outputs": [
    {
     "data": {
      "text/latex": [
       "$\\displaystyle 8.0 \\left(\\cos{\\left(\\pi xa \\right)} + \\cos{\\left(\\pi xb \\right)}\\right)^{2} \\sin^{2}{\\left(\\pi xa \\right)} \\sin^{2}{\\left(\\pi xb \\right)}$"
      ],
      "text/plain": [
       "8.0*(cos(pi*xa) + cos(pi*xb))**2*sin(pi*xa)**2*sin(pi*xb)**2"
      ]
     },
     "execution_count": 48,
     "metadata": {},
     "output_type": "execute_result"
    }
   ],
   "source": [
    "symmetric = simplify((sqrt(0.5) * (psi.subs({'na': 1, 'nb': 2, 'l': 1}) + psi.subs({'na': 2, 'nb': 1, 'l': 1}))) ** 2)\n",
    "symmetric"
   ]
  },
  {
   "cell_type": "code",
   "execution_count": 49,
   "id": "4326d472-38c8-4912-99c0-26919c3f37f9",
   "metadata": {},
   "outputs": [
    {
     "data": {
      "text/latex": [
       "$\\displaystyle 8.0 \\left(- \\cos{\\left(\\pi xa \\right)} + \\cos{\\left(\\pi xb \\right)}\\right)^{2} \\sin^{2}{\\left(\\pi xa \\right)} \\sin^{2}{\\left(\\pi xb \\right)}$"
      ],
      "text/plain": [
       "8.0*(-cos(pi*xa) + cos(pi*xb))**2*sin(pi*xa)**2*sin(pi*xb)**2"
      ]
     },
     "execution_count": 49,
     "metadata": {},
     "output_type": "execute_result"
    }
   ],
   "source": [
    "antisymmetric = simplify((sqrt(0.5) * (psi.subs({'na': 1, 'nb': 2, 'l': 1}) - psi.subs({'na': 2, 'nb': 1, 'l': 1}))) ** 2)\n",
    "antisymmetric"
   ]
  },
  {
   "cell_type": "code",
   "execution_count": 50,
   "id": "fee42b8e-0597-4723-b5ff-9438e4012aaf",
   "metadata": {},
   "outputs": [
    {
     "data": {
      "text/latex": [
       "$\\displaystyle 2.0$"
      ],
      "text/plain": [
       "2.00000000000000"
      ]
     },
     "execution_count": 50,
     "metadata": {},
     "output_type": "execute_result"
    }
   ],
   "source": [
    "symmetric.subs({'xa': 0.5, 'xb':0.25})"
   ]
  },
  {
   "cell_type": "code",
   "execution_count": 37,
   "id": "af87f880-77f7-411b-b28b-c7a80658d98c",
   "metadata": {},
   "outputs": [
    {
     "data": {
      "text/latex": [
       "$\\displaystyle 2.0$"
      ],
      "text/plain": [
       "2.00000000000000"
      ]
     },
     "execution_count": 37,
     "metadata": {},
     "output_type": "execute_result"
    }
   ],
   "source": [
    "antisymmetric.subs({'xa': 0.5, 'xb':0.25})"
   ]
  },
  {
   "cell_type": "code",
   "execution_count": 51,
   "id": "e88369db-d9ae-4c69-ac62-a950ad10ec5c",
   "metadata": {},
   "outputs": [],
   "source": [
    "class TwoNonInteractingInABox:\n",
    "    \"\"\"\n",
    "    This class models two non-interacting particles in a one dimensional box.\n",
    "    \"\"\"\n",
    "    \n",
    "    def __init__(self, length=1):\n",
    "        \"\"\"\n",
    "        Mass and length can be in whatever units you like, but\n",
    "        make sure these units are consistent with each other\n",
    "        to give meaningful results.\n",
    "        \n",
    "        This class assumes the mass of each particle is the same.\n",
    "        \n",
    "        Parameters\n",
    "        ----------            \n",
    "        length: float\n",
    "            The length of the one-dimensional box\n",
    "        \"\"\"\n",
    "        self.length = length\n",
    "    \n",
    "    def wavefunction(self, na, nb, xa, xb):\n",
    "        \"\"\"\n",
    "        Returns the value of the wavefunction of the two non-interacting\n",
    "        particles.\n",
    "        \n",
    "        For xa and xb:\n",
    "        \n",
    "        0 < xa < self.length\n",
    "        0 < xb < self.length\n",
    "        \n",
    "        Parameters\n",
    "        ----------\n",
    "        na: int\n",
    "            The quantum number of particle a.\n",
    "        \n",
    "        nb: int\n",
    "            The quantum number of particle b.\n",
    "            \n",
    "        xa: float\n",
    "            The position of particle a.\n",
    "        \n",
    "        xb: float\n",
    "            The position of particle b.\n",
    "        \n",
    "        Returns\n",
    "        -------\n",
    "        float\n",
    "            value of the wavefunction.\n",
    "        \"\"\"\n",
    "        return 2 / self.length * sin(na * pi * xa / self.length) * sin(nb * pi * xb / self.length)\n",
    "    \n",
    "    def symmetric(self, na, nb, xa, xb):\n",
    "        \"\"\"\n",
    "        Returns the value symmetric wavefunction of the two non-interacting\n",
    "        particles.\n",
    "        \n",
    "        na: int\n",
    "            Quantum number of particle a.\n",
    "            \n",
    "        nb: int\n",
    "            Quantum number of particle b.\n",
    "            \n",
    "        xa: float\n",
    "            Position of particle a.\n",
    "            \n",
    "        xb: float\n",
    "            Position of particle b\n",
    "            \n",
    "        Returns\n",
    "        -------\n",
    "        float\n",
    "            Value of the symmetric wavefunction\n",
    "        \"\"\"\n",
    "        return sqrt(0.5) * (self.wavefunction(na, nb, xa, xb) + self.wavefunction(nb, na, xa, xb))\n",
    "    \n",
    "    def antisymmetric(self, na, nb, xa, xb):\n",
    "        \"\"\"\n",
    "        Returns the value antisymmetric wavefunction of the two non-interacting\n",
    "        particles.\n",
    "        \n",
    "        na: int\n",
    "            Quantum number of particle a.\n",
    "            \n",
    "        nb: int\n",
    "            Quantum number of particle b.\n",
    "            \n",
    "        xa: float\n",
    "            Position of particle a.\n",
    "            \n",
    "        xb: float\n",
    "            Position of particle b\n",
    "            \n",
    "        Returns\n",
    "        -------\n",
    "        float\n",
    "            Value of the antisymmetric wavefunction\n",
    "        \"\"\"\n",
    "        return sqrt(0.5) * (self.wavefunction(na, nb, xa, xb) - self.wavefunction(nb, na, xa, xb))\n",
    "    \n",
    "    def prob_density(self, na, nb, symmetric=True, points=100):\n",
    "        \"\"\"\n",
    "        Returns all the arrays to plot surface or contour plots of the \n",
    "        probability density as a function of xa and xb (the positions of\n",
    "        each particle).\n",
    "        \n",
    "        Parameters\n",
    "        ----------\n",
    "        na: int\n",
    "            Quantum number of particle a\n",
    "            \n",
    "        nb: int\n",
    "            Quantum number of particle b\n",
    "            \n",
    "        symmetric: bool\n",
    "            True if the symmetric probability density is needed. False if the\n",
    "            antisymmetric desnity is needed.\n",
    "        \n",
    "        points: int\n",
    "            How many points along each axis to sample on the surface.\n",
    "        \n",
    "        Returns\n",
    "        -------\n",
    "        np.array, np.array, np.array\n",
    "            First array is the 1d array of xa points. Second array is 1d array of\n",
    "            xb points. Third array is two dimensional array of probability density\n",
    "            at the intersection of the positions of the two particles.\n",
    "        \"\"\"\n",
    "        xas = np.linspace(0.0, self.length, points)\n",
    "        xbs = np.linspace(0.0, self.length, points)\n",
    "        zs = np.zeros((points, points), np.float64)\n",
    "        for ixa, xa in enumerate(xas):\n",
    "            for ixb, xb in enumerate(xbs):\n",
    "                if symmetric:\n",
    "                    zs[ixa, ixb] = self.symmetric(na, nb, xa, xb) ** 2\n",
    "                else:\n",
    "                    zs[ixa, ixb] = self.antisymmetric(na, nb, xa, xb) ** 2\n",
    "        return xas, xbs, zs"
   ]
  },
  {
   "cell_type": "code",
   "execution_count": 54,
   "id": "893a700f-943f-432b-81b3-d8f34078e74e",
   "metadata": {},
   "outputs": [
    {
     "ename": "NameError",
     "evalue": "name 'cm' is not defined",
     "output_type": "error",
     "traceback": [
      "\u001b[0;31m---------------------------------------------------------------------------\u001b[0m",
      "\u001b[0;31mNameError\u001b[0m                                 Traceback (most recent call last)",
      "\u001b[0;32m<ipython-input-54-b2c63d2ab516>\u001b[0m in \u001b[0;36m<module>\u001b[0;34m\u001b[0m\n\u001b[1;32m     11\u001b[0m         \u001b[0max\u001b[0m\u001b[0;34m.\u001b[0m\u001b[0mset_ylabel\u001b[0m\u001b[0;34m(\u001b[0m\u001b[0;34m'xb'\u001b[0m\u001b[0;34m,\u001b[0m \u001b[0msize\u001b[0m\u001b[0;34m=\u001b[0m\u001b[0;36m15\u001b[0m\u001b[0;34m)\u001b[0m\u001b[0;34m\u001b[0m\u001b[0;34m\u001b[0m\u001b[0m\n\u001b[1;32m     12\u001b[0m         \u001b[0max\u001b[0m\u001b[0;34m.\u001b[0m\u001b[0mset_title\u001b[0m\u001b[0;34m(\u001b[0m\u001b[0;34mf'(Ψs{na},{nb})^2'\u001b[0m\u001b[0;34m,\u001b[0m \u001b[0msize\u001b[0m\u001b[0;34m=\u001b[0m\u001b[0;36m15\u001b[0m\u001b[0;34m,\u001b[0m \u001b[0mcolor\u001b[0m\u001b[0;34m=\u001b[0m\u001b[0;34m'b'\u001b[0m\u001b[0;34m)\u001b[0m\u001b[0;34m\u001b[0m\u001b[0;34m\u001b[0m\u001b[0m\n\u001b[0;32m---> 13\u001b[0;31m         \u001b[0mcs\u001b[0m \u001b[0;34m=\u001b[0m \u001b[0max\u001b[0m\u001b[0;34m.\u001b[0m\u001b[0mcontour\u001b[0m\u001b[0;34m(\u001b[0m\u001b[0mys\u001b[0m\u001b[0;34m,\u001b[0m \u001b[0mxs\u001b[0m\u001b[0;34m,\u001b[0m \u001b[0mzs\u001b[0m\u001b[0;34m,\u001b[0m \u001b[0mcmap\u001b[0m\u001b[0;34m=\u001b[0m\u001b[0mcm\u001b[0m\u001b[0;34m.\u001b[0m\u001b[0mcoolwarm\u001b[0m\u001b[0;34m,\u001b[0m \u001b[0mantialiased\u001b[0m\u001b[0;34m=\u001b[0m\u001b[0;32mTrue\u001b[0m\u001b[0;34m)\u001b[0m\u001b[0;34m\u001b[0m\u001b[0;34m\u001b[0m\u001b[0m\n\u001b[0m\u001b[1;32m     14\u001b[0m         \u001b[0max\u001b[0m\u001b[0;34m.\u001b[0m\u001b[0mclabel\u001b[0m\u001b[0;34m(\u001b[0m\u001b[0mcs\u001b[0m\u001b[0;34m,\u001b[0m \u001b[0minline\u001b[0m\u001b[0;34m=\u001b[0m\u001b[0;32mTrue\u001b[0m\u001b[0;34m,\u001b[0m \u001b[0mfontsize\u001b[0m\u001b[0;34m=\u001b[0m\u001b[0;36m10\u001b[0m\u001b[0;34m)\u001b[0m\u001b[0;34m\u001b[0m\u001b[0;34m\u001b[0m\u001b[0m\n",
      "\u001b[0;31mNameError\u001b[0m: name 'cm' is not defined"
     ]
    },
    {
     "data": {
      "image/png": "[encoded data removed]",
      "text/plain": [
       "<Figure size 1080x1080 with 9 Axes>"
      ]
     },
     "metadata": {
      "needs_background": "light"
     },
     "output_type": "display_data"
    }
   ],
   "source": [
    "box = TwoNonInteractingInABox(length=1.0)\n",
    "fig, axs = plt.subplots(nrows=3, ncols=3, figsize=(15, 15), sharex=True, sharey=True)\n",
    "nas = [1, 2, 3]\n",
    "nbs = [1, 2, 3]\n",
    "for ina, na in enumerate(nas):\n",
    "    for inb, nb in enumerate(nbs):\n",
    "        xas, xbs, zs = box.prob_density(na=na, nb=nb, symmetric=True)\n",
    "        xs, ys = np.meshgrid(xas, xbs)\n",
    "        ax = axs[ina, inb]\n",
    "        ax.set_xlabel('xa', size=15)\n",
    "        ax.set_ylabel('xb', size=15)\n",
    "        ax.set_title(f'(Ψs{na},{nb})^2', size=15, color='b')\n",
    "        cs = ax.contour(ys, xs, zs, cmap=cm.coolwarm, antialiased=True)\n",
    "        ax.clabel(cs, inline=True, fontsize=10)"
   ]
  },
  {
   "cell_type": "code",
   "execution_count": null,
   "id": "fe3ca3ed-174b-4b67-950a-09ad63bc8cb1",
   "metadata": {},
   "outputs": [],
   "source": []
  }
 ],
 "metadata": {
  "kernelspec": {
   "display_name": "Python 3",
   "language": "python",
   "name": "python3"
  },
  "language_info": {
   "codemirror_mode": {
    "name": "ipython",
    "version": 3
   },
   "file_extension": ".py",
   "mimetype": "text/x-python",
   "name": "python",
   "nbconvert_exporter": "python",
   "pygments_lexer": "ipython3",
   "version": "3.9.5"
  }
 },
 "nbformat": 4,
 "nbformat_minor": 5
}
