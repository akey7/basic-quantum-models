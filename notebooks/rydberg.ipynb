{
 "cells": [
  {
   "cell_type": "code",
   "execution_count": 1,
   "id": "83e4c1c9-007a-4ce0-926a-cb800d0b6ad0",
   "metadata": {},
   "outputs": [],
   "source": [
    "import matplotlib.pyplot as plt"
   ]
  },
  {
   "cell_type": "markdown",
   "id": "db553096-ec10-4efc-9e4f-5f624e404092",
   "metadata": {},
   "source": [
    "# Hydrogen spectra using Rydberg Formula\n",
    "\n",
    "The Rydberg formula is used to predict emission spectrum lines from hydrogen. Find out more about the Rydberg formula used for hydrogen at: [https://en.wikipedia.org/wiki/Rydberg_formula#For_hydrogen](https://en.wikipedia.org/wiki/Rydberg_formula#For_hydrogen)\n",
    "\n",
    "$$ \\tilde\\nu = R_H\\Biggl(\\frac{1}{n_{1}^2} + \\frac{1}{n_{2}^2}\\Biggr)$$\n",
    "\n",
    "Where \\\\(\\tilde\\nu\\\\) is the wavenumber in \\\\(cm^{-1}\\\\) and \\\\(R_H = 109,677 cm^{-1}\\\\). See *Physical Chemistry, 8th ed* by Atkins and de Paula, page 320 for this equation.\n",
    "\n",
    "[On this page](https://www.powertechnology.com/calculators/) I found that you could convert wavenumbers in inverse centimeters to nanometers with \\\\(\\lambda = \\frac{10^7}{\\tilde\\nu}\\\\), with wavelength in nanometers. Search for the keyword \"nanometer\".\n",
    "\n",
    "These spectra are not empirical values, but rather calculated using the Rydberg formula."
   ]
  },
  {
   "cell_type": "code",
   "execution_count": 2,
   "id": "959b7e2b-efd2-47e7-9ce1-2ac834d7d9f4",
   "metadata": {},
   "outputs": [],
   "source": [
    "def rydberg_nm(n1, n2):\n",
    "    \"\"\"\n",
    "    Calculates the Rydberg wavenumber between n1 and n2.\n",
    "\n",
    "    Parameters\n",
    "    ----------\n",
    "    n1: int\n",
    "        The n1 level\n",
    "\n",
    "    n2: int\n",
    "        The n2 level\n",
    "\n",
    "    Returns\n",
    "    -------\n",
    "    float\n",
    "        Nanometer wavelength of the transition\n",
    "    \"\"\"\n",
    "    rh = 109677  # cm^-1, Rydberg constant \n",
    "    t1 = 1 / n1 ** 2\n",
    "    t2 = 1 / n2 ** 2\n",
    "    wavenumber = rh * (t1 - t2)\n",
    "    return 1 / wavenumber * 1e7"
   ]
  },
  {
   "cell_type": "markdown",
   "id": "e56de582-3956-4776-8b7b-6d7e1b1bd44b",
   "metadata": {},
   "source": [
    "## Lyman series\n",
    "\n",
    "[https://en.wikipedia.org/wiki/Lyman_series](https://en.wikipedia.org/wiki/Lyman_series)"
   ]
  },
  {
   "cell_type": "code",
   "execution_count": 3,
   "id": "a6408185-106d-444d-be18-9494ce868f08",
   "metadata": {},
   "outputs": [
    {
     "name": "stdout",
     "output_type": "stream",
     "text": [
      "n1=1, n2=2, nm=121.56909227398026\n",
      "n1=1, n2=3, nm=102.57392160617086\n",
      "n1=1, n2=4, nm=97.25527381918421\n",
      "n1=1, n2=5, nm=94.97585333904709\n",
      "n1=1, n2=6, nm=93.78187118278477\n",
      "n1=1, n2=7, nm=93.07633627226615\n",
      "n1=1, n2=8, nm=92.62407030398496\n",
      "n1=1, n2=9, nm=92.31652944555377\n",
      "n1=1, n2=10, nm=92.09779717725777\n",
      "n1=1, n2=11, nm=91.93662603219758\n"
     ]
    },
    {
     "data": {
      "image/png": "[encoded data removed]",
      "text/plain": [
       "<Figure size 864x144 with 1 Axes>"
      ]
     },
     "metadata": {
      "needs_background": "light"
     },
     "output_type": "display_data"
    }
   ],
   "source": [
    "lyman_n2s = range (2, 12)\n",
    "lyman = [rydberg_nm(1, n2) for n2 in lyman_n2s]\n",
    "for nm, n2 in zip(lyman, lyman_n2s):\n",
    "    print(f'n1=1, n2={n2}, nm={nm}')\n",
    "fig, ax = plt.subplots(nrows=1, ncols=1, figsize=(12, 2))\n",
    "ax.set_title('Lyman Series', color='b', size=20)\n",
    "ax.set_yticks([])\n",
    "ax.set_xlim(90, 130)\n",
    "ax.set_xlabel(\"nm\", size=20, color='b')\n",
    "for nm in lyman:\n",
    "    ax.axvline(nm, color='r')"
   ]
  },
  {
   "cell_type": "markdown",
   "id": "ab0a7014-ad98-4cd0-a62f-78a93b8e779b",
   "metadata": {},
   "source": [
    "## Balmer series\n",
    "\n",
    "[https://en.wikipedia.org/wiki/Balmer_series](https://en.wikipedia.org/wiki/Balmer_series)"
   ]
  },
  {
   "cell_type": "code",
   "execution_count": 4,
   "id": "6a6f7b2a-f18d-463c-93be-3711b910a60b",
   "metadata": {},
   "outputs": [
    {
     "name": "stdout",
     "output_type": "stream",
     "text": [
      "n1=2, n2=3, nm=656.4730982794933\n",
      "n1=2, n2=4, nm=486.27636909592104\n",
      "n1=2, n2=5, nm=434.1753295499296\n",
      "n1=2, n2=6, nm=410.2956864246834\n",
      "n1=2, n2=7, nm=397.12570142833556\n",
      "n1=2, n2=8, nm=389.02109527673684\n",
      "n1=2, n2=9, nm=383.6531093841195\n"
     ]
    },
    {
     "data": {
      "image/png": "[encoded data removed]",
      "text/plain": [
       "<Figure size 864x144 with 1 Axes>"
      ]
     },
     "metadata": {
      "needs_background": "light"
     },
     "output_type": "display_data"
    }
   ],
   "source": [
    "balmer_n2s = range(3, 10)\n",
    "balmer = [rydberg_nm(2, n2) for n2 in balmer_n2s]\n",
    "for nm, n2 in zip(balmer, balmer_n2s):\n",
    "    print(f'n1=2, n2={n2}, nm={nm}')\n",
    "fig, ax = plt.subplots(nrows=1, ncols=1, figsize=(12, 2))\n",
    "ax.set_title('Balmer Series', color='b', size=20)\n",
    "ax.set_yticks([])\n",
    "ax.set_xlim(350, 700)\n",
    "ax.set_xlabel(\"nm\", size=20, color='b')\n",
    "for nm in balmer:\n",
    "    ax.axvline(nm, color='r')"
   ]
  },
  {
   "cell_type": "code",
   "execution_count": 5,
   "id": "6dda28f6-5e1a-40e3-bae7-1b6fdd0b80b1",
   "metadata": {},
   "outputs": [
    {
     "name": "stdout",
     "output_type": "stream",
     "text": [
      "n1=2, n2=4 nm=1875.6374236556956\n",
      "n1=2, n2=5 nm=1282.1740200771358\n",
      "n1=2, n2=6 nm=1094.1218304658223\n",
      "n1=2, n2=7 nm=1005.2244317404744\n",
      "n1=2, n2=8 nm=954.8699611338087\n"
     ]
    },
    {
     "data": {
      "image/png": "[encoded data removed]",
      "text/plain": [
       "<Figure size 864x144 with 1 Axes>"
      ]
     },
     "metadata": {
      "needs_background": "light"
     },
     "output_type": "display_data"
    }
   ],
   "source": [
    "paschen_n2s = range(4, 9)\n",
    "paschen = [rydberg_nm(3, n2) for n2 in paschen_n2s]\n",
    "for nm, n2 in zip(paschen, paschen_n2s):\n",
    "    print(f'n1=2, n2={n2} nm={nm}')\n",
    "fig, ax = plt.subplots(nrows=1, ncols=1, figsize=(12, 2))\n",
    "ax.set_title('Paschen Series', color='b', size=20)\n",
    "ax.set_yticks([])\n",
    "ax.set_xlim(800, 1900)\n",
    "ax.set_xlabel(\"nm\", size=20, color='b')\n",
    "for nm in paschen:\n",
    "    ax.axvline(nm, color='r')"
   ]
  },
  {
   "cell_type": "code",
   "execution_count": null,
   "id": "3e8626c0-944b-4718-8aa9-7be50baf440b",
   "metadata": {},
   "outputs": [],
   "source": []
  }
 ],
 "metadata": {
  "kernelspec": {
   "display_name": "Python 3",
   "language": "python",
   "name": "python3"
  },
  "language_info": {
   "codemirror_mode": {
    "name": "ipython",
    "version": 3
   },
   "file_extension": ".py",
   "mimetype": "text/x-python",
   "name": "python",
   "nbconvert_exporter": "python",
   "pygments_lexer": "ipython3",
   "version": "3.9.5"
  }
 },
 "nbformat": 4,
 "nbformat_minor": 5
}
