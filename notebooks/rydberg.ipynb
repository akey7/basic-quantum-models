{
 "cells": [
  {
   "cell_type": "markdown",
   "id": "db553096-ec10-4efc-9e4f-5f624e404092",
   "metadata": {},
   "source": [
    "# Hydrogen spectra using Rydberg Formula"
   ]
  },
  {
   "cell_type": "code",
   "execution_count": 6,
   "id": "959b7e2b-efd2-47e7-9ce1-2ac834d7d9f4",
   "metadata": {},
   "outputs": [],
   "source": [
    "def rydberg_nm(n1, n2):\n",
    "    \"\"\"\n",
    "    Calculates the Rydberg wavenumber between n1 and n2.\n",
    "\n",
    "    Conversion from wavenumbers formula found at:\n",
    "    https://www.powertechnology.com/calculators/\n",
    "\n",
    "    Parameters\n",
    "    ----------\n",
    "    n1: int\n",
    "        The n1 level\n",
    "\n",
    "    n2: int\n",
    "        The n2 level\n",
    "\n",
    "    Returns\n",
    "    -------\n",
    "    float\n",
    "        Nanometer wavelength of the transition\n",
    "    \"\"\"\n",
    "    rh = 109677  # cm^-1, Rydberg constant \n",
    "    t1 = 1 / n1 ** 2\n",
    "    t2 = 1 / n2 ** 2\n",
    "    wavenumber = rh * (t1 - t2)\n",
    "    return 1 / wavenumber * 1e7"
   ]
  },
  {
   "cell_type": "markdown",
   "id": "e56de582-3956-4776-8b7b-6d7e1b1bd44b",
   "metadata": {},
   "source": [
    "## Lyman series\n",
    "\n",
    "[https://en.wikipedia.org/wiki/Lyman_series](https://en.wikipedia.org/wiki/Lyman_series)"
   ]
  },
  {
   "cell_type": "code",
   "execution_count": 7,
   "id": "a6408185-106d-444d-be18-9494ce868f08",
   "metadata": {},
   "outputs": [],
   "source": [
    "lyman = [rydberg_nm(1, n2) for n2 in range (2, 12)]"
   ]
  },
  {
   "cell_type": "code",
   "execution_count": null,
   "id": "9d838ebe-0e77-46fb-95fc-b0597e46f020",
   "metadata": {},
   "outputs": [],
   "source": []
  }
 ],
 "metadata": {
  "kernelspec": {
   "display_name": "Python 3",
   "language": "python",
   "name": "python3"
  },
  "language_info": {
   "codemirror_mode": {
    "name": "ipython",
    "version": 3
   },
   "file_extension": ".py",
   "mimetype": "text/x-python",
   "name": "python",
   "nbconvert_exporter": "python",
   "pygments_lexer": "ipython3",
   "version": "3.9.5"
  }
 },
 "nbformat": 4,
 "nbformat_minor": 5
}
