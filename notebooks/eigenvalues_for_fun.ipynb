{
 "cells": [
  {
   "cell_type": "code",
   "execution_count": 1,
   "id": "940bb9f0-6361-46a8-a3a0-64b784fc91c1",
   "metadata": {},
   "outputs": [],
   "source": [
    "import numpy as np\n",
    "from numpy.linalg import eig\n",
    "from math import sqrt"
   ]
  },
  {
   "cell_type": "code",
   "execution_count": 2,
   "id": "b65b836c-03d5-41de-bbae-44d14ff5eabf",
   "metadata": {},
   "outputs": [
    {
     "data": {
      "text/plain": [
       "array([[3.+0.j, 0.+2.j],\n",
       "       [0.-2.j, 0.+0.j]])"
      ]
     },
     "execution_count": 2,
     "metadata": {},
     "output_type": "execute_result"
    }
   ],
   "source": [
    "A = np.array([[3., complex(0., 2.)], [complex(0.,-2.), 0.]])\n",
    "A"
   ]
  },
  {
   "cell_type": "code",
   "execution_count": 3,
   "id": "b526789e-b1e2-4199-9baf-892df4b98700",
   "metadata": {},
   "outputs": [],
   "source": [
    "w, v = eig(A)"
   ]
  },
  {
   "cell_type": "code",
   "execution_count": 19,
   "id": "53c201af-d434-47fc-8aae-b49a35ec1556",
   "metadata": {},
   "outputs": [],
   "source": [
    "c_2_1 = complex(0., -1./sqrt(5))\n",
    "c_2_2 = complex(2./sqrt(5), 0.)"
   ]
  },
  {
   "cell_type": "code",
   "execution_count": 20,
   "id": "6cf4eb67-17c6-4788-b573-0b137c4fb5cd",
   "metadata": {},
   "outputs": [],
   "source": [
    "c_1_1 = complex(0., 2/sqrt(5))\n",
    "c_1_2 = complex(1./sqrt(5), 0.)"
   ]
  },
  {
   "cell_type": "code",
   "execution_count": 21,
   "id": "75e9cc5e-cfd5-459e-949d-79c07826da1f",
   "metadata": {},
   "outputs": [
    {
     "data": {
      "text/plain": [
       "array([[0.        +0.89442719j, 0.        -0.4472136j ],\n",
       "       [0.4472136 +0.j        , 0.89442719+0.j        ]])"
      ]
     },
     "execution_count": 21,
     "metadata": {},
     "output_type": "execute_result"
    }
   ],
   "source": [
    "C = np.array([[c_1_1, c_2_1], [c_1_2, c_2_2]])\n",
    "C"
   ]
  },
  {
   "cell_type": "code",
   "execution_count": 22,
   "id": "9ab905f2-01bb-4b73-bcb8-5b53d471d31e",
   "metadata": {},
   "outputs": [
    {
     "data": {
      "text/plain": [
       "array([[ 4.00000000e+00+0.j,  0.00000000e+00+0.j],\n",
       "       [-5.55111512e-17+0.j, -1.00000000e+00+0.j]])"
      ]
     },
     "execution_count": 22,
     "metadata": {},
     "output_type": "execute_result"
    }
   ],
   "source": [
    "(C.conjugate().T).dot(A).dot(C)"
   ]
  },
  {
   "cell_type": "code",
   "execution_count": 23,
   "id": "e2ebd691-ef6d-4261-9c39-b919a684bc3c",
   "metadata": {},
   "outputs": [
    {
     "data": {
      "text/plain": [
       "array([[0.        +0.89442719j, 0.        -0.4472136j ],\n",
       "       [0.4472136 +0.j        , 0.89442719+0.j        ]])"
      ]
     },
     "execution_count": 23,
     "metadata": {},
     "output_type": "execute_result"
    }
   ],
   "source": [
    "C"
   ]
  },
  {
   "cell_type": "code",
   "execution_count": 24,
   "id": "0917bad8-ce38-47b9-8750-77dbb1ccc799",
   "metadata": {},
   "outputs": [
    {
     "data": {
      "text/plain": [
       "array([[-0.89442719+0.j       ,  0.        -0.4472136j],\n",
       "       [ 0.        +0.4472136j,  0.89442719+0.j       ]])"
      ]
     },
     "execution_count": 24,
     "metadata": {},
     "output_type": "execute_result"
    }
   ],
   "source": [
    "v"
   ]
  },
  {
   "cell_type": "code",
   "execution_count": 25,
   "id": "f7dbccf9-d41b-4486-9eee-9fdf157af962",
   "metadata": {},
   "outputs": [],
   "source": [
    "v[:, 0] *= complex(0., -1.)"
   ]
  },
  {
   "cell_type": "code",
   "execution_count": 26,
   "id": "cb105876-bcf8-42e7-ac97-b734e15f5192",
   "metadata": {},
   "outputs": [
    {
     "data": {
      "text/plain": [
       "array([[0.        +0.89442719j, 0.        -0.4472136j ],\n",
       "       [0.4472136 +0.j        , 0.89442719+0.j        ]])"
      ]
     },
     "execution_count": 26,
     "metadata": {},
     "output_type": "execute_result"
    }
   ],
   "source": [
    "v"
   ]
  },
  {
   "cell_type": "code",
   "execution_count": null,
   "id": "278220a9-2296-4f9b-907a-dde7671f2e37",
   "metadata": {},
   "outputs": [],
   "source": []
  }
 ],
 "metadata": {
  "kernelspec": {
   "display_name": "Python 3",
   "language": "python",
   "name": "python3"
  },
  "language_info": {
   "codemirror_mode": {
    "name": "ipython",
    "version": 3
   },
   "file_extension": ".py",
   "mimetype": "text/x-python",
   "name": "python",
   "nbconvert_exporter": "python",
   "pygments_lexer": "ipython3",
   "version": "3.9.5"
  }
 },
 "nbformat": 4,
 "nbformat_minor": 5
}
