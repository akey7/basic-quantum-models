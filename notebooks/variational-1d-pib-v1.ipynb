{
 "cells": [
  {
   "cell_type": "code",
   "execution_count": 1,
   "id": "9a3b9acb-3b5f-486b-a0a5-96bb5f228a9f",
   "metadata": {},
   "outputs": [],
   "source": [
    "from sympy import Symbol, symbols, oo, diff, Function, integrate"
   ]
  },
  {
   "cell_type": "code",
   "execution_count": 9,
   "id": "e5a5d319-5ee1-4429-bfc4-61d5dfda0db0",
   "metadata": {},
   "outputs": [],
   "source": [
    "x, l, h_bar, m = symbols('x l h_bar m')\n",
    "psi = symbols('psi', cls=Function)"
   ]
  },
  {
   "cell_type": "code",
   "execution_count": 10,
   "id": "84d1f628-d154-4767-b2aa-551e25f117b5",
   "metadata": {},
   "outputs": [
    {
     "data": {
      "text/latex": [
       "$\\displaystyle -2$"
      ],
      "text/plain": [
       "-2"
      ]
     },
     "execution_count": 10,
     "metadata": {},
     "output_type": "execute_result"
    }
   ],
   "source": [
    "diff(l*x - x**2, x, 2)"
   ]
  },
  {
   "cell_type": "code",
   "execution_count": 11,
   "id": "ccf43f5f-dc1d-4279-a752-5d81d2a52da4",
   "metadata": {},
   "outputs": [
    {
     "data": {
      "text/latex": [
       "$\\displaystyle - 2 l x + 2 x^{2}$"
      ],
      "text/plain": [
       "-2*l*x + 2*x**2"
      ]
     },
     "execution_count": 11,
     "metadata": {},
     "output_type": "execute_result"
    }
   ],
   "source": [
    "(l*x - x**2) * diff((l*x - x**2), x, 2)"
   ]
  },
  {
   "cell_type": "code",
   "execution_count": 21,
   "id": "2ac1b1f9-987a-4445-9002-d5e977294ae9",
   "metadata": {},
   "outputs": [
    {
     "data": {
      "text/latex": [
       "$\\displaystyle \\frac{h_{bar}^{2} l^{3}}{6 m}$"
      ],
      "text/plain": [
       "h_bar**2*l**3/(6*m)"
      ]
     },
     "execution_count": 21,
     "metadata": {},
     "output_type": "execute_result"
    }
   ],
   "source": [
    "(-h_bar**2 / (2*m)) * integrate((l*x - x**2) * diff((l*x - x**2), x, 2), (x, 0, l))"
   ]
  },
  {
   "cell_type": "code",
   "execution_count": 17,
   "id": "89ecd799-3629-465d-a22e-6305e9152838",
   "metadata": {},
   "outputs": [
    {
     "data": {
      "text/latex": [
       "$\\displaystyle - \\frac{l^{3}}{3}$"
      ],
      "text/plain": [
       "-l**3/3"
      ]
     },
     "execution_count": 17,
     "metadata": {},
     "output_type": "execute_result"
    }
   ],
   "source": [
    "integrate((l*x - x**2) * diff((l*x - x**2), x, 2), (x, 0, l))"
   ]
  },
  {
   "cell_type": "code",
   "execution_count": 20,
   "id": "55143ffd-eda9-4552-83b6-28b5c1bca509",
   "metadata": {},
   "outputs": [
    {
     "data": {
      "text/latex": [
       "$\\displaystyle - \\frac{h_{bar}^{2}}{2 m}$"
      ],
      "text/plain": [
       "-h_bar**2/(2*m)"
      ]
     },
     "execution_count": 20,
     "metadata": {},
     "output_type": "execute_result"
    }
   ],
   "source": [
    "(-h_bar**2 / 2/m)"
   ]
  },
  {
   "cell_type": "code",
   "execution_count": 24,
   "id": "3df803da-6662-49b8-ab53-6223684a5a1e",
   "metadata": {},
   "outputs": [],
   "source": [
    "numerator = (-h_bar**2 / (2*m)) * integrate((l*x - x**2) * diff((l*x - x**2), x, 2), (x, 0, l))"
   ]
  },
  {
   "cell_type": "code",
   "execution_count": 25,
   "id": "4d3ac1d5-8188-4e52-9577-43c8afe359a5",
   "metadata": {},
   "outputs": [
    {
     "data": {
      "text/latex": [
       "$\\displaystyle \\frac{h_{bar}^{2} l^{3}}{6 m}$"
      ],
      "text/plain": [
       "h_bar**2*l**3/(6*m)"
      ]
     },
     "execution_count": 25,
     "metadata": {},
     "output_type": "execute_result"
    }
   ],
   "source": [
    "numerator"
   ]
  },
  {
   "cell_type": "code",
   "execution_count": 27,
   "id": "710c0964-c0b5-4d3c-b083-6f059ae14887",
   "metadata": {},
   "outputs": [
    {
     "data": {
      "text/latex": [
       "$\\displaystyle \\frac{l^{5}}{30}$"
      ],
      "text/plain": [
       "l**5/30"
      ]
     },
     "execution_count": 27,
     "metadata": {},
     "output_type": "execute_result"
    }
   ],
   "source": [
    "denominator = integrate((x**2*(l-x)**2), (x, 0, l))\n",
    "denominator"
   ]
  },
  {
   "cell_type": "code",
   "execution_count": 28,
   "id": "cfc5b3c5-b8e8-4a3e-bf89-7c4b764ae3b2",
   "metadata": {},
   "outputs": [
    {
     "data": {
      "text/latex": [
       "$\\displaystyle \\frac{5 h_{bar}^{2}}{l^{2} m}$"
      ],
      "text/plain": [
       "5*h_bar**2/(l**2*m)"
      ]
     },
     "execution_count": 28,
     "metadata": {},
     "output_type": "execute_result"
    }
   ],
   "source": [
    "numerator / denominator"
   ]
  },
  {
   "cell_type": "code",
   "execution_count": 29,
   "id": "faff32c4-ee04-4f40-96bf-dca016873943",
   "metadata": {},
   "outputs": [
    {
     "data": {
      "text/latex": [
       "$\\displaystyle - l x^{2} + \\frac{2 x^{3}}{3}$"
      ],
      "text/plain": [
       "-l*x**2 + 2*x**3/3"
      ]
     },
     "execution_count": 29,
     "metadata": {},
     "output_type": "execute_result"
    }
   ],
   "source": [
    "integrate((l*x - x**2) * diff((l*x - x**2), x, 2), x)"
   ]
  },
  {
   "cell_type": "code",
   "execution_count": null,
   "id": "47f43e62-4421-4c9d-8961-193f513e695f",
   "metadata": {},
   "outputs": [],
   "source": []
  }
 ],
 "metadata": {
  "kernelspec": {
   "display_name": "Python 3",
   "language": "python",
   "name": "python3"
  },
  "language_info": {
   "codemirror_mode": {
    "name": "ipython",
    "version": 3
   },
   "file_extension": ".py",
   "mimetype": "text/x-python",
   "name": "python",
   "nbconvert_exporter": "python",
   "pygments_lexer": "ipython3",
   "version": "3.9.5"
  }
 },
 "nbformat": 4,
 "nbformat_minor": 5
}
