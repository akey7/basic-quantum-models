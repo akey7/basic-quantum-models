{
 "cells": [
  {
   "cell_type": "markdown",
   "id": "3036abba-e754-4f52-80f2-35adc47081a0",
   "metadata": {},
   "source": [
    "## Problem 9.3"
   ]
  },
  {
   "cell_type": "code",
   "execution_count": 1,
   "id": "60ed8688-395c-44f6-8b03-6ea94b1582ca",
   "metadata": {},
   "outputs": [],
   "source": [
    "from sympy import symbols, oo, integrate, diff, exp, pi"
   ]
  },
  {
   "cell_type": "code",
   "execution_count": 12,
   "id": "cb91b701-b981-40cc-a6f6-6db7c05a4167",
   "metadata": {},
   "outputs": [],
   "source": [
    "v, nu, m, h_bar, omega, h, alpha, c, d = symbols('v nu m h_bar omega h alpha c d', real=True, positive=True)\n",
    "x = symbols('x', real=True)"
   ]
  },
  {
   "cell_type": "markdown",
   "id": "deded7ca-9d6c-4deb-8c1c-59fa529b40db",
   "metadata": {},
   "source": [
    "Define the unperturbed first excited state wavefunction from Eqn 4.55"
   ]
  },
  {
   "cell_type": "code",
   "execution_count": 5,
   "id": "1f6e985d-03d4-4a39-bd7a-be8e633c6cec",
   "metadata": {},
   "outputs": [
    {
     "data": {
      "text/latex": [
       "$\\displaystyle \\frac{1.4142135623731 \\alpha^{0.75} x e^{- \\frac{\\alpha x^{2}}{2}}}{\\pi^{0.25}}$"
      ],
      "text/plain": [
       "1.4142135623731*pi**(-0.25)*alpha**0.75*x*exp(-alpha*x**2/2)"
      ]
     },
     "execution_count": 5,
     "metadata": {},
     "output_type": "execute_result"
    }
   ],
   "source": [
    "psi_1_0 = (4*alpha**3/pi)**0.25*x*exp(-alpha*x**2/2)\n",
    "psi_1_0"
   ]
  },
  {
   "cell_type": "markdown",
   "id": "cd29307b-a36f-4341-88c8-e0ccaa419b5e",
   "metadata": {},
   "source": [
    "As a sanity check, make sure \\\\(\\psi_{1}^{(0)}\\\\) is normalized"
   ]
  },
  {
   "cell_type": "code",
   "execution_count": 9,
   "id": "4e69b31a-2c59-4baf-ad4e-ef8ad562e2d5",
   "metadata": {},
   "outputs": [
    {
     "data": {
      "text/latex": [
       "$\\displaystyle 1.0$"
      ],
      "text/plain": [
       "1.00000000000000"
      ]
     },
     "execution_count": 9,
     "metadata": {},
     "output_type": "execute_result"
    }
   ],
   "source": [
    "integrate(psi_1_0**2, (x, -oo, oo))"
   ]
  },
  {
   "cell_type": "markdown",
   "id": "6469d775-5dc4-4d76-a2f7-d5051b8d1a7b",
   "metadata": {},
   "source": [
    "Calculate the first order perturbation correction."
   ]
  },
  {
   "cell_type": "code",
   "execution_count": 16,
   "id": "c50d3c1f-7b3a-4013-bb2b-f03745e1a185",
   "metadata": {},
   "outputs": [
    {
     "data": {
      "text/latex": [
       "$\\displaystyle \\frac{3.75 d}{\\alpha^{2.0}}$"
      ],
      "text/plain": [
       "3.75*alpha**(-2.0)*d"
      ]
     },
     "execution_count": 16,
     "metadata": {},
     "output_type": "execute_result"
    }
   ],
   "source": [
    "E_1_1 = integrate(psi_1_0*(c*x**3 + d*x**4)*psi_1_0, (x, -oo, oo))\n",
    "E_1_1"
   ]
  },
  {
   "cell_type": "code",
   "execution_count": 19,
   "id": "292fe96b-e9ba-42e0-92e4-cc55e2d8a122",
   "metadata": {},
   "outputs": [
    {
     "data": {
      "text/latex": [
       "$\\displaystyle \\frac{0.234375 d h^{2.0}}{\\pi^{4.0} m^{2.0} \\nu^{2.0}}$"
      ],
      "text/plain": [
       "0.234375*pi**(-4.0)*d*h**2.0*m**(-2.0)*nu**(-2.0)"
      ]
     },
     "execution_count": 19,
     "metadata": {},
     "output_type": "execute_result"
    }
   ],
   "source": [
    "E_1_1.subs({alpha: 4*pi**2*nu*m/h})"
   ]
  },
  {
   "cell_type": "markdown",
   "id": "7481ec86-9e9a-46ea-8a5b-0be6191bef58",
   "metadata": {},
   "source": [
    "This matches the answer in the book!"
   ]
  },
  {
   "cell_type": "code",
   "execution_count": null,
   "id": "23d67ed1-a63b-4ea3-9c58-55174f9f8876",
   "metadata": {},
   "outputs": [],
   "source": []
  }
 ],
 "metadata": {
  "kernelspec": {
   "display_name": "Python 3",
   "language": "python",
   "name": "python3"
  },
  "language_info": {
   "codemirror_mode": {
    "name": "ipython",
    "version": 3
   },
   "file_extension": ".py",
   "mimetype": "text/x-python",
   "name": "python",
   "nbconvert_exporter": "python",
   "pygments_lexer": "ipython3",
   "version": "3.9.5"
  }
 },
 "nbformat": 4,
 "nbformat_minor": 5
}
