{
 "cells": [
  {
   "cell_type": "markdown",
   "id": "52d0e571-7aa4-4f92-a0f6-9eace8658117",
   "metadata": {},
   "source": [
    "## Problem 9.14 from Levine\n",
    "\n",
    "Specifically, simplifying the final integral from the problem into Eqn 9.53."
   ]
  },
  {
   "cell_type": "code",
   "execution_count": 1,
   "id": "a4a45726-158c-4c76-8edb-cc32e9810e01",
   "metadata": {
    "tags": []
   },
   "outputs": [],
   "source": [
    "from sympy import integrate, oo, symbols, exp, pi"
   ]
  },
  {
   "cell_type": "code",
   "execution_count": 2,
   "id": "0b580b71-423a-4874-baf5-fbb8ead55a91",
   "metadata": {},
   "outputs": [],
   "source": [
    "Z, a0, r1, r2, epsilon0, e = symbols('Z a0 r1 r2 epsilon0 e', real=True, positive=True)"
   ]
  },
  {
   "cell_type": "code",
   "execution_count": 3,
   "id": "f18c0ed5-27d4-4f61-9d50-9968e9050c52",
   "metadata": {},
   "outputs": [
    {
     "data": {
      "text/latex": [
       "$\\displaystyle \\frac{a_{0}^{3} r_{2} e^{- \\frac{2 Z r_{2}}{a_{0}}}}{4 Z^{3}} + \\frac{\\left(- 2 Z^{5} a_{0} r_{2}^{3} e^{\\frac{4 Z r_{2}}{a_{0}}} - 2 Z^{4} a_{0}^{2} r_{2}^{2} e^{\\frac{4 Z r_{2}}{a_{0}}} - Z^{3} a_{0}^{3} r_{2} e^{\\frac{4 Z r_{2}}{a_{0}}}\\right) e^{- \\frac{8 Z r_{2}}{a_{0}}}}{4 Z^{6}}$"
      ],
      "text/plain": [
       "a0**3*r2*exp(-2*Z*r2/a0)/(4*Z**3) + (-2*Z**5*a0*r2**3*exp(4*Z*r2/a0) - 2*Z**4*a0**2*r2**2*exp(4*Z*r2/a0) - Z**3*a0**3*r2*exp(4*Z*r2/a0))*exp(-8*Z*r2/a0)/(4*Z**6)"
      ]
     },
     "execution_count": 3,
     "metadata": {},
     "output_type": "execute_result"
    }
   ],
   "source": [
    "lower = integrate(exp(-2*Z*r1/a0)*exp(-2*Z*r2/a0)*1/r2*r1**2*r2**2, (r1, 0, r2))\n",
    "lower"
   ]
  },
  {
   "cell_type": "code",
   "execution_count": 4,
   "id": "59d51718-384a-4905-bf03-949084f8bdcf",
   "metadata": {},
   "outputs": [
    {
     "data": {
      "text/latex": [
       "$\\displaystyle \\frac{a_{0}^{2} r_{2}^{2} \\left(\\frac{Z r_{2}}{2 a_{0}} + \\frac{1}{4}\\right) e^{- \\frac{4 Z r_{2}}{a_{0}}}}{Z^{2}}$"
      ],
      "text/plain": [
       "a0**2*r2**2*(Z*r2/(2*a0) + 1/4)*exp(-4*Z*r2/a0)/Z**2"
      ]
     },
     "execution_count": 4,
     "metadata": {},
     "output_type": "execute_result"
    }
   ],
   "source": [
    "upper = integrate(exp(-2*Z*r1/a0)*exp(-2*Z*r2/a0)*1/r1*r1**2*r2**2, (r1, r2, oo))\n",
    "upper"
   ]
  },
  {
   "cell_type": "code",
   "execution_count": 5,
   "id": "d7817b16-fc38-479f-8eaa-69c40ff2a26b",
   "metadata": {},
   "outputs": [
    {
     "data": {
      "text/latex": [
       "$\\displaystyle \\frac{a_{0}^{2} r_{2}^{2} \\left(\\frac{Z r_{2}}{2 a_{0}} + \\frac{1}{4}\\right) e^{- \\frac{4 Z r_{2}}{a_{0}}}}{Z^{2}} + \\frac{a_{0}^{3} r_{2} e^{- \\frac{2 Z r_{2}}{a_{0}}}}{4 Z^{3}} + \\frac{\\left(- 2 Z^{5} a_{0} r_{2}^{3} e^{\\frac{4 Z r_{2}}{a_{0}}} - 2 Z^{4} a_{0}^{2} r_{2}^{2} e^{\\frac{4 Z r_{2}}{a_{0}}} - Z^{3} a_{0}^{3} r_{2} e^{\\frac{4 Z r_{2}}{a_{0}}}\\right) e^{- \\frac{8 Z r_{2}}{a_{0}}}}{4 Z^{6}}$"
      ],
      "text/plain": [
       "a0**2*r2**2*(Z*r2/(2*a0) + 1/4)*exp(-4*Z*r2/a0)/Z**2 + a0**3*r2*exp(-2*Z*r2/a0)/(4*Z**3) + (-2*Z**5*a0*r2**3*exp(4*Z*r2/a0) - 2*Z**4*a0**2*r2**2*exp(4*Z*r2/a0) - Z**3*a0**3*r2*exp(4*Z*r2/a0))*exp(-8*Z*r2/a0)/(4*Z**6)"
      ]
     },
     "execution_count": 5,
     "metadata": {},
     "output_type": "execute_result"
    }
   ],
   "source": [
    "lower + upper"
   ]
  },
  {
   "cell_type": "code",
   "execution_count": 6,
   "id": "550a14a4-b257-4571-baa5-5bca34261ce9",
   "metadata": {},
   "outputs": [
    {
     "data": {
      "text/latex": [
       "$\\displaystyle \\frac{5 a_{0}^{5}}{128 Z^{5}}$"
      ],
      "text/plain": [
       "5*a0**5/(128*Z**5)"
      ]
     },
     "execution_count": 6,
     "metadata": {},
     "output_type": "execute_result"
    }
   ],
   "source": [
    "final = integrate(lower + upper, (r2, 0, oo))\n",
    "final"
   ]
  },
  {
   "cell_type": "code",
   "execution_count": 8,
   "id": "248d8c0f-ea44-440c-89b0-4181a82ec896",
   "metadata": {},
   "outputs": [
    {
     "data": {
      "text/latex": [
       "$\\displaystyle \\frac{5 Z e^{2}}{32 \\pi a_{0} \\epsilon_{0}}$"
      ],
      "text/plain": [
       "5*Z*e**2/(32*pi*a0*epsilon0)"
      ]
     },
     "execution_count": 8,
     "metadata": {},
     "output_type": "execute_result"
    }
   ],
   "source": [
    "((16*Z**6*e**2) / (4*pi*epsilon0*a0**6)) * final"
   ]
  },
  {
   "cell_type": "markdown",
   "id": "9ed773a7-e9b6-4ef8-9c44-05a58aa27f90",
   "metadata": {},
   "source": [
    "The above is the result from Eqn 9.53, just factored a bit differently."
   ]
  },
  {
   "cell_type": "code",
   "execution_count": null,
   "id": "3e53b340-e00b-4866-9187-9af96959ddde",
   "metadata": {},
   "outputs": [],
   "source": []
  }
 ],
 "metadata": {
  "kernelspec": {
   "display_name": "Python 3",
   "language": "python",
   "name": "python3"
  },
  "language_info": {
   "codemirror_mode": {
    "name": "ipython",
    "version": 3
   },
   "file_extension": ".py",
   "mimetype": "text/x-python",
   "name": "python",
   "nbconvert_exporter": "python",
   "pygments_lexer": "ipython3",
   "version": "3.9.5"
  }
 },
 "nbformat": 4,
 "nbformat_minor": 5
}
