{
 "cells": [
  {
   "cell_type": "code",
   "execution_count": 1,
   "id": "896ccccc-46e4-4ca5-ba3b-8cfb3c38e777",
   "metadata": {},
   "outputs": [],
   "source": [
    "from sympy import symbols, oo, integrate, exp, pi"
   ]
  },
  {
   "cell_type": "code",
   "execution_count": 2,
   "id": "f2efcc8d-28b6-4d09-bfba-aaac847efd55",
   "metadata": {},
   "outputs": [],
   "source": [
    "Z, e, epsilon0, a0, r1, r2 = symbols('Z e epsilon0 a0 r1 r2', positive=True, real=True)"
   ]
  },
  {
   "cell_type": "code",
   "execution_count": 22,
   "id": "68fb8e0e-4a40-45a5-bdda-1cdc07599502",
   "metadata": {},
   "outputs": [
    {
     "data": {
      "text/latex": [
       "$\\displaystyle \\frac{a_{0}^{2} r_{2}^{2} e^{- \\frac{Z r_{2}}{a_{0}}}}{4 Z^{2}} + \\frac{a_{0}^{3} r_{2} \\left(\\frac{Z^{2} r_{2}^{2}}{2 a_{0}^{2}} + \\frac{Z r_{2}}{2 a_{0}} + \\frac{1}{4}\\right) e^{- \\frac{3 Z r_{2}}{a_{0}}}}{Z^{3}} + \\frac{\\left(- 2 Z^{2} a_{0} r_{2}^{3} e^{\\frac{Z r_{2}}{a_{0}}} - Z a_{0}^{2} r_{2}^{2} e^{\\frac{Z r_{2}}{a_{0}}}\\right) e^{- \\frac{4 Z r_{2}}{a_{0}}}}{4 Z^{3}}$"
      ],
      "text/plain": [
       "a0**2*r2**2*exp(-Z*r2/a0)/(4*Z**2) + a0**3*r2*(Z**2*r2**2/(2*a0**2) + Z*r2/(2*a0) + 1/4)*exp(-3*Z*r2/a0)/Z**3 + (-2*Z**2*a0*r2**3*exp(Z*r2/a0) - Z*a0**2*r2**2*exp(Z*r2/a0))*exp(-4*Z*r2/a0)/(4*Z**3)"
      ]
     },
     "execution_count": 22,
     "metadata": {},
     "output_type": "execute_result"
    }
   ],
   "source": [
    "# r1_integral = integrate(exp(-2*Z*r1/a0)*exp(-1*Z*r2/a0)*(1/r2)*r1**2*r2**2, (r1, 0, r2)) + integrate(exp(-2*Z*r1/a0)*exp(-1*Z*r2/a0)*(1/r1)*r1**2*r2**2, (r1, r2, oo))\n",
    "# r1_integral\n",
    "\n",
    "r1_integral = integrate(exp(-2*Z*r1/a0)*exp(-1*Z*r2/a0)*(1/r1)*r1**2*r2**2, (r1, 0, r2)) + integrate(exp(-2*Z*r1/a0)*exp(-1*Z*r2/a0)*(1/r2)*r1**2*r2**2, (r1, r2, oo))\n",
    "r1_integral"
   ]
  },
  {
   "cell_type": "code",
   "execution_count": 23,
   "id": "0a9524bf-b8be-4f0a-bf91-80645af26156",
   "metadata": {},
   "outputs": [
    {
     "data": {
      "text/latex": [
       "$\\displaystyle \\frac{59 a_{0}^{5}}{108 Z^{5}}$"
      ],
      "text/plain": [
       "59*a0**5/(108*Z**5)"
      ]
     },
     "execution_count": 23,
     "metadata": {},
     "output_type": "execute_result"
    }
   ],
   "source": [
    "r2_integral = integrate(r1_integral, (r2, 0, oo))\n",
    "r2_integral"
   ]
  },
  {
   "cell_type": "code",
   "execution_count": 24,
   "id": "4fa5e22c-c34b-42bd-b7c3-4a4411f7ae59",
   "metadata": {},
   "outputs": [
    {
     "data": {
      "text/latex": [
       "$\\displaystyle \\frac{59 Z e^{2}}{27 \\pi a_{0} \\epsilon_{0}}$"
      ],
      "text/plain": [
       "59*Z*e**2/(27*pi*a0*epsilon0)"
      ]
     },
     "execution_count": 24,
     "metadata": {},
     "output_type": "execute_result"
    }
   ],
   "source": [
    "(16*Z**6*e**2/4/pi/epsilon0/a0**6) * r2_integral"
   ]
  },
  {
   "cell_type": "code",
   "execution_count": 16,
   "id": "27c74f3e-fbc4-4c0c-9d8b-c2d8cd2d0f87",
   "metadata": {},
   "outputs": [
    {
     "data": {
      "text/latex": [
       "$\\displaystyle \\frac{Z^{6} e^{2}}{4 \\pi^{3} a_{0}^{6} \\epsilon_{0}}$"
      ],
      "text/plain": [
       "Z**6*e**2/(4*pi**3*a0**6*epsilon0)"
      ]
     },
     "execution_count": 16,
     "metadata": {},
     "output_type": "execute_result"
    }
   ],
   "source": [
    "(Z**6*e**2/(4*pi*epsilon0*pi**2*a0**6))"
   ]
  },
  {
   "cell_type": "code",
   "execution_count": 17,
   "id": "13860d14-0219-45c5-9a50-a4862bfb6a4b",
   "metadata": {},
   "outputs": [
    {
     "data": {
      "text/latex": [
       "$\\displaystyle \\frac{11 Z e^{2}}{216 \\pi^{3} a_{0} \\epsilon_{0}}$"
      ],
      "text/plain": [
       "11*Z*e**2/(216*pi**3*a0*epsilon0)"
      ]
     },
     "execution_count": 17,
     "metadata": {},
     "output_type": "execute_result"
    }
   ],
   "source": [
    "(Z**6*e**2/(4*pi*epsilon0*pi**2*a0**6)) * r2_integral"
   ]
  },
  {
   "cell_type": "code",
   "execution_count": 18,
   "id": "9fca38c8-b7f3-4960-a5f2-9c7ee5937d22",
   "metadata": {},
   "outputs": [
    {
     "data": {
      "text/plain": [
       "0.625"
      ]
     },
     "execution_count": 18,
     "metadata": {},
     "output_type": "execute_result"
    }
   ],
   "source": [
    "5/8"
   ]
  },
  {
   "cell_type": "code",
   "execution_count": 19,
   "id": "c0515bf7-4962-4c96-8996-245536116d36",
   "metadata": {},
   "outputs": [
    {
     "data": {
      "text/plain": [
       "0.05092592592592592"
      ]
     },
     "execution_count": 19,
     "metadata": {},
     "output_type": "execute_result"
    }
   ],
   "source": [
    "11/216"
   ]
  },
  {
   "cell_type": "code",
   "execution_count": 20,
   "id": "82fc0cad-d78f-486a-b25b-3158bc7b650d",
   "metadata": {},
   "outputs": [
    {
     "data": {
      "text/plain": [
       "2.5"
      ]
     },
     "execution_count": 20,
     "metadata": {},
     "output_type": "execute_result"
    }
   ],
   "source": [
    "10/4"
   ]
  },
  {
   "cell_type": "code",
   "execution_count": 21,
   "id": "284956b5-3464-4b46-8ea0-66a5bb206053",
   "metadata": {},
   "outputs": [
    {
     "data": {
      "text/plain": [
       "0.8148148148148148"
      ]
     },
     "execution_count": 21,
     "metadata": {},
     "output_type": "execute_result"
    }
   ],
   "source": [
    "22/27"
   ]
  },
  {
   "cell_type": "code",
   "execution_count": null,
   "id": "b1b0bbe2-561c-451e-b583-a40c8940e91c",
   "metadata": {},
   "outputs": [],
   "source": []
  }
 ],
 "metadata": {
  "kernelspec": {
   "display_name": "Python 3",
   "language": "python",
   "name": "python3"
  },
  "language_info": {
   "codemirror_mode": {
    "name": "ipython",
    "version": 3
   },
   "file_extension": ".py",
   "mimetype": "text/x-python",
   "name": "python",
   "nbconvert_exporter": "python",
   "pygments_lexer": "ipython3",
   "version": "3.9.5"
  }
 },
 "nbformat": 4,
 "nbformat_minor": 5
}
