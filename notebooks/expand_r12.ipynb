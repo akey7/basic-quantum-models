{
 "cells": [
  {
   "cell_type": "code",
   "execution_count": 3,
   "id": "35cdd05c-ba22-4c3f-b697-8d6dae500a17",
   "metadata": {},
   "outputs": [],
   "source": [
    "from scipy.integrate import dblquad\n",
    "from math import exp"
   ]
  },
  {
   "cell_type": "code",
   "execution_count": 4,
   "id": "8c5a9356-7ba5-4640-a87b-7525597f9f00",
   "metadata": {},
   "outputs": [],
   "source": [
    "Z = 2\n",
    "e = 1.602e-19\n",
    "epsilon0 = 8.854e-12\n",
    "a0 = 5.29e-11"
   ]
  },
  {
   "cell_type": "code",
   "execution_count": 17,
   "id": "b311a295-3045-431b-87a7-366cfa3b3a43",
   "metadata": {},
   "outputs": [],
   "source": [
    "def integrand(r1, r2):\n",
    "    return exp(-2*Z*r1/a0) * exp(-2*Z*r2/a0) * (1./r1 if r1>r2 else 1./r2) * r1**2 * r2**2"
   ]
  },
  {
   "cell_type": "code",
   "execution_count": 22,
   "id": "14e3d0a3-bdaf-4b18-bece-0e16caa93d71",
   "metadata": {},
   "outputs": [
    {
     "data": {
      "text/plain": [
       "(7.65829959200752e-55, 9.845390225791764e-45)"
      ]
     },
     "execution_count": 22,
     "metadata": {},
     "output_type": "execute_result"
    }
   ],
   "source": [
    "dblquad(integrand, 0., a0*1e3, 0., a0*1e3)"
   ]
  },
  {
   "cell_type": "code",
   "execution_count": null,
   "id": "474313f3-1632-48c2-8ee7-6d793651973e",
   "metadata": {},
   "outputs": [],
   "source": []
  }
 ],
 "metadata": {
  "kernelspec": {
   "display_name": "Python 3",
   "language": "python",
   "name": "python3"
  },
  "language_info": {
   "codemirror_mode": {
    "name": "ipython",
    "version": 3
   },
   "file_extension": ".py",
   "mimetype": "text/x-python",
   "name": "python",
   "nbconvert_exporter": "python",
   "pygments_lexer": "ipython3",
   "version": "3.9.5"
  }
 },
 "nbformat": 4,
 "nbformat_minor": 5
}
