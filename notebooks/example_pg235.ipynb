{
 "cells": [
  {
   "cell_type": "markdown",
   "id": "db28cf26-7337-4a50-99be-d37dcdb65c18",
   "metadata": {},
   "source": [
    "$$ \\hat{H}^{'} = \\hat{H} - \\hat{H}^{0} = cx^3 + dx^4 $$\n",
    "\n",
    "$$ \\psi_{0}^{(0)} = (\\alpha / \\pi)^{1/4} e^{-\\alpha x^2 / 2} $$\n",
    "\n",
    "$$ \\alpha = \\frac{2 \\pi \\nu m}{\\hbar} = \\frac{4 \\pi^2 \\nu m}{h} $$"
   ]
  },
  {
   "cell_type": "code",
   "execution_count": 1,
   "id": "afb5a5bf-9f0b-4a0d-82dd-39914e2e0c77",
   "metadata": {},
   "outputs": [],
   "source": [
    "from sympy import symbols, diff, oo, integrate, exp, sqrt, pi\n",
    "from sympy.matrices import Matrix\n",
    "from sympy.solvers import solve\n",
    "\n",
    "alpha, x, m, nu, h = symbols('alpha x m nu h', real=True, positive=True)\n",
    "d = symbols('d', real=True)"
   ]
  },
  {
   "cell_type": "code",
   "execution_count": 2,
   "id": "ed0e54e7-8102-414c-94f7-d4beaedbff4a",
   "metadata": {},
   "outputs": [
    {
     "data": {
      "text/latex": [
       "$\\displaystyle \\frac{3 d}{4 \\alpha^{2}}$"
      ],
      "text/plain": [
       "3*d/(4*alpha**2)"
      ]
     },
     "execution_count": 2,
     "metadata": {},
     "output_type": "execute_result"
    }
   ],
   "source": [
    "E_0_1 = 2*d*sqrt(alpha/pi) * integrate(exp(-alpha*x**2)*x**4, (x, 0, oo))\n",
    "E_0_1"
   ]
  },
  {
   "cell_type": "code",
   "execution_count": 3,
   "id": "dafd542e-dc38-4ebd-b21c-33e06a75d5ef",
   "metadata": {},
   "outputs": [
    {
     "data": {
      "text/latex": [
       "$\\displaystyle \\frac{3 d h^{2}}{64 \\pi^{4} m^{2} \\nu^{2}}$"
      ],
      "text/plain": [
       "3*d*h**2/(64*pi**4*m**2*nu**2)"
      ]
     },
     "execution_count": 3,
     "metadata": {},
     "output_type": "execute_result"
    }
   ],
   "source": [
    "E_0_1 = E_0_1.subs({alpha: (4*pi**2*nu*m/h)})\n",
    "E_0_1"
   ]
  },
  {
   "cell_type": "code",
   "execution_count": null,
   "id": "d45f3572-4057-4fc0-8d4a-b2e810a4da92",
   "metadata": {},
   "outputs": [],
   "source": []
  }
 ],
 "metadata": {
  "kernelspec": {
   "display_name": "Python 3",
   "language": "python",
   "name": "python3"
  },
  "language_info": {
   "codemirror_mode": {
    "name": "ipython",
    "version": 3
   },
   "file_extension": ".py",
   "mimetype": "text/x-python",
   "name": "python",
   "nbconvert_exporter": "python",
   "pygments_lexer": "ipython3",
   "version": "3.9.5"
  }
 },
 "nbformat": 4,
 "nbformat_minor": 5
}
