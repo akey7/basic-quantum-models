{
 "cells": [
  {
   "cell_type": "markdown",
   "id": "db28cf26-7337-4a50-99be-d37dcdb65c18",
   "metadata": {},
   "source": [
    "## Quantum Mechanics: First-order energy perturbation to harmonic oscillator\n",
    "\n",
    "In *Quantum Chemistry, 7th Ed* by Levine, an example on page 235 calculates the first-order perturbation correction to an unperturbed harmonic oscillator. It is a simple example, which I will reproduce here with SymPy. Usually, I wouldn't post something so trivial, but there was a trick using SymPy to get the integration to work. This trick was defining assumptions about variables ahead of time, and I demonstrate that here.\n",
    "\n",
    "An example perturbed Hamiltonian for an osicalltor incorporating anharmonic terms:\n",
    "\n",
    "$$ \\hat{H}^{'} = \\hat{H} - \\hat{H}^{0} = cx^3 + dx^4 $$\n",
    "\n",
    "The ground state unperturbed wavefunction of the quantum harmonic oscillator:\n",
    "\n",
    "$$ \\psi_{0}^{(0)} = (\\alpha / \\pi)^{1/4} e^{-\\alpha x^2 / 2} $$\n",
    "\n",
    "A little shortcut in notation to simplify equation writing:\n",
    "\n",
    "$$ \\alpha = \\frac{4 \\pi^2 \\nu m}{h} $$"
   ]
  },
  {
   "cell_type": "code",
   "execution_count": 1,
   "id": "afb5a5bf-9f0b-4a0d-82dd-39914e2e0c77",
   "metadata": {},
   "outputs": [],
   "source": [
    "from sympy import symbols, oo, integrate, exp, sqrt, pi"
   ]
  },
  {
   "cell_type": "markdown",
   "id": "34bf82c2-eda9-4533-bb6e-ec6833580356",
   "metadata": {},
   "source": [
    "Here was the trick to making the integration work properly. When creating the symbols, I defined all as real and most as positive."
   ]
  },
  {
   "cell_type": "code",
   "execution_count": 2,
   "id": "47e359ab-8a4c-4180-97e7-e2c11113ae29",
   "metadata": {},
   "outputs": [],
   "source": [
    "alpha, x, m, nu, h = symbols('alpha x m nu h', real=True, positive=True)\n",
    "d = symbols('d', real=True)"
   ]
  },
  {
   "cell_type": "code",
   "execution_count": 3,
   "id": "ed0e54e7-8102-414c-94f7-d4beaedbff4a",
   "metadata": {},
   "outputs": [
    {
     "data": {
      "text/latex": [
       "$\\displaystyle \\frac{3 d}{4 \\alpha^{2}}$"
      ],
      "text/plain": [
       "3*d/(4*alpha**2)"
      ]
     },
     "execution_count": 3,
     "metadata": {},
     "output_type": "execute_result"
    }
   ],
   "source": [
    "E_0_1 = 2*d*sqrt(alpha/pi) * integrate(exp(-alpha*x**2)*x**4, (x, 0, oo))\n",
    "E_0_1"
   ]
  },
  {
   "cell_type": "code",
   "execution_count": 4,
   "id": "dafd542e-dc38-4ebd-b21c-33e06a75d5ef",
   "metadata": {},
   "outputs": [
    {
     "data": {
      "text/latex": [
       "$\\displaystyle \\frac{3 d h^{2}}{64 \\pi^{4} m^{2} \\nu^{2}}$"
      ],
      "text/plain": [
       "3*d*h**2/(64*pi**4*m**2*nu**2)"
      ]
     },
     "execution_count": 4,
     "metadata": {},
     "output_type": "execute_result"
    }
   ],
   "source": [
    "E_0_1 = E_0_1.subs({alpha: (4*pi**2*nu*m/h)})\n",
    "E_0_1"
   ]
  },
  {
   "cell_type": "code",
   "execution_count": 5,
   "id": "d45f3572-4057-4fc0-8d4a-b2e810a4da92",
   "metadata": {},
   "outputs": [
    {
     "data": {
      "text/latex": [
       "$\\displaystyle 0.5 h \\nu$"
      ],
      "text/plain": [
       "0.5*h*nu"
      ]
     },
     "execution_count": 5,
     "metadata": {},
     "output_type": "execute_result"
    }
   ],
   "source": [
    "E_0_0 = 0.5 * h * nu\n",
    "E_0_0"
   ]
  },
  {
   "cell_type": "code",
   "execution_count": null,
   "id": "edb1571f-91c7-4193-8080-862ad476a449",
   "metadata": {},
   "outputs": [],
   "source": []
  }
 ],
 "metadata": {
  "kernelspec": {
   "display_name": "Python 3",
   "language": "python",
   "name": "python3"
  },
  "language_info": {
   "codemirror_mode": {
    "name": "ipython",
    "version": 3
   },
   "file_extension": ".py",
   "mimetype": "text/x-python",
   "name": "python",
   "nbconvert_exporter": "python",
   "pygments_lexer": "ipython3",
   "version": "3.9.5"
  }
 },
 "nbformat": 4,
 "nbformat_minor": 5
}
