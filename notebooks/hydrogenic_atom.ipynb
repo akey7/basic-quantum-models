{
 "cells": [
  {
   "cell_type": "code",
   "execution_count": 1,
   "id": "9ed3b603-1e47-4285-a447-ce1cb3352021",
   "metadata": {},
   "outputs": [],
   "source": [
    "import numpy as np\n",
    "import matplotlib.pyplot as plt\n",
    "from matplotlib import cm\n",
    "from cmath import exp, sqrt, pi, cos, sin"
   ]
  },
  {
   "cell_type": "code",
   "execution_count": 11,
   "id": "96428953-47d6-4e2d-877f-ef9714968f01",
   "metadata": {},
   "outputs": [],
   "source": [
    "class HydrogenicAtom:\n",
    "    \"\"\"\n",
    "    This class models the wavefunctions and energy levels of a hydrogenic atom.\n",
    "    \"\"\"\n",
    "    \n",
    "    def __init__(self, l, ml):\n",
    "        \"\"\"\n",
    "        Parameters\n",
    "        ----------    \n",
    "        theta: float\n",
    "            Theta coordinate, from 0 to 2*pi\n",
    "\n",
    "        phi: float\n",
    "            Phi coordinate, from \n",
    "        \"\"\"\n",
    "        self.l = l\n",
    "        self.ml = ml\n",
    "    \n",
    "    def spherical_harmonic(self, theta, phi):\n",
    "        \"\"\"\n",
    "        Find the value of the spherical harmonic given an quantum numbers\n",
    "        l, ml and coordinates theta, phi.\n",
    "        \n",
    "        Parameters\n",
    "        ----------    \n",
    "        theta: float\n",
    "            Theta coordinate, from 0 to 2*pi\n",
    "\n",
    "        phi: float\n",
    "            Phi coordinate, from \n",
    "        \"\"\"\n",
    "        if self.l == 0 and self.ml == 0:\n",
    "            return sqrt(1 / 4.0 / pi)\n",
    "        \n",
    "        elif self.l == 1 and self.ml == 0:\n",
    "            return sqrt(3.0 / 4.0 / pi) * cos(theta)\n",
    "        elif self.l == 1 and self.ml == 1:\n",
    "            return -sqrt(3.0 / 8.0 / pi) * sin(theta) * exp(1j * phi)\n",
    "        elif self.l == 1 and self.ml == -1:\n",
    "            return -sqrt(3.0 / 8.0 / pi) * sin(theta) * exp(-1j * phi)\n",
    "        \n",
    "        elif self.l == 2 and self.ml == 0:\n",
    "            return sqrt(15.0 / 16.0 / pi) * (3 * cos(theta) ** 2 - 1)\n",
    "        elif self.l == 2 and self.ml == 1:\n",
    "            return -sqrt(15.0 / 16.0 / pi) * cos(theta) * sin(theta) * exp(1j * phi)\n",
    "        elif self.l == 2 and self.ml == -1:\n",
    "            return sqrt(15.0 / 16.0 / pi) * cos(theta) * sin(theta) * exp(-1j * phi)\n",
    "        elif self.l == 2 and self.ml == 2:\n",
    "            return sqrt(15.0 / 16.0 / pi) * sin(theta) ** 2 * exp(2j * phi)\n",
    "        elif self.l == 2 and self.ml == -2:\n",
    "            return sqrt(15.0 / 16.0 / pi) * sin(theta) ** 2 * exp(-2j * phi)\n",
    "        \n",
    "        elif self.l == 3 and self.ml == 0:\n",
    "            return sqrt(7.0 / 16.0 / pi) * (5 * cos(theta) ** 3 - cos(theta))\n",
    "        elif self.l == 3 and self.ml == 1:\n",
    "            return -sqrt(21.0 / 64.0 / pi) * (5 * cos(theta) ** 2 - 1) * sin(theta) * exp(1j * phi)\n",
    "        elif self.l == 3 and self.ml == -1:\n",
    "            return sqrt(21.0 / 64.0 / pi) * (5 * cos(theta) ** 2 - 1) * sin(theta) * exp(-1j * phi)\n",
    "        elif self.l == 3 and self.ml == 2:\n",
    "            return sqrt(105.0 / 32.0 / pi) * sin(theta) ** 2 * cos(theta) * exp(2j * phi)\n",
    "        elif self.l == 3 and self.ml == -2:\n",
    "            return sqrt(105.0 / 32.0 / pi) * sin(theta) ** 2 * cos(theta) * exp(-2j * phi)\n",
    "        elif self.l == 3 and self.ml == 3:\n",
    "            return -sqrt(35.0 / 64.0 / pi) * sin(theta) ** 3 * exp(3j * phi)\n",
    "        elif self.l == 3 and self.ml == 3:\n",
    "            return sqrt(35.0 / 64.0 / pi) * sin(theta) ** 3 * exp(-3j * phi)\n",
    "        \n",
    "        else:\n",
    "            raise Exception(f'No equation for l={self.l} and ml={self.ml}')"
   ]
  },
  {
   "cell_type": "code",
   "execution_count": 13,
   "id": "eb74736a-5527-4247-8ee2-0c19dd5d2860",
   "metadata": {},
   "outputs": [
    {
     "data": {
      "text/plain": [
       "<matplotlib.collections.PathCollection at 0x7fb2db938fa0>"
      ]
     },
     "execution_count": 13,
     "metadata": {},
     "output_type": "execute_result"
    },
    {
     "data": {
      "image/png": "[encoded data removed]",
      "text/plain": [
       "<Figure size 360x360 with 1 Axes>"
      ]
     },
     "metadata": {
      "needs_background": "light"
     },
     "output_type": "display_data"
    }
   ],
   "source": [
    "ha = HydrogenicAtom(l=3, ml=-2)\n",
    "l = 1\n",
    "ml = -1\n",
    "thetas = np.linspace(0, 2 * pi, 40)\n",
    "phis = np.linspace(0, pi, 40)\n",
    "spherical = []\n",
    "for phi in phis:\n",
    "    for theta in thetas:\n",
    "        spherical.append(ha.spherical_harmonic(theta, phi))\n",
    "spherical = np.array(spherical)\n",
    "fig, ax = plt.subplots(nrows=1, ncols=1, figsize=(5, 5))\n",
    "ax.scatter(spherical.real, spherical.imag)"
   ]
  },
  {
   "cell_type": "code",
   "execution_count": null,
   "id": "41029137-05ab-459b-99bd-3ce6c27baddc",
   "metadata": {},
   "outputs": [],
   "source": []
  }
 ],
 "metadata": {
  "kernelspec": {
   "display_name": "Python 3",
   "language": "python",
   "name": "python3"
  },
  "language_info": {
   "codemirror_mode": {
    "name": "ipython",
    "version": 3
   },
   "file_extension": ".py",
   "mimetype": "text/x-python",
   "name": "python",
   "nbconvert_exporter": "python",
   "pygments_lexer": "ipython3",
   "version": "3.9.5"
  }
 },
 "nbformat": 4,
 "nbformat_minor": 5
}
