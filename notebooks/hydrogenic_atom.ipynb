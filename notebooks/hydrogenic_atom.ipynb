{
 "cells": [
  {
   "cell_type": "code",
   "execution_count": 1,
   "id": "9ed3b603-1e47-4285-a447-ce1cb3352021",
   "metadata": {},
   "outputs": [],
   "source": [
    "import numpy as np\n",
    "import matplotlib.pyplot as plt\n",
    "from matplotlib import cm\n",
    "from cmath import exp, sqrt, pi, cos, sin"
   ]
  },
  {
   "cell_type": "code",
   "execution_count": 2,
   "id": "96428953-47d6-4e2d-877f-ef9714968f01",
   "metadata": {},
   "outputs": [],
   "source": [
    "class HydrogenicAtom:\n",
    "    \"\"\"\n",
    "    This class models the wavefunctions and energy levels of a hydrogenic atom.\n",
    "    \n",
    "    It assumes an infinitely heavy nucleus, so the mass is that of the\n",
    "    electron.\n",
    "    \n",
    "    Masses are in kg, distances are in m\n",
    "    \n",
    "    This whole class uses complex numbers and math functions.\n",
    "    \"\"\"\n",
    "    \n",
    "    def __init__(self, n, l, ml, z=1):\n",
    "        \"\"\"\n",
    "        This sets some instance attributes and a few constant used throughout the\n",
    "        class.\n",
    "        \n",
    "        Leave z at 1 for hydrogen.\n",
    "        \n",
    "        Parameters\n",
    "        ----------    \n",
    "        n: int\n",
    "            0, 1, 2,...\n",
    "            \n",
    "        l: int\n",
    "            0, 1, 2, 3\n",
    "            \n",
    "        ml: int\n",
    "            l, l-1, ..., -l\n",
    "        \"\"\"\n",
    "        self.a0 = 5.29e-11 # m\n",
    "        self.me = 9.10938356e-31 # kg\n",
    "        self.n = n\n",
    "        self.l = l\n",
    "        self.ml = ml\n",
    "        self.z = z\n",
    "        \n",
    "    def rho(self, r):\n",
    "        \"\"\"\n",
    "        Calculates the rho part of the radial function. It assumes an infinitely\n",
    "        heavy nucleus.\n",
    "        \n",
    "        From Atkins and de Paula, Table 10.1, page 324\n",
    "        \n",
    "        Parameters\n",
    "        ----------\n",
    "        r: float\n",
    "            The distance, in meters being calculated\n",
    "            \n",
    "        Returns\n",
    "        -------\n",
    "        float\n",
    "            The value of rho.\n",
    "        \"\"\"\n",
    "        return (2 * self.z / self.n / self.a0) * r\n",
    "    \n",
    "    def radial(self, r):\n",
    "        \"\"\"\n",
    "        The radial part of the wavefunction\n",
    "        \n",
    "        Parameters\n",
    "        ----------\n",
    "        r: float\n",
    "            Radius, in meters\n",
    "            \n",
    "        Returns\n",
    "        -------\n",
    "        complex\n",
    "            The value of the radial wavefunction, which only uses the real\n",
    "            part of the complex value.\n",
    "            \n",
    "        Raises\n",
    "        ------\n",
    "        Exception\n",
    "            Raises an exception for invalid n and l\n",
    "        \"\"\"\n",
    "        za32 = (self.z / self.a0) ** (3/2)\n",
    "        rho = self.rho(r)\n",
    "        exp_rho = exp(-rho / 2.0)\n",
    "        \n",
    "        if self.n == 1 and self.l == 0:  # 1s orbital\n",
    "            return 2 * za32 ** (3/2) * exp_rho\n",
    "        elif self.n == 2 and self.l == 0:  # 2s orbital\n",
    "            return (1.0 / sqrt(8)) * za32 * (2.0 - rho) * exp_rho\n",
    "        elif self.n == 2 and self.l == 1:  # 2p orbital\n",
    "            return (1.0 / sqrt(24)) * za32 * rho * exp_rho\n",
    "        elif self.n == 3 and self.l == 0:\n",
    "            return (1.0 / sqrt(243)) * za32 * (6.0 - 6 * rho + rho) * exp_rho\n",
    "        elif self.n == 3 and self.l == 1:\n",
    "            return (1.0 / sqrt(486)) * za32 * (4.0 - rho) * rho * exp_rho\n",
    "        elif self.n == 3 and self.l == 2:\n",
    "            return (1.0 / sqrt(2430)) * za32 * rho ** 2 * exp_rho\n",
    "        else:\n",
    "            raise Exception(f'No radial function for {self.n} and {self.l}')\n",
    "        \n",
    "    \n",
    "    def spherical_harmonic(self, theta, phi):\n",
    "        \"\"\"\n",
    "        Find the value of the spherical harmonic given an quantum numbers\n",
    "        l, ml and coordinates theta, phi.\n",
    "        \n",
    "        From Atkins and de Paula, Table 9.3, page 302\n",
    "        \n",
    "        Parameters\n",
    "        ----------    \n",
    "        theta: float\n",
    "            Theta coordinate, from 0 to 2*pi\n",
    "\n",
    "        phi: float\n",
    "            Phi coordinate, from \n",
    "            \n",
    "        Returns\n",
    "        -------\n",
    "        complex\n",
    "            The value of the spherical harmonic, which is a complex value\n",
    "            \n",
    "        Raises\n",
    "        ------\n",
    "        Exception\n",
    "            Raises an Exception for an invalid combination of l and ml\n",
    "        \"\"\"\n",
    "        if self.l == 0 and self.ml == 0:\n",
    "            return sqrt(1 / 4.0 / pi)\n",
    "        \n",
    "        elif self.l == 1 and self.ml == 0:\n",
    "            return sqrt(3.0 / 4.0 / pi) * cos(theta)\n",
    "        elif self.l == 1 and self.ml == 1:\n",
    "            return -sqrt(3.0 / 8.0 / pi) * sin(theta) * exp(1j * phi)\n",
    "        elif self.l == 1 and self.ml == -1:\n",
    "            return -sqrt(3.0 / 8.0 / pi) * sin(theta) * exp(-1j * phi)\n",
    "        \n",
    "        elif self.l == 2 and self.ml == 0:\n",
    "            return sqrt(15.0 / 16.0 / pi) * (3 * cos(theta) ** 2 - 1)\n",
    "        elif self.l == 2 and self.ml == 1:\n",
    "            return -sqrt(15.0 / 16.0 / pi) * cos(theta) * sin(theta) * exp(1j * phi)\n",
    "        elif self.l == 2 and self.ml == -1:\n",
    "            return sqrt(15.0 / 16.0 / pi) * cos(theta) * sin(theta) * exp(-1j * phi)\n",
    "        elif self.l == 2 and self.ml == 2:\n",
    "            return sqrt(15.0 / 16.0 / pi) * sin(theta) ** 2 * exp(2j * phi)\n",
    "        elif self.l == 2 and self.ml == -2:\n",
    "            return sqrt(15.0 / 16.0 / pi) * sin(theta) ** 2 * exp(-2j * phi)\n",
    "        \n",
    "        elif self.l == 3 and self.ml == 0:\n",
    "            return sqrt(7.0 / 16.0 / pi) * (5 * cos(theta) ** 3 - cos(theta))\n",
    "        elif self.l == 3 and self.ml == 1:\n",
    "            return -sqrt(21.0 / 64.0 / pi) * (5 * cos(theta) ** 2 - 1) * sin(theta) * exp(1j * phi)\n",
    "        elif self.l == 3 and self.ml == -1:\n",
    "            return sqrt(21.0 / 64.0 / pi) * (5 * cos(theta) ** 2 - 1) * sin(theta) * exp(-1j * phi)\n",
    "        elif self.l == 3 and self.ml == 2:\n",
    "            return sqrt(105.0 / 32.0 / pi) * sin(theta) ** 2 * cos(theta) * exp(2j * phi)\n",
    "        elif self.l == 3 and self.ml == -2:\n",
    "            return sqrt(105.0 / 32.0 / pi) * sin(theta) ** 2 * cos(theta) * exp(-2j * phi)\n",
    "        elif self.l == 3 and self.ml == 3:\n",
    "            return -sqrt(35.0 / 64.0 / pi) * sin(theta) ** 3 * exp(3j * phi)\n",
    "        elif self.l == 3 and self.ml == 3:\n",
    "            return sqrt(35.0 / 64.0 / pi) * sin(theta) ** 3 * exp(-3j * phi)\n",
    "        \n",
    "        else:\n",
    "            raise Exception(f'No equation for l={self.l} and ml={self.ml}')"
   ]
  },
  {
   "cell_type": "code",
   "execution_count": 3,
   "id": "eb74736a-5527-4247-8ee2-0c19dd5d2860",
   "metadata": {},
   "outputs": [
    {
     "data": {
      "text/plain": [
       "<matplotlib.collections.PathCollection at 0x7fa703cbab20>"
      ]
     },
     "execution_count": 3,
     "metadata": {},
     "output_type": "execute_result"
    },
    {
     "data": {
      "image/png": "[encoded data removed]",
      "text/plain": [
       "<Figure size 360x360 with 1 Axes>"
      ]
     },
     "metadata": {
      "needs_background": "light"
     },
     "output_type": "display_data"
    }
   ],
   "source": [
    "ha = HydrogenicAtom(n=3, l=2, ml=2)\n",
    "l = 1\n",
    "ml = -1\n",
    "thetas = np.linspace(0, 2 * pi, 40)\n",
    "phis = np.linspace(0, pi, 40)\n",
    "spherical = []\n",
    "for phi in phis:\n",
    "    for theta in thetas:\n",
    "        spherical.append(ha.spherical_harmonic(theta, phi))\n",
    "spherical = np.array(spherical)\n",
    "fig, ax = plt.subplots(nrows=1, ncols=1, figsize=(5, 5))\n",
    "ax.scatter(spherical.real, spherical.imag)"
   ]
  },
  {
   "cell_type": "code",
   "execution_count": 11,
   "id": "41029137-05ab-459b-99bd-3ce6c27baddc",
   "metadata": {},
   "outputs": [
    {
     "data": {
      "text/plain": [
       "[<matplotlib.lines.Line2D at 0x7fa705386be0>]"
      ]
     },
     "execution_count": 11,
     "metadata": {},
     "output_type": "execute_result"
    },
    {
     "data": {
      "image/png": "[encoded data removed]",
      "text/plain": [
       "<Figure size 360x360 with 1 Axes>"
      ]
     },
     "metadata": {
      "needs_background": "light"
     },
     "output_type": "display_data"
    }
   ],
   "source": [
    "ha = HydrogenicAtom(n=2, l=1, ml=0)\n",
    "rs = np.linspace(0, 15 * ha.a0, 100)\n",
    "scaler = (1 / ha.a0) ** (3/2)\n",
    "ys = [ha.radial(r).real / scaler for r in rs]\n",
    "fig, ax = plt.subplots(nrows=1, ncols=1, figsize=(5, 5))\n",
    "ax.plot(rs, ys)"
   ]
  },
  {
   "cell_type": "code",
   "execution_count": null,
   "id": "b6372126-9a2f-4268-91ec-4ce665dcf402",
   "metadata": {},
   "outputs": [],
   "source": [
    "parameters = [\n",
    "    {'n': 1, 'l': 0, 'r_scaler': 3}\n",
    "]\n",
    "\n",
    "for p in parameters:\n",
    "    ha = HydrogenciAtom(n=p['n'], l=p['l'], ml=0)\n",
    "    xs = np.linspace(0, p['r_scaler'] * ha.a0, 100)\n",
    "    ys = [ha.radial(r).real]"
   ]
  }
 ],
 "metadata": {
  "kernelspec": {
   "display_name": "Python 3",
   "language": "python",
   "name": "python3"
  },
  "language_info": {
   "codemirror_mode": {
    "name": "ipython",
    "version": 3
   },
   "file_extension": ".py",
   "mimetype": "text/x-python",
   "name": "python",
   "nbconvert_exporter": "python",
   "pygments_lexer": "ipython3",
   "version": "3.9.5"
  }
 },
 "nbformat": 4,
 "nbformat_minor": 5
}
