{
 "cells": [
  {
   "cell_type": "code",
   "execution_count": 1,
   "id": "9ed3b603-1e47-4285-a447-ce1cb3352021",
   "metadata": {},
   "outputs": [],
   "source": [
    "import numpy as np\n",
    "import matplotlib.pyplot as plt\n",
    "from matplotlib import cm\n",
    "from cmath import exp, sqrt, pi, cos, sin"
   ]
  },
  {
   "cell_type": "code",
   "execution_count": 21,
   "id": "96428953-47d6-4e2d-877f-ef9714968f01",
   "metadata": {},
   "outputs": [],
   "source": [
    "class HydrogenicAtom:\n",
    "    \"\"\"\n",
    "    This class models the wavefunctions and energy levels of a hydrogenic atom.\n",
    "    \"\"\"\n",
    "    \n",
    "    def __init__(self, l, ml):\n",
    "        \"\"\"\n",
    "        Parameters\n",
    "        ----------    \n",
    "        theta: float\n",
    "            Theta coordinate, from 0 to 2*pi\n",
    "\n",
    "        phi: float\n",
    "            Phi coordinate, from \n",
    "        \"\"\"\n",
    "        self.l = l\n",
    "        self.ml = ml\n",
    "    \n",
    "    def spherical_harmonic(self, theta, phi):\n",
    "        \"\"\"\n",
    "        Find the value of the spherical harmonic given an quantum numbers\n",
    "        l, ml and coordinates theta, phi.\n",
    "        \n",
    "        Parameters\n",
    "        ----------    \n",
    "        theta: float\n",
    "            Theta coordinate, from 0 to 2*pi\n",
    "\n",
    "        phi: float\n",
    "            Phi coordinate, from \n",
    "        \"\"\"\n",
    "        if self.l == 0 and self.ml == 0:\n",
    "            return sqrt(1 / 4.0 / pi)\n",
    "        elif self.l == 1 and self.l == 0:\n",
    "            return sqrt(3.0 / 4.0 / pi) * cos(theta)\n",
    "        elif self.l == 1 and self.ml == 1:\n",
    "            return -sqrt(3.0 / 8.0 / pi) * sin(theta) * exp(1j * phi)\n",
    "        elif self.l == 1 and self.ml == -1:\n",
    "            return -sqrt(3.0 / 8.0 / pi) * sin(theta) * exp(-1j * phi)\n",
    "        else:\n",
    "            raise Exception(f'No equation for l={self.l} and ml={self.ml}')"
   ]
  },
  {
   "cell_type": "code",
   "execution_count": 23,
   "id": "eb74736a-5527-4247-8ee2-0c19dd5d2860",
   "metadata": {},
   "outputs": [
    {
     "ename": "Exception",
     "evalue": "No equation for l=1 and ml=0",
     "output_type": "error",
     "traceback": [
      "\u001b[0;31m---------------------------------------------------------------------------\u001b[0m",
      "\u001b[0;31mException\u001b[0m                                 Traceback (most recent call last)",
      "\u001b[0;32m<ipython-input-23-c6f864ef3288>\u001b[0m in \u001b[0;36m<module>\u001b[0;34m\u001b[0m\n\u001b[1;32m      7\u001b[0m \u001b[0;32mfor\u001b[0m \u001b[0mphi\u001b[0m \u001b[0;32min\u001b[0m \u001b[0mphis\u001b[0m\u001b[0;34m:\u001b[0m\u001b[0;34m\u001b[0m\u001b[0;34m\u001b[0m\u001b[0m\n\u001b[1;32m      8\u001b[0m     \u001b[0;32mfor\u001b[0m \u001b[0mtheta\u001b[0m \u001b[0;32min\u001b[0m \u001b[0mthetas\u001b[0m\u001b[0;34m:\u001b[0m\u001b[0;34m\u001b[0m\u001b[0;34m\u001b[0m\u001b[0m\n\u001b[0;32m----> 9\u001b[0;31m         \u001b[0mspherical\u001b[0m\u001b[0;34m.\u001b[0m\u001b[0mappend\u001b[0m\u001b[0;34m(\u001b[0m\u001b[0mha\u001b[0m\u001b[0;34m.\u001b[0m\u001b[0mspherical_harmonic\u001b[0m\u001b[0;34m(\u001b[0m\u001b[0mtheta\u001b[0m\u001b[0;34m,\u001b[0m \u001b[0mphi\u001b[0m\u001b[0;34m)\u001b[0m\u001b[0;34m)\u001b[0m\u001b[0;34m\u001b[0m\u001b[0;34m\u001b[0m\u001b[0m\n\u001b[0m\u001b[1;32m     10\u001b[0m \u001b[0mspherical\u001b[0m \u001b[0;34m=\u001b[0m \u001b[0mnp\u001b[0m\u001b[0;34m.\u001b[0m\u001b[0marray\u001b[0m\u001b[0;34m(\u001b[0m\u001b[0mspherical\u001b[0m\u001b[0;34m)\u001b[0m\u001b[0;34m\u001b[0m\u001b[0;34m\u001b[0m\u001b[0m\n\u001b[1;32m     11\u001b[0m \u001b[0mfig\u001b[0m\u001b[0;34m,\u001b[0m \u001b[0max\u001b[0m \u001b[0;34m=\u001b[0m \u001b[0mplt\u001b[0m\u001b[0;34m.\u001b[0m\u001b[0msubplots\u001b[0m\u001b[0;34m(\u001b[0m\u001b[0mnrows\u001b[0m\u001b[0;34m=\u001b[0m\u001b[0;36m1\u001b[0m\u001b[0;34m,\u001b[0m \u001b[0mncols\u001b[0m\u001b[0;34m=\u001b[0m\u001b[0;36m1\u001b[0m\u001b[0;34m,\u001b[0m \u001b[0mfigsize\u001b[0m\u001b[0;34m=\u001b[0m\u001b[0;34m(\u001b[0m\u001b[0;36m5\u001b[0m\u001b[0;34m,\u001b[0m \u001b[0;36m5\u001b[0m\u001b[0;34m)\u001b[0m\u001b[0;34m)\u001b[0m\u001b[0;34m\u001b[0m\u001b[0;34m\u001b[0m\u001b[0m\n",
      "\u001b[0;32m<ipython-input-21-a454ecbf60f1>\u001b[0m in \u001b[0;36mspherical_harmonic\u001b[0;34m(self, theta, phi)\u001b[0m\n\u001b[1;32m     39\u001b[0m             \u001b[0;32mreturn\u001b[0m \u001b[0;34m-\u001b[0m\u001b[0msqrt\u001b[0m\u001b[0;34m(\u001b[0m\u001b[0;36m3.0\u001b[0m \u001b[0;34m/\u001b[0m \u001b[0;36m8.0\u001b[0m \u001b[0;34m/\u001b[0m \u001b[0mpi\u001b[0m\u001b[0;34m)\u001b[0m \u001b[0;34m*\u001b[0m \u001b[0msin\u001b[0m\u001b[0;34m(\u001b[0m\u001b[0mtheta\u001b[0m\u001b[0;34m)\u001b[0m \u001b[0;34m*\u001b[0m \u001b[0mexp\u001b[0m\u001b[0;34m(\u001b[0m\u001b[0;34m-\u001b[0m\u001b[0;36m1j\u001b[0m \u001b[0;34m*\u001b[0m \u001b[0mphi\u001b[0m\u001b[0;34m)\u001b[0m\u001b[0;34m\u001b[0m\u001b[0;34m\u001b[0m\u001b[0m\n\u001b[1;32m     40\u001b[0m         \u001b[0;32melse\u001b[0m\u001b[0;34m:\u001b[0m\u001b[0;34m\u001b[0m\u001b[0;34m\u001b[0m\u001b[0m\n\u001b[0;32m---> 41\u001b[0;31m             \u001b[0;32mraise\u001b[0m \u001b[0mException\u001b[0m\u001b[0;34m(\u001b[0m\u001b[0;34mf'No equation for l={self.l} and ml={self.ml}'\u001b[0m\u001b[0;34m)\u001b[0m\u001b[0;34m\u001b[0m\u001b[0;34m\u001b[0m\u001b[0m\n\u001b[0m",
      "\u001b[0;31mException\u001b[0m: No equation for l=1 and ml=0"
     ]
    }
   ],
   "source": [
    "ha = HydrogenicAtom(l=1, ml=0)\n",
    "l = 1\n",
    "ml = -1\n",
    "thetas = np.linspace(0, 2 * pi, 10)\n",
    "phis = np.linspace(0, pi, 10)\n",
    "spherical = []\n",
    "for phi in phis:\n",
    "    for theta in thetas:\n",
    "        spherical.append(ha.spherical_harmonic(theta, phi))\n",
    "spherical = np.array(spherical)\n",
    "fig, ax = plt.subplots(nrows=1, ncols=1, figsize=(5, 5))\n",
    "ax.scatter(spherical.real, spherical.imag)"
   ]
  },
  {
   "cell_type": "code",
   "execution_count": null,
   "id": "41029137-05ab-459b-99bd-3ce6c27baddc",
   "metadata": {},
   "outputs": [],
   "source": []
  }
 ],
 "metadata": {
  "kernelspec": {
   "display_name": "Python 3",
   "language": "python",
   "name": "python3"
  },
  "language_info": {
   "codemirror_mode": {
    "name": "ipython",
    "version": 3
   },
   "file_extension": ".py",
   "mimetype": "text/x-python",
   "name": "python",
   "nbconvert_exporter": "python",
   "pygments_lexer": "ipython3",
   "version": "3.9.5"
  }
 },
 "nbformat": 4,
 "nbformat_minor": 5
}
