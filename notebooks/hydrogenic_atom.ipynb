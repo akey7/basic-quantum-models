{
 "cells": [
  {
   "cell_type": "code",
   "execution_count": 1,
   "id": "9ed3b603-1e47-4285-a447-ce1cb3352021",
   "metadata": {},
   "outputs": [],
   "source": [
    "import numpy as np\n",
    "import matplotlib.pyplot as plt\n",
    "from matplotlib import cm\n",
    "from math import exp, sqrt, pi, cos, sin\n",
    "from scipy.integrate import dblquad, tplquad, quad\n",
    "import cmath"
   ]
  },
  {
   "cell_type": "markdown",
   "id": "0281e097-b838-4d4c-b2bb-37e30df42b13",
   "metadata": {},
   "source": [
    "## Define a class for the hydrogenic atom\n",
    "\n",
    "This class has wavefunctions and energies. It is based on Chapter 10 of *Physical Chemistry, 8th Ed* by Atkins and De Paula. My goal is to reproduce the plots in the book and thereby reinforce my memory of how the physical systems work."
   ]
  },
  {
   "cell_type": "code",
   "execution_count": 2,
   "id": "96428953-47d6-4e2d-877f-ef9714968f01",
   "metadata": {},
   "outputs": [],
   "source": [
    "class HydrogenicAtom:\n",
    "    \"\"\"\n",
    "    This class models the wavefunctions and energy levels of a hydrogenic atom.\n",
    "    \n",
    "    It assumes an infinitely heavy nucleus, so the mass is that of the\n",
    "    electron.\n",
    "    \n",
    "    Masses are in kg, distances are in m\n",
    "    \n",
    "    This whole class uses complex numbers and math functions.\n",
    "    \"\"\"\n",
    "    \n",
    "    def __init__(self, n=1, l=0, ml=0, z=1):\n",
    "        \"\"\"\n",
    "        This sets some instance attributes and a few constant used throughout the\n",
    "        class.\n",
    "        \n",
    "        Leave z at 1 for hydrogen.\n",
    "        \n",
    "        Parameters\n",
    "        ----------    \n",
    "        n: int\n",
    "            Principal quantum number.\n",
    "            \n",
    "        l: int\n",
    "            Orbital angular momentum quantum number.\n",
    "            \n",
    "        ml: int\n",
    "            Magnetic quantum number.\n",
    "            \n",
    "        z: int\n",
    "            Number of protons in the nucleus. Defaults to 1.\n",
    "        \"\"\"\n",
    "        self.a0 = 5.29e-11       # m\n",
    "        self.me = 9.10938356e-31 # kg\n",
    "        self.e0 = 8.85418782e-12 # Permitivity of free space\n",
    "        self.e_charge = 1.60217662e-19 # Coulombs, charge of electron\n",
    "        self.hbar = 1.054571817e-34  # Reduced Planck's constant\n",
    "        self.n = n\n",
    "        self.l = l\n",
    "        self.ml = ml\n",
    "        self.z = z\n",
    "        \n",
    "    def rho(self, r):\n",
    "        \"\"\"\n",
    "        Calculates the rho part of the radial function. It assumes an infinitely\n",
    "        heavy nucleus.\n",
    "        \n",
    "        From Atkins and de Paula, Table 10.1, page 324\n",
    "        \n",
    "        Parameters\n",
    "        ----------\n",
    "        r: float\n",
    "            The distance, in meters being calculated\n",
    "            \n",
    "        Returns\n",
    "        -------\n",
    "        float\n",
    "            The value of rho.\n",
    "        \"\"\"\n",
    "        return (2 * self.z / self.n / self.a0) * r\n",
    "    \n",
    "    def radial(self, r):\n",
    "        \"\"\"\n",
    "        The radial part of the wavefunction\n",
    "        \n",
    "        Parameters\n",
    "        ----------\n",
    "        r: float\n",
    "            Radius, in meters\n",
    "            \n",
    "        Returns\n",
    "        -------\n",
    "        complex\n",
    "            The value of the radial wavefunction, which only uses the real\n",
    "            part of the complex value.\n",
    "            \n",
    "        Raises\n",
    "        ------\n",
    "        Exception\n",
    "            Raises an exception for invalid n and l\n",
    "        \"\"\"\n",
    "        za32 = (self.z / self.a0) ** (3/2)\n",
    "        rho = self.rho(r)\n",
    "        exp_rho = exp(-rho / 2.0)\n",
    "        \n",
    "        if self.n == 1 and self.l == 0:  # 1s orbital\n",
    "            return 2 * za32 * exp_rho\n",
    "        elif self.n == 2 and self.l == 0:  # 2s orbital\n",
    "            return (1.0 / sqrt(8)) * za32 * (2.0 - rho) * exp_rho\n",
    "        elif self.n == 2 and self.l == 1:  # 2p orbital\n",
    "            return (1.0 / sqrt(24)) * za32 * rho * exp_rho\n",
    "        elif self.n == 3 and self.l == 0:\n",
    "            return (1.0 / sqrt(243)) * za32 * (6.0 - 6 * rho + rho ** 2) * exp_rho\n",
    "        elif self.n == 3 and self.l == 1:\n",
    "            return (1.0 / sqrt(486)) * za32 * (4.0 - rho) * rho * exp_rho\n",
    "        elif self.n == 3 and self.l == 2:\n",
    "            return (1.0 / sqrt(2430)) * za32 * rho ** 2 * exp_rho\n",
    "        else:\n",
    "            raise Exception(f'No radial function for {self.n} and {self.l}')\n",
    "            \n",
    "    def spherical_harmonic(self, theta, phi):\n",
    "        \"\"\"\n",
    "        Find the value of the spherical harmonic given an quantum numbers\n",
    "        l, ml and coordinates theta, phi.\n",
    "        \n",
    "        From Atkins and de Paula, Table 9.3, page 302\n",
    "        \n",
    "        Parameters\n",
    "        ----------    \n",
    "        theta: float\n",
    "            Theta coordinate, from 0 to pi\n",
    "\n",
    "        phi: float\n",
    "            Phi coordinate, from 0 to 2*pi\n",
    "            \n",
    "        Returns\n",
    "        -------\n",
    "        complex\n",
    "            The value of the spherical harmonic, which is a complex value\n",
    "            \n",
    "        Raises\n",
    "        ------\n",
    "        Exception\n",
    "            Raises an Exception for an invalid combination of l and ml\n",
    "        \"\"\"\n",
    "        if self.l == 0 and self.ml == 0:\n",
    "            return sqrt(1 / 4.0 / pi)\n",
    "        \n",
    "        elif self.l == 1 and self.ml == 0:\n",
    "            return sqrt(3.0 / 4.0 / pi) * cos(theta)\n",
    "        elif self.l == 1 and self.ml == 1:\n",
    "            return -sqrt(3.0 / 8.0 / pi) * sin(theta) * cmath.exp(1j * phi)\n",
    "        elif self.l == 1 and self.ml == -1:\n",
    "            return -sqrt(3.0 / 8.0 / pi) * sin(theta) * cmath.exp(-1j * phi)\n",
    "        \n",
    "        elif self.l == 2 and self.ml == 0:\n",
    "            return sqrt(5.0 / 16.0 / pi) * (3 * cos(theta)** 2 - 1)\n",
    "        elif self.l == 2 and self.ml == 1:\n",
    "            return -sqrt(15.0 / 8.0 / pi) * cos(theta) * sin(theta) * cmath.exp(1j * phi)\n",
    "        elif self.l == 2 and self.ml == -1:\n",
    "            return sqrt(15.0 / 8.0 / pi) * cos(theta) * sin(theta) * cmath.exp(-1j * phi)\n",
    "        elif self.l == 2 and self.ml == 2:\n",
    "            return sqrt(15.0 / 32.0 / pi) * sin(theta) ** 2 * cmath.exp(2j * phi)\n",
    "        elif self.l == 2 and self.ml == -2:\n",
    "            return sqrt(15.0 / 32.0 / pi) * sin(theta) ** 2 * cmath.exp(-2j * phi)\n",
    "        \n",
    "        elif self.l == 3 and self.ml == 0:\n",
    "            return sqrt(7.0 / 16.0 / pi) * (5 * cos(theta) ** 3 - 3 * cos(theta))\n",
    "        elif self.l == 3 and self.ml == 1:\n",
    "            return -sqrt(21.0 / 64.0 / pi) * (5 * cos(theta) ** 2 - 1) * sin(theta) * cmath.exp(1j * phi)\n",
    "        elif self.l == 3 and self.ml == -1:\n",
    "            return sqrt(21.0 / 64.0 / pi) * (5 * cos(theta) ** 2 - 1) * sin(theta) * cmath.exp(-1j * phi)\n",
    "        elif self.l == 3 and self.ml == 2:\n",
    "            return sqrt(105.0 / 32.0 / pi) * sin(theta) ** 2 * cos(theta) * cmath.exp(2j * phi)\n",
    "        elif self.l == 3 and self.ml == -2:\n",
    "            return sqrt(105.0 / 32.0 / pi) * sin(theta) ** 2 * cos(theta) * cmath.exp(-2j * phi)\n",
    "        elif self.l == 3 and self.ml == 3:\n",
    "            return -sqrt(35.0 / 64.0 / pi) * sin(theta) ** 3 * cmath.exp(3j * phi)\n",
    "        elif self.l == 3 and self.ml == -3:\n",
    "            return sqrt(35.0 / 64.0 / pi) * sin(theta) ** 3 * cmath.exp(-3j * phi)\n",
    "        \n",
    "        else:\n",
    "            raise Exception(f'No equation for l={self.l} and ml={self.ml}')\n",
    "            \n",
    "    def wavefunction(self, r, theta, phi):\n",
    "        \"\"\"\n",
    "        Returns the value of the wavefunction at the given location.\n",
    "        \n",
    "        Parameters\n",
    "        ----------\n",
    "        r: float\n",
    "            The r value, from 0 to infinity\n",
    "            \n",
    "        theta: float\n",
    "            The theta value, from 0 to pi\n",
    "            \n",
    "        phi: float\n",
    "            The phi value, from 0 to 2*pi\n",
    "            \n",
    "        Returns\n",
    "        -------\n",
    "        complex\n",
    "            The complex value of the wavefunction.\n",
    "        \"\"\"\n",
    "        return self.radial(r) * self.spherical_harmonic(theta, phi)\n",
    "            \n",
    "    def energy(self):\n",
    "        \"\"\"\n",
    "        This calcuates the energy in Joules of the electron at the n level of this\n",
    "        atoms configuration.\n",
    "        \n",
    "        It makes the infinite mas approximation for the nucleus, so the mass in\n",
    "        the expression is that of the electron.\n",
    "        \n",
    "        From page 324 of Atkins and de Paula\n",
    "        \n",
    "        Returns\n",
    "        -------\n",
    "        float, float\n",
    "            First float is energy level in joules, second float is energy level in eV\n",
    "        \"\"\"\n",
    "        ev_per_joule = 6.242e+18\n",
    "        numerator = self.z**2 * self.me * self.e_charge**4\n",
    "        denominator = 32 * pi**2 * self.e0**2 * self.hbar**2 * self.n**2\n",
    "        value = numerator / denominator\n",
    "        joules = -value\n",
    "        ev = joules * ev_per_joule\n",
    "        return joules, ev"
   ]
  },
  {
   "cell_type": "markdown",
   "id": "882b6585-4e30-4683-aa25-5edf9a7d378b",
   "metadata": {},
   "source": [
    "## Check the spherical harmonics\n",
    "\n",
    "Make sure all the spherical harmonics are normalized. That means each of the the spherical harmonic functions must stasify the following expression:\n",
    "\n",
    "$$ \\int_0^{\\pi} \\int_0^{2\\pi} \\lvert Y_{l, m_l} \\rvert ^2 \\sin \\theta d \\theta d \\phi = 1 $$\n",
    "\n",
    "The next block of code takes the spherical harmonic for each parameter set of l and ml and numerically integrates it to ensure that the result is 1.0, within floating point precision. A report of the parameters and the results follows."
   ]
  },
  {
   "cell_type": "code",
   "execution_count": 3,
   "id": "03b0193d-42dd-4b0e-97a9-a49ef0a8b7b6",
   "metadata": {},
   "outputs": [
    {
     "name": "stdout",
     "output_type": "stream",
     "text": [
      "{'n': 3, 'l': 0, 'ml': 0, 'result': 0.9999999999999999}\n",
      "{'n': 3, 'l': 1, 'ml': 0, 'result': 1.0}\n",
      "{'n': 3, 'l': 1, 'ml': 1, 'result': 0.9999999999999999}\n",
      "{'n': 3, 'l': 1, 'ml': -1, 'result': 0.9999999999999999}\n",
      "{'n': 3, 'l': 2, 'ml': 0, 'result': 1.0000000000000002}\n",
      "{'n': 3, 'l': 2, 'ml': 1, 'result': 1.0}\n",
      "{'n': 3, 'l': 2, 'ml': -1, 'result': 1.0}\n",
      "{'n': 3, 'l': 2, 'ml': 2, 'result': 1.0}\n",
      "{'n': 3, 'l': 2, 'ml': -2, 'result': 1.0}\n",
      "{'n': 3, 'l': 3, 'ml': 0, 'result': 1.0}\n",
      "{'n': 3, 'l': 3, 'ml': 1, 'result': 1.0000000000000002}\n",
      "{'n': 3, 'l': 3, 'ml': -1, 'result': 1.0000000000000002}\n",
      "{'n': 3, 'l': 3, 'ml': 2, 'result': 0.9999999999999998}\n",
      "{'n': 3, 'l': 3, 'ml': -2, 'result': 0.9999999999999998}\n",
      "{'n': 3, 'l': 3, 'ml': 3, 'result': 1.0000000000000004}\n",
      "{'n': 3, 'l': 3, 'ml': -3, 'result': 1.0000000000000004}\n"
     ]
    }
   ],
   "source": [
    "parameters = [\n",
    "    { 'n': 3, 'l': 0, 'ml': 0 },\n",
    "    { 'n': 3, 'l': 1, 'ml': 0 },\n",
    "    { 'n': 3, 'l': 1, 'ml': 1 },\n",
    "    { 'n': 3, 'l': 1, 'ml': -1 },\n",
    "    { 'n': 3, 'l': 2, 'ml': 0 },\n",
    "    { 'n': 3, 'l': 2, 'ml': 1 },\n",
    "    { 'n': 3, 'l': 2, 'ml': -1 },\n",
    "    { 'n': 3, 'l': 2, 'ml': 2 },\n",
    "    { 'n': 3, 'l': 2, 'ml': -2 },\n",
    "    { 'n': 3, 'l': 3, 'ml': 0 },\n",
    "    { 'n': 3, 'l': 3, 'ml': 1 },\n",
    "    { 'n': 3, 'l': 3, 'ml': -1 },\n",
    "    { 'n': 3, 'l': 3, 'ml': 2 },\n",
    "    { 'n': 3, 'l': 3, 'ml': -2 },\n",
    "    { 'n': 3, 'l': 3, 'ml': 3 },\n",
    "    { 'n': 3, 'l': 3, 'ml': -3 }\n",
    "]\n",
    "\n",
    "for p in parameters:\n",
    "    ha = HydrogenicAtom(n=p['n'], l=p['l'], ml=p['ml'])\n",
    "    def integrand(phi,theta):\n",
    "        value = ha.spherical_harmonic(theta, phi)\n",
    "        return abs(value) ** 2 * sin(theta).real\n",
    "    p['result'], _ = dblquad(integrand, 0, pi, 0, 2 * pi)\n",
    "    \n",
    "for p in parameters:\n",
    "    print(p)"
   ]
  },
  {
   "cell_type": "markdown",
   "id": "b6494f97-c32e-48aa-b980-e42c9b0eb829",
   "metadata": {},
   "source": [
    "## Plots of the radial functions\n",
    "\n",
    "Figure 1 has plots of the radial functions for various combinations of n and l. Some of the subplots are blank because there is no corresponding radial function for their position on the chart."
   ]
  },
  {
   "cell_type": "code",
   "execution_count": 4,
   "id": "b6372126-9a2f-4268-91ec-4ce665dcf402",
   "metadata": {},
   "outputs": [
    {
     "data": {
      "text/plain": [
       "Text(0.5, 1.0, 'intentionally blank')"
      ]
     },
     "execution_count": 4,
     "metadata": {},
     "output_type": "execute_result"
    },
    {
     "data": {
      "image/png": "[encoded data removed]",
      "text/plain": [
       "<Figure size 864x1080 with 9 Axes>"
      ]
     },
     "metadata": {
      "needs_background": "light"
     },
     "output_type": "display_data"
    }
   ],
   "source": [
    "fig, axs = plt.subplots(nrows=3, ncols=3, figsize=(12, 15))\n",
    "\n",
    "# Just so I can access instance variables in an instance to make the dictionary.\n",
    "ha = HydrogenicAtom()\n",
    "yscaler = (ha.z / ha.a0)**(3/2)\n",
    "\n",
    "parameters = [\n",
    "    {'n': 1, 'l': 0, 'x_scaler': 5, 'yscaler':  yscaler },\n",
    "    {'n': 2, 'l': 0, 'x_scaler': 15, 'yscaler': yscaler },\n",
    "    {'n': 3, 'l': 0, 'x_scaler': 20, 'yscaler': yscaler },\n",
    "    {'n': 2, 'l': 1, 'x_scaler': 15, 'yscaler': yscaler },\n",
    "    {'n': 3, 'l': 1, 'x_scaler': 30, 'yscaler': yscaler },\n",
    "    {'n': 3, 'l': 2, 'x_scaler': 30, 'yscaler': yscaler }\n",
    "]\n",
    "\n",
    "for p in parameters:\n",
    "    row = p['n'] - 1\n",
    "    col = p['l']\n",
    "    ha = HydrogenicAtom(n=p['n'], l=p['l'])\n",
    "    xs = np.linspace(0, ha.a0 * p['x_scaler'], 100)\n",
    "    xs_labels = xs / ha.a0  # so that the x axis is labeled in units of a0\n",
    "    ys = [ha.radial(r) / p['yscaler'] for r in xs]\n",
    "    ax = axs[row, col]\n",
    "    ax.set_title(f'n={p[\"n\"]}, l={p[\"l\"]}', color='b')\n",
    "    ax.set_xlim(min(xs_labels), max(xs_labels))\n",
    "    if col == 0:\n",
    "        ax.set_ylabel('r/((Z/a0)**(3/2))', color='b')\n",
    "    ax.set_xlabel('r/a0')\n",
    "    ax.axhline(0.0, color='r')\n",
    "    ax.plot(xs_labels, ys)\n",
    "    \n",
    "axs[0, 1].set_title('intentionally blank')\n",
    "axs[0, 2].set_title('intentionally blank')\n",
    "axs[1, 2].set_title('intentionally blank')"
   ]
  },
  {
   "cell_type": "markdown",
   "id": "000f7be4-d654-4ffd-994e-ad72f5c6ae34",
   "metadata": {},
   "source": [
    "## Hydrogen energy levels\n",
    "\n",
    "Note how the levels pack closer together at higher energy levels. The lowest energy, -13.6 eV, is the ground state of the hydrogen atom. All the energies are negative, which means they refer to bound states where the nucleus holds the electron."
   ]
  },
  {
   "cell_type": "code",
   "execution_count": 5,
   "id": "2497abb5-a136-4b0c-af9b-cde530c836c5",
   "metadata": {},
   "outputs": [
    {
     "data": {
      "image/png": "[encoded data removed]",
      "text/plain": [
       "<Figure size 144x720 with 1 Axes>"
      ]
     },
     "metadata": {
      "needs_background": "light"
     },
     "output_type": "display_data"
    }
   ],
   "source": [
    "ys = []\n",
    "for n in range(1, 10):\n",
    "    ha = HydrogenicAtom(n=n)\n",
    "    _, ev = ha.energy()\n",
    "    ys.append((n, round(ev, 2)))\n",
    "\n",
    "fig, ax = plt.subplots(nrows=1, ncols=1, figsize=(2, 10))\n",
    "ax.set_ylim(-14.0, 0.0)\n",
    "ax.set_xticks([])\n",
    "ax.set_ylabel('eV', size=20, color='b')\n",
    "ax.set_title('Hydrogen Energy Levels, n=1 to n=9', size=20, color='b')\n",
    "for y in ys:\n",
    "    ax.axhline(y[1], color='r')"
   ]
  },
  {
   "cell_type": "markdown",
   "id": "61742bfe-84fa-43ed-baa2-2a05ef908d17",
   "metadata": {},
   "source": [
    "## By numeric integration, what is the mean radius of 1s orbital?\n",
    "\n",
    "In this section, I follow the integral given in Example 10.2 that will find the mean radius of an orbital: \n",
    "\n",
    "$$ \\langle r \\rangle = \\int_0^{\\infty} r^3 R_{n,l}^2 dr $$\n",
    "\n",
    "I integrate it numerically with the `quad` function from `scipy.integrate`. The `points` argument to `quad` tells the function the r values that the value ies within. To help the `quad` numeri integration function out, I took a guess that the mean radius is going to be within \\\\(10 \\times a_0 \\times n\\\\) radii of the nucleus. Also, I took 1 meter as the \"infinity\" for integration in this case."
   ]
  },
  {
   "cell_type": "code",
   "execution_count": 6,
   "id": "7ba680b3-cf6b-44e3-8450-11aca0b9c2b3",
   "metadata": {},
   "outputs": [
    {
     "data": {
      "text/plain": [
       "(7.934974578483517e-11, 3.8150348949908406e-14)"
      ]
     },
     "execution_count": 6,
     "metadata": {},
     "output_type": "execute_result"
    }
   ],
   "source": [
    "ha = HydrogenicAtom(n=1, l=0, ml=0)\n",
    "\n",
    "def integrand(r):\n",
    "    return r**3 * ha.radial(r)**2\n",
    "\n",
    "quad(integrand, 0, 1, points=[0, 10 * ha.a0 * ha.n])"
   ]
  },
  {
   "cell_type": "markdown",
   "id": "43fdffb3-8243-42ed-908d-10eb64029f18",
   "metadata": {},
   "source": [
    "THe first element of the tuple above is the result of the integration, and the second element is the estimated error of the integration. Below is the solution to the analytical integration solution given by the book. It matches the numeric integration!"
   ]
  },
  {
   "cell_type": "code",
   "execution_count": 7,
   "id": "eeeaf92f-4f22-4d7b-9668-457df9e340a0",
   "metadata": {
    "tags": []
   },
   "outputs": [
    {
     "data": {
      "text/plain": [
       "7.935e-11"
      ]
     },
     "execution_count": 7,
     "metadata": {},
     "output_type": "execute_result"
    }
   ],
   "source": [
    "3 * ha.a0 / 2"
   ]
  },
  {
   "cell_type": "markdown",
   "id": "6b35e543-4971-43cb-a8d6-8bd72b2a636d",
   "metadata": {},
   "source": [
    "What about the 3s orbital? First numeric integration, then the numeric solution from the book."
   ]
  },
  {
   "cell_type": "code",
   "execution_count": 8,
   "id": "1b7dbb1d-4f80-4334-af71-ba360af544f6",
   "metadata": {},
   "outputs": [
    {
     "data": {
      "text/plain": [
       "(7.118296273936347e-10, 6.083642982150495e-11)"
      ]
     },
     "execution_count": 8,
     "metadata": {},
     "output_type": "execute_result"
    }
   ],
   "source": [
    "ha = HydrogenicAtom(n=3, l=0, ml=0)\n",
    "\n",
    "def integrand(r):\n",
    "    return r**3 * ha.radial(r)**2\n",
    "\n",
    "quad(integrand, 0, 1, points=[0, 10 * ha.a0 * ha.n])"
   ]
  },
  {
   "cell_type": "code",
   "execution_count": 9,
   "id": "a28e896a-f0cf-4a2f-a2e0-fde57c5cccfd",
   "metadata": {},
   "outputs": [
    {
     "data": {
      "text/plain": [
       "7.1415e-10"
      ]
     },
     "execution_count": 9,
     "metadata": {},
     "output_type": "execute_result"
    }
   ],
   "source": [
    "27 * ha.a0 / 2"
   ]
  },
  {
   "cell_type": "markdown",
   "id": "87aff2f9-84d8-45e3-ac82-dac0334ab7b7",
   "metadata": {},
   "source": [
    "What about the 3p orbital?"
   ]
  },
  {
   "cell_type": "code",
   "execution_count": 10,
   "id": "0589bbc2-86a0-4153-9992-bfacc41bce87",
   "metadata": {},
   "outputs": [
    {
     "data": {
      "text/plain": [
       "(6.598213399404118e-10, 3.765511206963294e-12)"
      ]
     },
     "execution_count": 10,
     "metadata": {},
     "output_type": "execute_result"
    }
   ],
   "source": [
    "ha = HydrogenicAtom(n=3, l=1, ml=0)\n",
    "\n",
    "def integrand(r):\n",
    "    return r**3 * ha.radial(r)**2\n",
    "\n",
    "quad(integrand, 0, 1, points=[0, 10 * ha.a0 * ha.n])"
   ]
  },
  {
   "cell_type": "code",
   "execution_count": 11,
   "id": "2da8c629-c056-4acf-8d1f-4a1d509b03e9",
   "metadata": {},
   "outputs": [
    {
     "data": {
      "text/plain": [
       "6.6125e-10"
      ]
     },
     "execution_count": 11,
     "metadata": {},
     "output_type": "execute_result"
    }
   ],
   "source": [
    "25 * ha.a0 / 2"
   ]
  },
  {
   "cell_type": "markdown",
   "id": "09915cdb-b62f-4ef0-86b5-127813758078",
   "metadata": {},
   "source": [
    "Overall, the numerical integration and the guess about where the interesting parts of the integration are worked out fairly well for these examples."
   ]
  },
  {
   "cell_type": "code",
   "execution_count": null,
   "id": "45d13b01-52eb-46d7-af98-5ee5c0840190",
   "metadata": {},
   "outputs": [],
   "source": []
  }
 ],
 "metadata": {
  "kernelspec": {
   "display_name": "Python 3",
   "language": "python",
   "name": "python3"
  },
  "language_info": {
   "codemirror_mode": {
    "name": "ipython",
    "version": 3
   },
   "file_extension": ".py",
   "mimetype": "text/x-python",
   "name": "python",
   "nbconvert_exporter": "python",
   "pygments_lexer": "ipython3",
   "version": "3.9.5"
  }
 },
 "nbformat": 4,
 "nbformat_minor": 5
}
