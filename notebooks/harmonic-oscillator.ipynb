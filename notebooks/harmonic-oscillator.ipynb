{
 "cells": [
  {
   "cell_type": "code",
   "execution_count": 2,
   "id": "bb847f62-27af-4c81-946a-05deb983754d",
   "metadata": {},
   "outputs": [],
   "source": [
    "import numpy as np\n",
    "import matplotlib.pyplot as plt\n",
    "from math import pi, sqrt"
   ]
  },
  {
   "cell_type": "markdown",
   "id": "62af02fc-c3cf-4158-a533-2b53ddde2ef5",
   "metadata": {},
   "source": [
    "Define a class for the harmonic oscillator"
   ]
  },
  {
   "cell_type": "code",
   "execution_count": 19,
   "id": "e276256a-c8ad-4512-b3dc-b79aaa80edb7",
   "metadata": {},
   "outputs": [],
   "source": [
    "class QuantumHarmonicOscillator:\n",
    "    \"\"\"\n",
    "    This models a harmonic oscillator. Parameters used throughout the methods\n",
    "    are:\n",
    "    \n",
    "    nu: The level of the harmonic oscillator\n",
    "    k: The force constant\n",
    "    m: The mass\n",
    "    \"\"\"\n",
    "    \n",
    "    def __init__(self, mass, k):\n",
    "        \"\"\"\n",
    "        Setup the values used by all methods in this model.\n",
    "        \n",
    "        Parameters\n",
    "        ----------\n",
    "        mass: float\n",
    "            The reduced mass of the system, in kg\n",
    "        \n",
    "        k: float\n",
    "            The force constant, in N/m\n",
    "        \"\"\"\n",
    "        self.hbar = 1.054571817e-34\n",
    "        self.k = k\n",
    "        self.mass = mass\n",
    "        self.omega = sqrt(k / mass)\n",
    "    \n",
    "    def hermite(self, n, gamma):\n",
    "        \"\"\"\n",
    "        Returns the value of the nu-th (nth) Hermite polynomial evaluated on gamma\n",
    "        \n",
    "        The nu and gamma notation follows Atkins' Physical Chemistry 8th ed.\n",
    "        \n",
    "        Parameters\n",
    "        ----------\n",
    "        nu: int\n",
    "            The nu-th (nth) Hermite polynomial\n",
    "            \n",
    "        gamma: float\n",
    "            The value to calculate with the Hermite polynomial\n",
    "            \n",
    "        Raises\n",
    "        ------\n",
    "        Exception\n",
    "            Raises an exception if the nth Hermite polynomial is not\n",
    "            supported.\n",
    "        \"\"\"\n",
    "        if n == 0:\n",
    "            return 1\n",
    "        elif n == 1:\n",
    "            return 2 * gamma\n",
    "        elif n == 2:\n",
    "            return 4 * gamma ** 2 - 2\n",
    "        elif n == 3:\n",
    "            return 8 * gamma ** 3 - 12 * gamma\n",
    "        elif n == 4:\n",
    "            return 16 * gamma ** 4 - 48 * gamma ** 2 + 12\n",
    "        elif n == 5:\n",
    "            return 32 * gamma ** 5 - 160 * gamma ** 3 + 120 * gamma\n",
    "        elif n == 6:\n",
    "            return 64 * gamma ** 6 - 480 * gamma ** 4 + 720 * gamma ** 2 - 120\n",
    "        else:\n",
    "            raise Exception(f'Hermite polynomial {n} is not supported')\n",
    "    \n",
    "    def energy(self, nu):\n",
    "        \"\"\"\n",
    "        Calculate the energy at the given level nu of the system\n",
    "        \n",
    "        Parameters\n",
    "        ----------\n",
    "        nu: int\n",
    "            The quantum number nu for the energy level of this system\n",
    "            \n",
    "        Returns\n",
    "        -------\n",
    "        float\n",
    "            Energy of the system in Joules.\n",
    "        \"\"\"\n",
    "        return (nu + 0.5) * self.hbar * self.omega\n",
    "    \n",
    "    def energy_sepration(self):\n",
    "        \"\"\"\n",
    "        Returns\n",
    "        -------\n",
    "        float\n",
    "            The energy difference between adjacent energy levels in Joules.\n",
    "        \"\"\"\n",
    "        return self.hbar * self.omega"
   ]
  },
  {
   "cell_type": "code",
   "execution_count": 20,
   "id": "39de91fb-2825-4fdd-b390-534ab0d260fe",
   "metadata": {},
   "outputs": [
    {
     "data": {
      "text/plain": [
       "34998.02312862746"
      ]
     },
     "execution_count": 20,
     "metadata": {},
     "output_type": "execute_result"
    }
   ],
   "source": [
    "qho = QuantumHarmonicOscillator(mass=1.7e-27, k=516.3)\n",
    "qho.energy_sepration() * 6.022e23"
   ]
  },
  {
   "cell_type": "code",
   "execution_count": null,
   "id": "49580f37-6748-409c-a28e-a416a034f511",
   "metadata": {},
   "outputs": [],
   "source": []
  }
 ],
 "metadata": {
  "kernelspec": {
   "display_name": "Python 3",
   "language": "python",
   "name": "python3"
  },
  "language_info": {
   "codemirror_mode": {
    "name": "ipython",
    "version": 3
   },
   "file_extension": ".py",
   "mimetype": "text/x-python",
   "name": "python",
   "nbconvert_exporter": "python",
   "pygments_lexer": "ipython3",
   "version": "3.9.5"
  }
 },
 "nbformat": 4,
 "nbformat_minor": 5
}
