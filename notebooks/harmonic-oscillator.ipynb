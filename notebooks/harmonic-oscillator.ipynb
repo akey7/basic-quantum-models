{
 "cells": [
  {
   "cell_type": "code",
   "execution_count": 1,
   "id": "bb847f62-27af-4c81-946a-05deb983754d",
   "metadata": {},
   "outputs": [],
   "source": [
    "import numpy as np\n",
    "import matplotlib.pyplot as plt"
   ]
  },
  {
   "cell_type": "markdown",
   "id": "62af02fc-c3cf-4158-a533-2b53ddde2ef5",
   "metadata": {},
   "source": [
    "Define a class for the harmonic oscillator"
   ]
  },
  {
   "cell_type": "code",
   "execution_count": 3,
   "id": "e276256a-c8ad-4512-b3dc-b79aaa80edb7",
   "metadata": {},
   "outputs": [],
   "source": [
    "class HarmonicOscillator:\n",
    "    def hermite(self, n, gamma):\n",
    "        \"\"\"\n",
    "        Returns the value of the nth Hermite polynomial evaluated on gamma\n",
    "        \n",
    "        Parameters\n",
    "        ----------\n",
    "        n: int\n",
    "            The nth Hermite polynomial\n",
    "            \n",
    "        gamma: float\n",
    "            The value to calculate with the Hermite polynomial\n",
    "            \n",
    "        Raises\n",
    "        ------\n",
    "        Exception\n",
    "            Raises an exception if the nth Hermite polynomial is not\n",
    "            supported.\n",
    "        \"\"\"\n",
    "        if n == 0:\n",
    "            return 1\n",
    "        elif n == 1:\n",
    "            return 2 * gamma\n",
    "        elif n == 2:\n",
    "            return 4 * gamma ** 2 - 2\n",
    "        elif n == 3:\n",
    "            return 8 * gamma ** 3 - 12 * gamma\n",
    "        elif n == 4:\n",
    "            return 16 * gamma ** 4 - 48 * gamma ** 2 + 12\n",
    "        elif n == 5:\n",
    "            return 32 * gamma ** 5 - 160 * gamma ** 3 + 120 * gamma\n",
    "        elif n == 6:\n",
    "            return 64 * gamma ** 6 - 480 * gamma ** 4 + 720 * gamma ** 2 - 120\n",
    "        else:\n",
    "            raise Exception(f'Hermite polynomial {n} is not supported')"
   ]
  },
  {
   "cell_type": "code",
   "execution_count": 11,
   "id": "00507dd8-616e-4eea-aff3-644a14c61f55",
   "metadata": {},
   "outputs": [
    {
     "data": {
      "text/plain": [
       "<matplotlib.collections.PathCollection at 0x7f9782ec5cd0>"
      ]
     },
     "execution_count": 11,
     "metadata": {},
     "output_type": "execute_result"
    },
    {
     "data": {
      "image/png": "[encoded data removed]",
      "text/plain": [
       "<Figure size 720x720 with 1 Axes>"
      ]
     },
     "metadata": {
      "needs_background": "light"
     },
     "output_type": "display_data"
    }
   ],
   "source": [
    "ho = HarmonicOscillator()\n",
    "fig, ax = plt.subplots(nrows=1, ncols=1, figsize=(10, 10))\n",
    "xs = np.linspace(-1, 1, 100)\n",
    "ys = [ho.hermite(6, x) for x in xs]\n",
    "ax.scatter(xs, ys)"
   ]
  },
  {
   "cell_type": "code",
   "execution_count": null,
   "id": "39de91fb-2825-4fdd-b390-534ab0d260fe",
   "metadata": {},
   "outputs": [],
   "source": []
  }
 ],
 "metadata": {
  "kernelspec": {
   "display_name": "Python 3",
   "language": "python",
   "name": "python3"
  },
  "language_info": {
   "codemirror_mode": {
    "name": "ipython",
    "version": 3
   },
   "file_extension": ".py",
   "mimetype": "text/x-python",
   "name": "python",
   "nbconvert_exporter": "python",
   "pygments_lexer": "ipython3",
   "version": "3.9.5"
  }
 },
 "nbformat": 4,
 "nbformat_minor": 5
}
