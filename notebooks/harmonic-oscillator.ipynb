{
 "cells": [
  {
   "cell_type": "code",
   "execution_count": 22,
   "id": "bb847f62-27af-4c81-946a-05deb983754d",
   "metadata": {},
   "outputs": [],
   "source": [
    "import numpy as np\n",
    "import matplotlib.pyplot as plt\n",
    "from math import pi, sqrt, exp, factorial"
   ]
  },
  {
   "cell_type": "markdown",
   "id": "62af02fc-c3cf-4158-a533-2b53ddde2ef5",
   "metadata": {},
   "source": [
    "Define a class for the harmonic oscillator"
   ]
  },
  {
   "cell_type": "code",
   "execution_count": 23,
   "id": "e276256a-c8ad-4512-b3dc-b79aaa80edb7",
   "metadata": {},
   "outputs": [],
   "source": [
    "class QuantumHarmonicOscillator:\n",
    "    \"\"\"\n",
    "    This models a harmonic oscillator. Parameters used throughout the methods\n",
    "    are:\n",
    "    \n",
    "    nu: The level of the harmonic oscillator\n",
    "    k: The force constant\n",
    "    m: The mass\n",
    "    \n",
    "    The nomenclature of variable names follows Atkins and de Paula Physical\n",
    "    Chemistry 8th ed.\n",
    "    \"\"\"\n",
    "    \n",
    "    def __init__(self, mass, k):\n",
    "        \"\"\"\n",
    "        Setup the values used by all methods in this model.\n",
    "        \n",
    "        Parameters\n",
    "        ----------\n",
    "        mass: float\n",
    "            The reduced mass of the system, in kg\n",
    "        \n",
    "        k: float\n",
    "            The force constant, in N/m\n",
    "        \"\"\"\n",
    "        self.hbar = 1.054571817e-34\n",
    "        self.k = k\n",
    "        self.mass = mass\n",
    "        self.omega = sqrt(k / mass)\n",
    "    \n",
    "    def hermite(self, nu, gamma):\n",
    "        \"\"\"\n",
    "        Returns the value of the nu-th (nth) Hermite polynomial evaluated on gamma\n",
    "        \n",
    "        The nu and gamma notation follows Atkins' Physical Chemistry 8th ed.\n",
    "        \n",
    "        Parameters\n",
    "        ----------\n",
    "        nu: int\n",
    "            The nu-th (nth) Hermite polynomial\n",
    "            \n",
    "        gamma: float\n",
    "            The value to calculate with the Hermite polynomial\n",
    "            \n",
    "        Returns\n",
    "        -------\n",
    "        float\n",
    "            The value of the nu-th Hermite polynomial evaluated with gamma.\n",
    "            \n",
    "        Raises\n",
    "        ------\n",
    "        Exception\n",
    "            Raises an exception if the nth Hermite polynomial is not\n",
    "            supported.\n",
    "        \"\"\"\n",
    "        if nu == 0:\n",
    "            return 1\n",
    "        elif nu == 1:\n",
    "            return 2 * gamma\n",
    "        elif nu == 2:\n",
    "            return 4 * gamma ** 2 - 2\n",
    "        elif nu == 3:\n",
    "            return 8 * gamma ** 3 - 12 * gamma\n",
    "        elif nu == 4:\n",
    "            return 16 * gamma ** 4 - 48 * gamma ** 2 + 12\n",
    "        elif nu == 5:\n",
    "            return 32 * gamma ** 5 - 160 * gamma ** 3 + 120 * gamma\n",
    "        elif nu == 6:\n",
    "            return 64 * gamma ** 6 - 480 * gamma ** 4 + 720 * gamma ** 2 - 120\n",
    "        else:\n",
    "            raise Exception(f'Hermite polynomial {n} is not supported')\n",
    "    \n",
    "    def energy(self, nu):\n",
    "        \"\"\"\n",
    "        Calculate the energy at the given level nu of the system\n",
    "        \n",
    "        Parameters\n",
    "        ----------\n",
    "        nu: int\n",
    "            The quantum number nu for the energy level of this system\n",
    "            \n",
    "        Returns\n",
    "        -------\n",
    "        float\n",
    "            Energy of the system in Joules.\n",
    "        \"\"\"\n",
    "        return (nu + 0.5) * self.hbar * self.omega\n",
    "    \n",
    "    def energy_sepration(self):\n",
    "        \"\"\"\n",
    "        Returns\n",
    "        -------\n",
    "        float\n",
    "            The energy difference between adjacent energy levels in Joules.\n",
    "        \"\"\"\n",
    "        return self.hbar * self.omega\n",
    "    \n",
    "    def wavefunction(self, nu, x):\n",
    "        \"\"\"\n",
    "        Returns the value of the wavefunction at energy level nu\n",
    "        at coordinate x.\n",
    "        \n",
    "        Parameters\n",
    "        ----------\n",
    "        nu: float\n",
    "            Energy level of the system.\n",
    "            \n",
    "        x: float\n",
    "            x coordinate of the particle in m.\n",
    "            \n",
    "        Returns\n",
    "        -------\n",
    "        float\n",
    "            Value of the wavefunction nu at x.\n",
    "        \"\"\"\n",
    "        alpha = (self.hbar ** 2 / self.mass / self.k) ** 0.25\n",
    "        gamma = x / alpha\n",
    "        normalization = sqrt(1 / (alpha * sqrt(pi) * 2 ** nu * factorial(nu)))\n",
    "        gaussian = exp((-gamma ** 2) / 2)\n",
    "        hermite = self.hermite(nu, gamma)\n",
    "        return normalization * hermite * gaussian"
   ]
  },
  {
   "cell_type": "markdown",
   "id": "a0bd24f6-c270-496e-95e4-c616b0f5144d",
   "metadata": {},
   "source": [
    "Plot some wavefunctions given the 1H35Cl molecule properties."
   ]
  },
  {
   "cell_type": "code",
   "execution_count": 28,
   "id": "49580f37-6748-409c-a28e-a416a034f511",
   "metadata": {},
   "outputs": [
    {
     "data": {
      "text/plain": [
       "[<matplotlib.lines.Line2D at 0x7fe730490d00>]"
      ]
     },
     "execution_count": 28,
     "metadata": {},
     "output_type": "execute_result"
    },
    {
     "data": {
      "image/png": "[encoded data removed]",
      "text/plain": [
       "<Figure size 360x360 with 1 Axes>"
      ]
     },
     "metadata": {
      "needs_background": "light"
     },
     "output_type": "display_data"
    }
   ],
   "source": [
    "k = 516.3\n",
    "mass = 1.7e-27\n",
    "qho = QuantumHarmonicOscillator(k=k, mass=mass)\n",
    "xs = np.linspace(-1e-10, 1e-10, 100)\n",
    "ys = [qho.wavefunction(0, x) for x in xs]\n",
    "fig, ax = plt.subplots(nrows=1, ncols=1, figsize=(5, 5))\n",
    "ax.plot(xs, ys)"
   ]
  },
  {
   "cell_type": "code",
   "execution_count": null,
   "id": "1ef584b3-5a0d-4fbf-bb7b-fe675c0bd1b4",
   "metadata": {},
   "outputs": [],
   "source": []
  }
 ],
 "metadata": {
  "kernelspec": {
   "display_name": "Python 3",
   "language": "python",
   "name": "python3"
  },
  "language_info": {
   "codemirror_mode": {
    "name": "ipython",
    "version": 3
   },
   "file_extension": ".py",
   "mimetype": "text/x-python",
   "name": "python",
   "nbconvert_exporter": "python",
   "pygments_lexer": "ipython3",
   "version": "3.9.5"
  }
 },
 "nbformat": 4,
 "nbformat_minor": 5
}
