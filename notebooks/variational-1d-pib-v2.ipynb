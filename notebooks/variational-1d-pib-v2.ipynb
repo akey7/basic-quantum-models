{
 "cells": [
  {
   "cell_type": "markdown",
   "id": "a31f31b4-882b-4395-89b0-306b6306a4c8",
   "metadata": {},
   "source": [
    "## Variational Integral\n",
    "\n",
    "$$ \\frac{\\int \\phi^{*}\\hat{H}\\phi d \\tau}{\\int \\phi^{*}\\phi d \\tau} \\geqslant E_1 $$\n",
    "\n",
    "This page follows Levine's text *Quantum Chemistry, 7th Ed*, Section 8.1, page 199. On that page, the author describes how to use a trial wavefunction to solve for an approximate energy for a 1-dimensional particle in a box. In this post, I implement the solution using SymPy to evaluate the approximate energy level.\n",
    "\n",
    "## Our system: A one-dimensional particle in a box"
   ]
  },
  {
   "cell_type": "markdown",
   "id": "58fbd8d9-745d-42c0-9438-5ce1c789bb1d",
   "metadata": {},
   "source": [
    "### Exact solution\n",
    "\n",
    "The exact wavefunction and energy levels for the 1-dimensional particle in a box are:\n",
    "\n",
    "$$ \\psi_{n}(x) = \\sqrt{\\frac{2}{l}} \\sin\\Bigl(\\frac{n \\pi x}{l}\\Bigr) $$\n",
    "\n",
    "$$ E_n = \\frac{n^2 h^2}{8 m l^2} $$\n",
    "\n",
    "$$ n = 1, 2, 3, \\dots $$\n",
    "\n",
    "$$ 0 \\leqslant x \\leqslant l $$\n",
    "\n",
    "Where \\\\(E_n\\\\) is entirely kinetic and incorporates no potential energy. At the ground state of \\\\(n = 1\\\\), the energy is:\n",
    "\n",
    "$$ E_1 = \\frac{h^2}{8 m l^2} $$\n",
    "\n",
    "### Exact Hamiltonian\n",
    "\n",
    "The Hamiltonian for the 1-dimensional particle in a box is:\n",
    "\n",
    "$$ \\hat{H} = -\\frac{\\hbar^2}{2 m} \\frac{d^2}{dx^2} $$\n",
    "\n",
    "### Trial Variation Function\n",
    "\n",
    "$$ \\phi = x(l - x) $$\n",
    "\n",
    "Where \\\\(\\phi\\\\) is not normalized.\n",
    "\n",
    "### Note about SymPy notation\n",
    "\n",
    "In its notation SymPy is going to denote \\\\(\\hbar\\\\) by \\\\(h_{bar}\\\\)"
   ]
  },
  {
   "cell_type": "markdown",
   "id": "39fcd186-6036-40cd-868d-3ec6e452626a",
   "metadata": {},
   "source": [
    "## Evaluate the variational integral\n",
    "\n",
    "### Denominator of the variational integral\n",
    "\n",
    "Because our trial is real variation function \\\\(x(l - x)\\\\), the denominator of our variational integral is:\n",
    "\n",
    "$$ \\int \\phi^{*} \\phi d \\tau = \\int_{0}^{l} [x(l - x)]^2 dx $$\n",
    "\n",
    "As evaluated with SymPy:"
   ]
  },
  {
   "cell_type": "code",
   "execution_count": 3,
   "id": "edbbe1d9-0a16-4903-8d7b-6cc8961941f6",
   "metadata": {},
   "outputs": [
    {
     "data": {
      "text/latex": [
       "$\\displaystyle \\frac{l^{5}}{30}$"
      ],
      "text/plain": [
       "l**5/30"
      ]
     },
     "execution_count": 3,
     "metadata": {},
     "output_type": "execute_result"
    }
   ],
   "source": [
    "from sympy import Symbol, symbols, oo, diff, Function, integrate\n",
    "x, l, h_bar, m = symbols('x l h_bar m')\n",
    "denominator = integrate((x*(l-x))**2, (x, 0, l))\n",
    "denominator"
   ]
  },
  {
   "cell_type": "markdown",
   "id": "2c28196e-7ce4-4327-9787-003dfb72c1dd",
   "metadata": {},
   "source": [
    "### Numerator of the variational integral\n",
    "\n",
    "The numerator is more complicated because of the Hamiltonian operator \\\\(\\hat{H}\\\\):\n",
    "\n",
    "$$ \\int \\phi^{*}\\hat{H}\\phi d \\tau = -\\frac{\\hbar^2}{2 m} \\int_{0}^{l} x(l-x) \\Biggl[\\frac{d^2}{dx^2} x (l-x)\\Biggr] dx $$\n",
    "\n",
    "As evaluated with SymPy:"
   ]
  },
  {
   "cell_type": "code",
   "execution_count": 7,
   "id": "95733585-f63f-49be-a418-6eccb642d4a5",
   "metadata": {},
   "outputs": [
    {
     "data": {
      "text/latex": [
       "$\\displaystyle \\frac{h_{bar}^{2} l^{3}}{6 m}$"
      ],
      "text/plain": [
       "h_bar**2*l**3/(6*m)"
      ]
     },
     "execution_count": 7,
     "metadata": {},
     "output_type": "execute_result"
    }
   ],
   "source": [
    "numerator = (-h_bar**2 / (2*m)) * integrate((x*(l - x)) * diff(x*(l - x), x, 2), (x, 0, l))\n",
    "numerator"
   ]
  },
  {
   "cell_type": "markdown",
   "id": "780e3290-537b-4521-9339-2280ca4faec8",
   "metadata": {},
   "source": [
    "### Putting it all together and simplifying\n",
    "\n",
    "$$ \\frac{\\int \\phi^{*}\\hat{H}\\phi d \\tau}{\\int \\phi^{*}\\phi d \\tau} = \\frac{-\\frac{\\hbar^2}{2 m} \\int_{0}^{l} x(l-x) \\bigl[\\frac{d^2}{dx^2} x (l-x)\\bigr] dx}{\\int_{0}^{l} [x(l - x)]^2 dx} = \\frac{\\hbar^2 l^3 / 6 m}{l^5 / 30} = \\frac{5 \\hbar^2}{l^2 m} $$\n",
    "\n",
    "As evaluated with SymPy:"
   ]
  },
  {
   "cell_type": "code",
   "execution_count": 8,
   "id": "b9ab8c09-a678-481f-83e8-a984f9bdd361",
   "metadata": {},
   "outputs": [
    {
     "data": {
      "text/latex": [
       "$\\displaystyle \\frac{5 h_{bar}^{2}}{l^{2} m}$"
      ],
      "text/plain": [
       "5*h_bar**2/(l**2*m)"
      ]
     },
     "execution_count": 8,
     "metadata": {},
     "output_type": "execute_result"
    }
   ],
   "source": [
    "numerator / denominator"
   ]
  },
  {
   "cell_type": "markdown",
   "id": "8ffe5224-cd12-4069-9844-243b89355182",
   "metadata": {},
   "source": [
    "## Comparing variational energy with \n",
    "\n",
    "### Variational energy\n",
    "\n",
    "Recalling that \\\\(\\hbar = h / 2 \\pi\\\\), and with some refactoring, we can rewrite the expression as:\n",
    "\n",
    "$$ \\frac{5 \\hbar^2}{l^2 m} = \\frac{5}{4 \\pi^2} \\frac{h^2}{m l^2} = 0.127 \\frac{h^2}{m l^2} $$\n",
    "\n",
    "### Exact energy\n",
    "\n",
    "$$ \\frac{h^2}{8 m l^2} = \\frac{1}{8} \\frac{h^2}{m l^2} = 0.125 \\frac{h^2}{m l^2} $$\n",
    "\n",
    "As evaluated with plain Python:"
   ]
  },
  {
   "cell_type": "code",
   "execution_count": 9,
   "id": "1c15b579-34e9-4dd3-a7f7-2731a24d0a8d",
   "metadata": {},
   "outputs": [
    {
     "data": {
      "text/plain": [
       "0.12665147984236305"
      ]
     },
     "execution_count": 9,
     "metadata": {},
     "output_type": "execute_result"
    }
   ],
   "source": [
    "5 / 4 / (3.14159265)**2"
   ]
  },
  {
   "cell_type": "code",
   "execution_count": 10,
   "id": "853beecc-0ba7-4e89-a284-957bf4795f0b",
   "metadata": {},
   "outputs": [
    {
     "data": {
      "text/plain": [
       "0.125"
      ]
     },
     "execution_count": 10,
     "metadata": {},
     "output_type": "execute_result"
    }
   ],
   "source": [
    "1 / 8"
   ]
  },
  {
   "cell_type": "code",
   "execution_count": null,
   "id": "60811076-e9cf-4398-bec8-21f35b8714be",
   "metadata": {},
   "outputs": [],
   "source": []
  }
 ],
 "metadata": {
  "kernelspec": {
   "display_name": "Python 3",
   "language": "python",
   "name": "python3"
  },
  "language_info": {
   "codemirror_mode": {
    "name": "ipython",
    "version": 3
   },
   "file_extension": ".py",
   "mimetype": "text/x-python",
   "name": "python",
   "nbconvert_exporter": "python",
   "pygments_lexer": "ipython3",
   "version": "3.9.5"
  }
 },
 "nbformat": 4,
 "nbformat_minor": 5
}
