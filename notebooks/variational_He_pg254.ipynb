{
 "cells": [
  {
   "cell_type": "markdown",
   "id": "f3503888-935b-47e4-b2f4-b072e187fff7",
   "metadata": {},
   "source": [
    "## Pg 254, Eqn 9.62"
   ]
  },
  {
   "cell_type": "code",
   "execution_count": 6,
   "id": "c876d68a-629a-4279-ba1c-ecd29284ef12",
   "metadata": {},
   "outputs": [],
   "source": [
    "from sympy import integrate, diff, symbols, exp, pi, solve"
   ]
  },
  {
   "cell_type": "code",
   "execution_count": 2,
   "id": "55ea413b-3c17-41ad-9a91-555aa09308d9",
   "metadata": {},
   "outputs": [],
   "source": [
    "xi, Z, a0, epsilon0, e = symbols('xi Z a0 epsilon0 e', real=True, positive=True)"
   ]
  },
  {
   "cell_type": "code",
   "execution_count": 4,
   "id": "1171673d-69e7-4fe6-bbe3-b97b7cdca72a",
   "metadata": {},
   "outputs": [
    {
     "data": {
      "text/latex": [
       "$\\displaystyle \\frac{e^{2} \\left(- 2 Z \\xi + \\xi^{2} + 0.625 \\xi\\right)}{4 \\pi a_{0} \\epsilon_{0}}$"
      ],
      "text/plain": [
       "e**2*(-2*Z*xi + xi**2 + 0.625*xi)/(4*pi*a0*epsilon0)"
      ]
     },
     "execution_count": 4,
     "metadata": {},
     "output_type": "execute_result"
    }
   ],
   "source": [
    "variational = (xi**2 - 2*Z*xi + (5/8)*xi) * ((e**2) / (4*pi*epsilon0*a0))\n",
    "variational"
   ]
  },
  {
   "cell_type": "code",
   "execution_count": 5,
   "id": "ceb8c0ee-1299-41d1-80a3-bbd8fa1d2deb",
   "metadata": {},
   "outputs": [
    {
     "data": {
      "text/latex": [
       "$\\displaystyle \\frac{e^{2} \\left(- 2 Z + 2 \\xi + 0.625\\right)}{4 \\pi a_{0} \\epsilon_{0}}$"
      ],
      "text/plain": [
       "e**2*(-2*Z + 2*xi + 0.625)/(4*pi*a0*epsilon0)"
      ]
     },
     "execution_count": 5,
     "metadata": {},
     "output_type": "execute_result"
    }
   ],
   "source": [
    "deriv_variational = diff(variational, xi)\n",
    "deriv_variational"
   ]
  },
  {
   "cell_type": "code",
   "execution_count": 7,
   "id": "fabe1c52-9cc7-4467-99b6-8dd6295744ff",
   "metadata": {},
   "outputs": [
    {
     "data": {
      "text/plain": [
       "[Z - 0.3125]"
      ]
     },
     "execution_count": 7,
     "metadata": {},
     "output_type": "execute_result"
    }
   ],
   "source": [
    "solve(deriv_variational, xi)"
   ]
  },
  {
   "cell_type": "code",
   "execution_count": null,
   "id": "9c799554-fe34-477c-a20f-f69551f478b4",
   "metadata": {},
   "outputs": [],
   "source": []
  }
 ],
 "metadata": {
  "kernelspec": {
   "display_name": "Python 3",
   "language": "python",
   "name": "python3"
  },
  "language_info": {
   "codemirror_mode": {
    "name": "ipython",
    "version": 3
   },
   "file_extension": ".py",
   "mimetype": "text/x-python",
   "name": "python",
   "nbconvert_exporter": "python",
   "pygments_lexer": "ipython3",
   "version": "3.9.5"
  }
 },
 "nbformat": 4,
 "nbformat_minor": 5
}
