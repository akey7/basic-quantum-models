{
 "cells": [
  {
   "cell_type": "code",
   "execution_count": 1,
   "id": "896ccccc-46e4-4ca5-ba3b-8cfb3c38e777",
   "metadata": {},
   "outputs": [],
   "source": [
    "from sympy import symbols, oo, integrate, exp, pi, sin, cos"
   ]
  },
  {
   "cell_type": "markdown",
   "id": "9efc2c45-6f74-43bf-a3e6-d25fc8376aae",
   "metadata": {},
   "source": [
    "## Going to Khan Academy to review fundamentals\n",
    "\n",
    "[https://www.khanacademy.org/math/multivariable-calculus/integrating-multivariable-functions/double-integrals-a/a/double-integrals](https://www.khanacademy.org/math/multivariable-calculus/integrating-multivariable-functions/double-integrals-a/a/double-integrals)"
   ]
  },
  {
   "cell_type": "code",
   "execution_count": 2,
   "id": "b1b0bbe2-561c-451e-b583-a40c8940e91c",
   "metadata": {},
   "outputs": [],
   "source": [
    "x, y = symbols('x y', real=True)"
   ]
  },
  {
   "cell_type": "code",
   "execution_count": 3,
   "id": "afad0ad2-cd39-453f-8dc7-4142d906cbca",
   "metadata": {},
   "outputs": [
    {
     "data": {
      "text/latex": [
       "$\\displaystyle 2.0 \\sin{\\left(y \\right)} + 4.0$"
      ],
      "text/plain": [
       "2.0*sin(y) + 4.0"
      ]
     },
     "execution_count": 3,
     "metadata": {},
     "output_type": "execute_result"
    }
   ],
   "source": [
    "inner = integrate(x+sin(y)+1, (x, 0., 2.))\n",
    "inner"
   ]
  },
  {
   "cell_type": "code",
   "execution_count": 4,
   "id": "0e254529-c329-4295-b5f2-98590da662d6",
   "metadata": {},
   "outputs": [
    {
     "data": {
      "text/latex": [
       "$\\displaystyle 8.0 \\pi$"
      ],
      "text/plain": [
       "8.0*pi"
      ]
     },
     "execution_count": 4,
     "metadata": {},
     "output_type": "execute_result"
    }
   ],
   "source": [
    "outer = integrate(inner, (y, -pi, pi))\n",
    "outer"
   ]
  },
  {
   "cell_type": "code",
   "execution_count": 5,
   "id": "2fc677ff-87d4-4fa3-af8b-5d06e18d09af",
   "metadata": {},
   "outputs": [
    {
     "data": {
      "text/latex": [
       "$\\displaystyle 2 \\pi x + 2 \\pi$"
      ],
      "text/plain": [
       "2*pi*x + 2*pi"
      ]
     },
     "execution_count": 5,
     "metadata": {},
     "output_type": "execute_result"
    }
   ],
   "source": [
    "inner = integrate(x+sin(y)+1, (y, -pi, pi))\n",
    "inner"
   ]
  },
  {
   "cell_type": "code",
   "execution_count": 6,
   "id": "d06624b0-f5a7-4f63-9c25-e53e1cf39108",
   "metadata": {},
   "outputs": [
    {
     "data": {
      "text/latex": [
       "$\\displaystyle 8.0 \\pi$"
      ],
      "text/plain": [
       "8.0*pi"
      ]
     },
     "execution_count": 6,
     "metadata": {},
     "output_type": "execute_result"
    }
   ],
   "source": [
    "outer = integrate(inner, (x, 0., 2.))\n",
    "outer"
   ]
  },
  {
   "cell_type": "code",
   "execution_count": 8,
   "id": "6ea39177-916f-44bf-b9cb-5fc89c821488",
   "metadata": {},
   "outputs": [
    {
     "data": {
      "text/latex": [
       "$\\displaystyle 0.666666666666667 \\cos{\\left(y \\right)} + 2.0$"
      ],
      "text/plain": [
       "0.666666666666667*cos(y) + 2.0"
      ]
     },
     "execution_count": 8,
     "metadata": {},
     "output_type": "execute_result"
    }
   ],
   "source": [
    "inner = integrate(cos(y)*x**2+1, (x, -1., 1.))\n",
    "inner"
   ]
  },
  {
   "cell_type": "code",
   "execution_count": 9,
   "id": "35741715-c58c-43ab-8753-b5c51072cf04",
   "metadata": {},
   "outputs": [
    {
     "data": {
      "text/latex": [
       "$\\displaystyle 4.0 \\pi$"
      ],
      "text/plain": [
       "4.0*pi"
      ]
     },
     "execution_count": 9,
     "metadata": {},
     "output_type": "execute_result"
    }
   ],
   "source": [
    "outer = integrate(inner, (y, -pi, pi))\n",
    "outer"
   ]
  },
  {
   "cell_type": "code",
   "execution_count": null,
   "id": "010f0022-e61f-4d96-84d2-9097d00c8eae",
   "metadata": {},
   "outputs": [],
   "source": []
  }
 ],
 "metadata": {
  "kernelspec": {
   "display_name": "Python 3",
   "language": "python",
   "name": "python3"
  },
  "language_info": {
   "codemirror_mode": {
    "name": "ipython",
    "version": 3
   },
   "file_extension": ".py",
   "mimetype": "text/x-python",
   "name": "python",
   "nbconvert_exporter": "python",
   "pygments_lexer": "ipython3",
   "version": "3.9.5"
  }
 },
 "nbformat": 4,
 "nbformat_minor": 5
}
