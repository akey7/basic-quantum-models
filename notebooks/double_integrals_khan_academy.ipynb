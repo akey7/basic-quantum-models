{
 "cells": [
  {
   "cell_type": "code",
   "execution_count": 1,
   "id": "896ccccc-46e4-4ca5-ba3b-8cfb3c38e777",
   "metadata": {},
   "outputs": [],
   "source": [
    "from sympy import symbols, oo, integrate, exp, pi, sin, cos, sqrt"
   ]
  },
  {
   "cell_type": "markdown",
   "id": "9efc2c45-6f74-43bf-a3e6-d25fc8376aae",
   "metadata": {},
   "source": [
    "## Going to Khan Academy to review fundamentals\n",
    "\n",
    "[https://www.khanacademy.org/math/multivariable-calculus/integrating-multivariable-functions/double-integrals-a/a/double-integrals](https://www.khanacademy.org/math/multivariable-calculus/integrating-multivariable-functions/double-integrals-a/a/double-integrals)"
   ]
  },
  {
   "cell_type": "code",
   "execution_count": 2,
   "id": "b1b0bbe2-561c-451e-b583-a40c8940e91c",
   "metadata": {},
   "outputs": [],
   "source": [
    "x, y = symbols('x y', real=True)"
   ]
  },
  {
   "cell_type": "code",
   "execution_count": 3,
   "id": "afad0ad2-cd39-453f-8dc7-4142d906cbca",
   "metadata": {},
   "outputs": [
    {
     "data": {
      "text/latex": [
       "$\\displaystyle 2.0 \\sin{\\left(y \\right)} + 4.0$"
      ],
      "text/plain": [
       "2.0*sin(y) + 4.0"
      ]
     },
     "execution_count": 3,
     "metadata": {},
     "output_type": "execute_result"
    }
   ],
   "source": [
    "inner = integrate(x+sin(y)+1, (x, 0., 2.))\n",
    "inner"
   ]
  },
  {
   "cell_type": "code",
   "execution_count": 4,
   "id": "0e254529-c329-4295-b5f2-98590da662d6",
   "metadata": {},
   "outputs": [
    {
     "data": {
      "text/latex": [
       "$\\displaystyle 8.0 \\pi$"
      ],
      "text/plain": [
       "8.0*pi"
      ]
     },
     "execution_count": 4,
     "metadata": {},
     "output_type": "execute_result"
    }
   ],
   "source": [
    "outer = integrate(inner, (y, -pi, pi))\n",
    "outer"
   ]
  },
  {
   "cell_type": "code",
   "execution_count": 5,
   "id": "2fc677ff-87d4-4fa3-af8b-5d06e18d09af",
   "metadata": {},
   "outputs": [
    {
     "data": {
      "text/latex": [
       "$\\displaystyle 2 \\pi x + 2 \\pi$"
      ],
      "text/plain": [
       "2*pi*x + 2*pi"
      ]
     },
     "execution_count": 5,
     "metadata": {},
     "output_type": "execute_result"
    }
   ],
   "source": [
    "inner = integrate(x+sin(y)+1, (y, -pi, pi))\n",
    "inner"
   ]
  },
  {
   "cell_type": "code",
   "execution_count": 6,
   "id": "d06624b0-f5a7-4f63-9c25-e53e1cf39108",
   "metadata": {},
   "outputs": [
    {
     "data": {
      "text/latex": [
       "$\\displaystyle 8.0 \\pi$"
      ],
      "text/plain": [
       "8.0*pi"
      ]
     },
     "execution_count": 6,
     "metadata": {},
     "output_type": "execute_result"
    }
   ],
   "source": [
    "outer = integrate(inner, (x, 0., 2.))\n",
    "outer"
   ]
  },
  {
   "cell_type": "code",
   "execution_count": 7,
   "id": "6ea39177-916f-44bf-b9cb-5fc89c821488",
   "metadata": {},
   "outputs": [
    {
     "data": {
      "text/latex": [
       "$\\displaystyle 0.666666666666667 \\cos{\\left(y \\right)} + 2.0$"
      ],
      "text/plain": [
       "0.666666666666667*cos(y) + 2.0"
      ]
     },
     "execution_count": 7,
     "metadata": {},
     "output_type": "execute_result"
    }
   ],
   "source": [
    "inner = integrate(cos(y)*x**2+1, (x, -1., 1.))\n",
    "inner"
   ]
  },
  {
   "cell_type": "code",
   "execution_count": 8,
   "id": "35741715-c58c-43ab-8753-b5c51072cf04",
   "metadata": {},
   "outputs": [
    {
     "data": {
      "text/latex": [
       "$\\displaystyle 4.0 \\pi$"
      ],
      "text/plain": [
       "4.0*pi"
      ]
     },
     "execution_count": 8,
     "metadata": {},
     "output_type": "execute_result"
    }
   ],
   "source": [
    "outer = integrate(inner, (y, -pi, pi))\n",
    "outer"
   ]
  },
  {
   "cell_type": "markdown",
   "id": "bd3cc40c-6380-450f-9f28-b69468d881d8",
   "metadata": {},
   "source": [
    "[https://www.khanacademy.org/math/multivariable-calculus/integrating-multivariable-functions/double-integrals-a/a/double-integrals-over-non-rectangular-regions](https://www.khanacademy.org/math/multivariable-calculus/integrating-multivariable-functions/double-integrals-a/a/double-integrals-over-non-rectangular-regions)"
   ]
  },
  {
   "cell_type": "code",
   "execution_count": 9,
   "id": "2d4dc9a1-1ee8-4d83-94d4-8591af419a98",
   "metadata": {},
   "outputs": [
    {
     "data": {
      "text/latex": [
       "$\\displaystyle \\frac{x^{4}}{3}$"
      ],
      "text/plain": [
       "x**4/3"
      ]
     },
     "execution_count": 9,
     "metadata": {},
     "output_type": "execute_result"
    }
   ],
   "source": [
    "inner = integrate(x*y**2, (y, 0, x))\n",
    "inner"
   ]
  },
  {
   "cell_type": "code",
   "execution_count": 10,
   "id": "93dba775-44d1-4115-ad88-d458ac440242",
   "metadata": {},
   "outputs": [
    {
     "data": {
      "text/latex": [
       "$\\displaystyle 2.13333333333333$"
      ],
      "text/plain": [
       "2.13333333333333"
      ]
     },
     "execution_count": 10,
     "metadata": {},
     "output_type": "execute_result"
    }
   ],
   "source": [
    "outer = integrate(x**4/3., (x, 0., 2.))\n",
    "outer"
   ]
  },
  {
   "cell_type": "code",
   "execution_count": 11,
   "id": "46ff9b78-03eb-4462-99bc-898af2849022",
   "metadata": {},
   "outputs": [
    {
     "data": {
      "text/latex": [
       "$\\displaystyle 2 \\sqrt{1 - x^{2}} \\left(3 - x^{2}\\right)$"
      ],
      "text/plain": [
       "2*sqrt(1 - x**2)*(3 - x**2)"
      ]
     },
     "execution_count": 11,
     "metadata": {},
     "output_type": "execute_result"
    }
   ],
   "source": [
    "lower = -sqrt(1-x**2)\n",
    "upper = sqrt(1-x**2)\n",
    "integrate(3+y-x**2, (y, lower, upper))"
   ]
  },
  {
   "cell_type": "code",
   "execution_count": 14,
   "id": "335031af-ce63-4fd8-8957-7adcba65a2d9",
   "metadata": {},
   "outputs": [
    {
     "data": {
      "text/latex": [
       "$\\displaystyle - \\frac{y^{4}}{2} - 2 y^{3} + 2 y \\left(y + 2\\right) + \\frac{\\left(y + 2\\right)^{2}}{2}$"
      ],
      "text/plain": [
       "-y**4/2 - 2*y**3 + 2*y*(y + 2) + (y + 2)**2/2"
      ]
     },
     "execution_count": 14,
     "metadata": {},
     "output_type": "execute_result"
    }
   ],
   "source": [
    "upper = y+2\n",
    "lower = y**2\n",
    "inner = integrate(x+2*y, (x, lower, upper))\n",
    "inner"
   ]
  },
  {
   "cell_type": "code",
   "execution_count": 15,
   "id": "92450701-d9c0-4888-8de6-171bb094c56e",
   "metadata": {},
   "outputs": [
    {
     "data": {
      "text/latex": [
       "$\\displaystyle 11.4666666666667$"
      ],
      "text/plain": [
       "11.4666666666667"
      ]
     },
     "execution_count": 15,
     "metadata": {},
     "output_type": "execute_result"
    }
   ],
   "source": [
    "outer = integrate(inner, (y, 0., 2.))\n",
    "outer"
   ]
  },
  {
   "cell_type": "markdown",
   "id": "13d98e6a-f3d5-4389-80e2-f69e80b97248",
   "metadata": {},
   "source": [
    "[https://www.khanacademy.org/math/multivariable-calculus/integrating-multivariable-functions/double-integrals-a/a/double-integrals-in-polar-coordinates](https://www.khanacademy.org/math/multivariable-calculus/integrating-multivariable-functions/double-integrals-a/a/double-integrals-in-polar-coordinates)"
   ]
  },
  {
   "cell_type": "code",
   "execution_count": 16,
   "id": "c4e6359c-351c-4945-ad7b-701e9c50a824",
   "metadata": {},
   "outputs": [],
   "source": [
    "r, theta = symbols('r theta', real=True, positive=True)"
   ]
  },
  {
   "cell_type": "code",
   "execution_count": 18,
   "id": "60559a38-4809-4979-8d3c-b5d12f165c9e",
   "metadata": {},
   "outputs": [
    {
     "data": {
      "text/latex": [
       "$\\displaystyle 2 \\pi r^{3}$"
      ],
      "text/plain": [
       "2*pi*r**3"
      ]
     },
     "execution_count": 18,
     "metadata": {},
     "output_type": "execute_result"
    }
   ],
   "source": [
    "inner = integrate(r**3, (theta, 0, 2*pi))\n",
    "inner"
   ]
  },
  {
   "cell_type": "code",
   "execution_count": 19,
   "id": "d9d7adb8-917e-4729-9cdd-fa77ba86bbbd",
   "metadata": {},
   "outputs": [
    {
     "data": {
      "text/latex": [
       "$\\displaystyle 8.0 \\pi$"
      ],
      "text/plain": [
       "8.0*pi"
      ]
     },
     "execution_count": 19,
     "metadata": {},
     "output_type": "execute_result"
    }
   ],
   "source": [
    "outer = integrate(inner, (r, 0., 2.))\n",
    "outer"
   ]
  },
  {
   "cell_type": "code",
   "execution_count": 20,
   "id": "d4bac3f7-3c99-4971-bb90-784edb322a90",
   "metadata": {},
   "outputs": [
    {
     "data": {
      "text/latex": [
       "$\\displaystyle \\frac{\\sin{\\left(\\theta \\right)} \\cos^{3}{\\left(2 \\theta \\right)}}{3}$"
      ],
      "text/plain": [
       "sin(theta)*cos(2*theta)**3/3"
      ]
     },
     "execution_count": 20,
     "metadata": {},
     "output_type": "execute_result"
    }
   ],
   "source": [
    "inner = integrate(r**2*sin(theta), (r, 0., cos(2*theta)))\n",
    "inner"
   ]
  },
  {
   "cell_type": "code",
   "execution_count": 21,
   "id": "8fa609cc-b9b5-45a4-87d5-504cfc1ff5be",
   "metadata": {},
   "outputs": [
    {
     "data": {
      "text/latex": [
       "$\\displaystyle 0$"
      ],
      "text/plain": [
       "0"
      ]
     },
     "execution_count": 21,
     "metadata": {},
     "output_type": "execute_result"
    }
   ],
   "source": [
    "outer = integrate(inner, (theta, 0., 2*pi))\n",
    "outer"
   ]
  },
  {
   "cell_type": "code",
   "execution_count": null,
   "id": "397cdac1-91b8-4bf8-bb3d-1daffd1d4eae",
   "metadata": {},
   "outputs": [],
   "source": []
  }
 ],
 "metadata": {
  "kernelspec": {
   "display_name": "Python 3",
   "language": "python",
   "name": "python3"
  },
  "language_info": {
   "codemirror_mode": {
    "name": "ipython",
    "version": 3
   },
   "file_extension": ".py",
   "mimetype": "text/x-python",
   "name": "python",
   "nbconvert_exporter": "python",
   "pygments_lexer": "ipython3",
   "version": "3.9.5"
  }
 },
 "nbformat": 4,
 "nbformat_minor": 5
}
